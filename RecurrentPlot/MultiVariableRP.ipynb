{
 "cells": [
  {
   "cell_type": "code",
   "execution_count": 1,
   "id": "d512a1f8",
   "metadata": {},
   "outputs": [
    {
     "data": {
      "image/png": "[encoded data removed]",
      "text/plain": [
       "<Figure size 360x360 with 1 Axes>"
      ]
     },
     "metadata": {
      "needs_background": "light"
     },
     "output_type": "display_data"
    }
   ],
   "source": [
    "# Author: Johann Faouzi <johann.faouzi@gmail.com>\n",
    "# License: BSD-3-Clause\n",
    "\n",
    "##\n",
    "##\n",
    "\n",
    "import matplotlib.pyplot as plt\n",
    "from pyts.multivariate.image import JointRecurrencePlot\n",
    "from pyts.datasets import load_basic_motions\n",
    "\n",
    "X, _, _, _ = load_basic_motions(return_X_y=True)\n",
    "\n",
    "# Recurrence plot transformation\n",
    "jrp = JointRecurrencePlot(threshold='point', percentage=50)\n",
    "X_jrp = jrp.fit_transform(X)\n",
    "\n",
    "# Show the results for the first time series\n",
    "plt.figure(figsize=(5, 5))\n",
    "plt.imshow(X_jrp[0], cmap='binary', origin='lower')\n",
    "plt.title('Joint Recurrence Plot', fontsize=18)\n",
    "plt.tight_layout()\n",
    "plt.show()"
   ]
  },
  {
   "cell_type": "code",
   "execution_count": null,
   "id": "a675403b",
   "metadata": {},
   "outputs": [],
   "source": []
  }
 ],
 "metadata": {
  "kernelspec": {
   "display_name": "Python 3 (ipykernel)",
   "language": "python",
   "name": "python3"
  },
  "language_info": {
   "codemirror_mode": {
    "name": "ipython",
    "version": 3
   },
   "file_extension": ".py",
   "mimetype": "text/x-python",
   "name": "python",
   "nbconvert_exporter": "python",
   "pygments_lexer": "ipython3",
   "version": "3.9.5"
  }
 },
 "nbformat": 4,
 "nbformat_minor": 5
}
