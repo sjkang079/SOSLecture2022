{
 "cells": [
  {
   "cell_type": "code",
   "execution_count": 2,
   "id": "f5b4f207",
   "metadata": {},
   "outputs": [],
   "source": [
    "import tensorflow as tf\n",
    "import numpy as np\n",
    "from tensorflow import keras\n",
    "\n",
    "#for tensorboard\n",
    "from tensorflow.keras.callbacks import TensorBoard\n",
    "tensorboard_callback = TensorBoard('./MLPlogdir')\n",
    "\n"
   ]
  },
  {
   "cell_type": "code",
   "execution_count": 4,
   "id": "eb2beb4f",
   "metadata": {},
   "outputs": [
    {
     "name": "stdout",
     "output_type": "stream",
     "text": [
      "60000 train samples\n",
      "10000 test samples\n",
      "Model: \"sequential_2\"\n",
      "_________________________________________________________________\n",
      " Layer (type)                Output Shape              Param #   \n",
      "=================================================================\n",
      " dense_layer (Dense)         (None, 128)               100480    \n",
      "                                                                 \n",
      " dropout_4 (Dropout)         (None, 128)               0         \n",
      "                                                                 \n",
      " dense_layer_2 (Dense)       (None, 128)               16512     \n",
      "                                                                 \n",
      " dropout_5 (Dropout)         (None, 128)               0         \n",
      "                                                                 \n",
      " dense_layer_3 (Dense)       (None, 10)                1290      \n",
      "                                                                 \n",
      "=================================================================\n",
      "Total params: 118,282\n",
      "Trainable params: 118,282\n",
      "Non-trainable params: 0\n",
      "_________________________________________________________________\n",
      "Epoch 1/20\n",
      "  1/375 [..............................] - ETA: 2:03 - loss: 2.3993 - accuracy: 0.0547"
     ]
    },
    {
     "name": "stderr",
     "output_type": "stream",
     "text": [
      "2022-09-14 13:41:35.145356: I tensorflow/core/grappler/optimizers/custom_graph_optimizer_registry.cc:113] Plugin optimizer for device_type GPU is enabled.\n"
     ]
    },
    {
     "name": "stdout",
     "output_type": "stream",
     "text": [
      "372/375 [============================>.] - ETA: 0s - loss: 0.4623 - accuracy: 0.8621"
     ]
    },
    {
     "name": "stderr",
     "output_type": "stream",
     "text": [
      "2022-09-14 13:41:38.034054: I tensorflow/core/grappler/optimizers/custom_graph_optimizer_registry.cc:113] Plugin optimizer for device_type GPU is enabled.\n"
     ]
    },
    {
     "name": "stdout",
     "output_type": "stream",
     "text": [
      "375/375 [==============================] - 4s 9ms/step - loss: 0.4608 - accuracy: 0.8625 - val_loss: 0.1796 - val_accuracy: 0.9492\n",
      "Epoch 2/20\n",
      "375/375 [==============================] - 3s 8ms/step - loss: 0.2077 - accuracy: 0.9381 - val_loss: 0.1300 - val_accuracy: 0.9627\n",
      "Epoch 3/20\n",
      "375/375 [==============================] - 3s 8ms/step - loss: 0.1576 - accuracy: 0.9527 - val_loss: 0.1149 - val_accuracy: 0.9669\n",
      "Epoch 4/20\n",
      "375/375 [==============================] - 3s 8ms/step - loss: 0.1343 - accuracy: 0.9603 - val_loss: 0.1053 - val_accuracy: 0.9684\n",
      "Epoch 5/20\n",
      "375/375 [==============================] - 3s 8ms/step - loss: 0.1153 - accuracy: 0.9653 - val_loss: 0.1023 - val_accuracy: 0.9699\n",
      "Epoch 6/20\n",
      "375/375 [==============================] - 3s 8ms/step - loss: 0.1036 - accuracy: 0.9698 - val_loss: 0.1018 - val_accuracy: 0.9719\n",
      "Epoch 7/20\n",
      "375/375 [==============================] - 3s 8ms/step - loss: 0.0927 - accuracy: 0.9713 - val_loss: 0.0911 - val_accuracy: 0.9737\n",
      "Epoch 8/20\n",
      "375/375 [==============================] - 3s 8ms/step - loss: 0.0870 - accuracy: 0.9732 - val_loss: 0.0929 - val_accuracy: 0.9737\n",
      "Epoch 9/20\n",
      "375/375 [==============================] - 3s 8ms/step - loss: 0.0830 - accuracy: 0.9760 - val_loss: 0.0937 - val_accuracy: 0.9750\n",
      "Epoch 10/20\n",
      "375/375 [==============================] - 3s 8ms/step - loss: 0.0756 - accuracy: 0.9771 - val_loss: 0.0922 - val_accuracy: 0.9760\n",
      "Epoch 11/20\n",
      "375/375 [==============================] - 3s 8ms/step - loss: 0.0711 - accuracy: 0.9779 - val_loss: 0.0971 - val_accuracy: 0.9753\n",
      "Epoch 12/20\n",
      "375/375 [==============================] - 3s 8ms/step - loss: 0.0677 - accuracy: 0.9796 - val_loss: 0.0922 - val_accuracy: 0.9772\n",
      "Epoch 13/20\n",
      "375/375 [==============================] - 3s 8ms/step - loss: 0.0662 - accuracy: 0.9800 - val_loss: 0.0915 - val_accuracy: 0.9774\n",
      "Epoch 14/20\n",
      "375/375 [==============================] - 3s 8ms/step - loss: 0.0618 - accuracy: 0.9801 - val_loss: 0.1014 - val_accuracy: 0.9772\n",
      "Epoch 15/20\n",
      "375/375 [==============================] - 3s 9ms/step - loss: 0.0611 - accuracy: 0.9813 - val_loss: 0.0920 - val_accuracy: 0.9784\n",
      "Epoch 16/20\n",
      "375/375 [==============================] - 3s 9ms/step - loss: 0.0569 - accuracy: 0.9827 - val_loss: 0.1039 - val_accuracy: 0.9757\n",
      "Epoch 17/20\n",
      "375/375 [==============================] - 3s 9ms/step - loss: 0.0555 - accuracy: 0.9835 - val_loss: 0.1044 - val_accuracy: 0.9779\n",
      "Epoch 18/20\n",
      "375/375 [==============================] - 3s 9ms/step - loss: 0.0521 - accuracy: 0.9840 - val_loss: 0.1019 - val_accuracy: 0.9779\n",
      "Epoch 19/20\n",
      "375/375 [==============================] - 3s 9ms/step - loss: 0.0508 - accuracy: 0.9846 - val_loss: 0.1033 - val_accuracy: 0.9783\n",
      "Epoch 20/20\n",
      "375/375 [==============================] - 3s 8ms/step - loss: 0.0500 - accuracy: 0.9847 - val_loss: 0.1051 - val_accuracy: 0.9768\n",
      "313/313 [==============================] - 2s 6ms/step - loss: 0.0958 - accuracy: 0.9782\n",
      "Test accuracy: 0.9782000184059143\n"
     ]
    },
    {
     "name": "stderr",
     "output_type": "stream",
     "text": [
      "2022-09-14 13:42:39.821269: I tensorflow/core/grappler/optimizers/custom_graph_optimizer_registry.cc:113] Plugin optimizer for device_type GPU is enabled.\n"
     ]
    }
   ],
   "source": [
    "\n",
    "# network and training\n",
    "#EPOCHS = 50\n",
    "EPOCHS = 20\n",
    "BATCH_SIZE = 128\n",
    "VERBOSE = 1\n",
    "NB_CLASSES = 10   # number of outputs = number of digits\n",
    "N_HIDDEN = 128\n",
    "VALIDATION_SPLIT=0.2 # how much TRAIN is reserved for VALIDATION\n",
    "DROPOUT = 0.3\n",
    "\n",
    "# loading MNIST dataset\n",
    "# verify\n",
    "# the split between train and test is 60,000, and 10,000 respectly \n",
    "# one-hot is automatically applied\n",
    "mnist = keras.datasets.mnist\n",
    "(X_train, Y_train), (X_test, Y_test) = mnist.load_data()\n",
    "\n",
    "#X_train is 60000 rows of 28x28 values --> reshaped in 60000 x 784\n",
    "RESHAPED = 784\n",
    "#\n",
    "X_train = X_train.reshape(60000, RESHAPED)\n",
    "X_test = X_test.reshape(10000, RESHAPED)\n",
    "X_train = X_train.astype('float32')\n",
    "X_test = X_test.astype('float32')\n",
    "\n",
    "#normalize in [0,1]\n",
    "X_train, X_test = X_train / 255.0, X_test / 255.0\n",
    "print(X_train.shape[0], 'train samples')\n",
    "print(X_test.shape[0], 'test samples')\n",
    "\n",
    "#one-hot\n",
    "Y_train = tf.keras.utils.to_categorical(Y_train, NB_CLASSES)\n",
    "Y_test = tf.keras.utils.to_categorical(Y_test, NB_CLASSES)\n",
    "\n",
    "#build the model\n",
    "model = tf.keras.models.Sequential()\n",
    "model.add(keras.layers.Dense(N_HIDDEN,\n",
    "   \t\tinput_shape=(RESHAPED,),\n",
    "   \t\tname='dense_layer', activation='relu'))\n",
    "model.add(keras.layers.Dropout(DROPOUT))\n",
    "model.add(keras.layers.Dense(N_HIDDEN,\n",
    "   \t\tname='dense_layer_2', activation='relu'))\n",
    "model.add(keras.layers.Dropout(DROPOUT))\n",
    "model.add(keras.layers.Dense(NB_CLASSES,\n",
    "   \t\tname='dense_layer_3', activation='softmax'))\n",
    "\n",
    "# summary of the model\n",
    "model.summary()\n",
    "\n",
    "# compiling the model\n",
    "model.compile(optimizer='RMSProp', \n",
    "              loss='categorical_crossentropy',\n",
    "              metrics=['accuracy'])\n",
    "\n",
    "#training the moodel\n",
    "model.fit(X_train, Y_train,\n",
    "\t\tbatch_size=BATCH_SIZE, epochs=EPOCHS,\n",
    "\t\tverbose=VERBOSE, validation_split=VALIDATION_SPLIT,\n",
    "\t\tcallbacks=[tensorboard_callback])\n",
    "\n",
    "#evalute the model\n",
    "test_loss, test_acc = model.evaluate(X_test, Y_test)\n",
    "print('Test accuracy:', test_acc)\n",
    "\n"
   ]
  },
  {
   "cell_type": "code",
   "execution_count": 8,
   "id": "0023581f",
   "metadata": {
    "scrolled": true
   },
   "outputs": [
    {
     "name": "stdout",
     "output_type": "stream",
     "text": [
      "[[5.9585581e-16 1.5141652e-12 1.4124441e-08 ... 9.9999976e-01\n",
      "  1.8066938e-14 4.2259880e-09]\n",
      " [3.6757040e-19 3.6671842e-12 1.0000000e+00 ... 1.0780416e-17\n",
      "  3.5344898e-19 2.4736943e-27]\n",
      " [2.4811212e-11 9.9999487e-01 1.7446400e-06 ... 2.9671562e-06\n",
      "  3.2657260e-07 1.2188958e-09]\n",
      " ...\n",
      " [4.1024840e-17 4.8439638e-12 4.8753302e-14 ... 7.9591418e-09\n",
      "  1.4274565e-10 3.0425596e-07]\n",
      " [1.8987277e-21 3.5913679e-22 6.2606904e-22 ... 2.2135408e-20\n",
      "  4.1157073e-13 3.3522415e-20]\n",
      " [2.9158220e-19 1.7863006e-25 3.1234408e-18 ... 3.2333448e-27\n",
      "  1.1930774e-19 3.3929460e-23]]\n"
     ]
    }
   ],
   "source": [
    "# making prediction\n",
    "predictions = model.predict(X_test)\n",
    "print(predictions)"
   ]
  },
  {
   "cell_type": "code",
   "execution_count": null,
   "id": "009d28c8",
   "metadata": {},
   "outputs": [],
   "source": []
  }
 ],
 "metadata": {
  "kernelspec": {
   "display_name": "Python 3 (ipykernel)",
   "language": "python",
   "name": "python3"
  },
  "language_info": {
   "codemirror_mode": {
    "name": "ipython",
    "version": 3
   },
   "file_extension": ".py",
   "mimetype": "text/x-python",
   "name": "python",
   "nbconvert_exporter": "python",
   "pygments_lexer": "ipython3",
   "version": "3.9.5"
  }
 },
 "nbformat": 4,
 "nbformat_minor": 5
}
