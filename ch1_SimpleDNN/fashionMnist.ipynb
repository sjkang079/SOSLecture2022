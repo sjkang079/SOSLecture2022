{
 "cells": [
  {
   "cell_type": "code",
   "execution_count": 1,
   "id": "323c9e49",
   "metadata": {},
   "outputs": [
    {
     "data": {
      "image/png": "[encoded data removed]",
      "text/plain": [
       "<Figure size 432x288 with 2 Axes>"
      ]
     },
     "metadata": {
      "needs_background": "light"
     },
     "output_type": "display_data"
    }
   ],
   "source": [
    "import tensorflow as tf \n",
    "from tensorflow import keras\n",
    "\n",
    "\n",
    "class myCallback(tf.keras.callbacks.Callback):\n",
    "  def on_epoch_end(self, epoch, logs={}):\n",
    "    if(logs.get('accuracy')>0.95):\n",
    "      print(\"\\nReached 95% accuracy so cancelling training!\")\n",
    "      self.model.stop_training = True\n",
    "        \n",
    "callbacks = myCallback()\n",
    "\n",
    "#get Train data    \n",
    "fashion_mnist = keras.datasets.fashion_mnist\n",
    "(train_images, train_labels),(test_images,test_labels) = fashion_mnist.load_data()\n",
    "\n",
    "##class_names = ['T-shirt/top', 'Trouser', 'Pullover', 'Dress', 'Coat', 'Sandal', 'Shirt', 'Sneaker', 'Bag', 'Ankle boot’] \n",
    "\n",
    "#normalize the data\n",
    "train_images = train_images/255.0  \n",
    "test_images = test_images/255.0 \n",
    "\n",
    "import matplotlib.pyplot as plt \n",
    "plt.gca().grid(False) \n",
    "plt.imshow(test_images[9], cmap=plt.cm.binary) \n",
    "plt.colorbar() \n",
    "plt.show() \n"
   ]
  },
  {
   "cell_type": "code",
   "execution_count": 37,
   "id": "f66fe376",
   "metadata": {},
   "outputs": [],
   "source": [
    "model = tf.keras.models.Sequential([tf.keras.layers.Flatten(input_shape=(28,28)),\n",
    "                                    tf.keras.layers.Dense(256, activation=tf.nn.relu),\n",
    "                                    tf.keras.layers.Dropout(0.2),\n",
    "                                    tf.keras.layers.Dense(128, activation=tf.nn.relu),\n",
    "                                    tf.keras.layers.Dropout(0.2),\n",
    "                                    tf.keras.layers.Dense(64, activation=tf.nn.relu),\n",
    "                                    tf.keras.layers.Dropout(0.2),\n",
    "                                    tf.keras.layers.Dense(10, activation=tf.nn.softmax)])\n",
    "\n",
    "model.compile(optimizer='adam',\n",
    "              loss='sparse_categorical_crossentropy',\n",
    "              metrics=['accuracy'])"
   ]
  },
  {
   "cell_type": "code",
   "execution_count": 38,
   "id": "cfaaa632",
   "metadata": {},
   "outputs": [
    {
     "name": "stdout",
     "output_type": "stream",
     "text": [
      "Epoch 1/50\n",
      "  20/1875 [..............................] - ETA: 9s - loss: 1.9380 - accuracy: 0.3422  "
     ]
    },
    {
     "name": "stderr",
     "output_type": "stream",
     "text": [
      "2022-09-14 14:56:58.061706: I tensorflow/core/grappler/optimizers/custom_graph_optimizer_registry.cc:113] Plugin optimizer for device_type GPU is enabled.\n"
     ]
    },
    {
     "name": "stdout",
     "output_type": "stream",
     "text": [
      "1875/1875 [==============================] - 10s 5ms/step - loss: 0.5623 - accuracy: 0.8012\n",
      "Epoch 2/50\n",
      "1875/1875 [==============================] - 9s 5ms/step - loss: 0.4090 - accuracy: 0.8518\n",
      "Epoch 3/50\n",
      "1875/1875 [==============================] - 9s 5ms/step - loss: 0.3714 - accuracy: 0.8652\n",
      "Epoch 4/50\n",
      "1875/1875 [==============================] - 9s 5ms/step - loss: 0.3506 - accuracy: 0.8705\n",
      "Epoch 5/50\n",
      "1875/1875 [==============================] - 9s 5ms/step - loss: 0.3330 - accuracy: 0.8774\n",
      "Epoch 6/50\n",
      "1875/1875 [==============================] - 9s 5ms/step - loss: 0.3204 - accuracy: 0.8828\n",
      "Epoch 7/50\n",
      "1875/1875 [==============================] - 9s 5ms/step - loss: 0.3096 - accuracy: 0.8855\n",
      "Epoch 8/50\n",
      "1875/1875 [==============================] - 9s 5ms/step - loss: 0.3011 - accuracy: 0.8889\n",
      "Epoch 9/50\n",
      "1875/1875 [==============================] - 9s 5ms/step - loss: 0.2931 - accuracy: 0.8916\n",
      "Epoch 10/50\n",
      "1875/1875 [==============================] - 9s 5ms/step - loss: 0.2838 - accuracy: 0.8945\n",
      "Epoch 11/50\n",
      "1875/1875 [==============================] - 9s 5ms/step - loss: 0.2797 - accuracy: 0.8956\n",
      "Epoch 12/50\n",
      "1875/1875 [==============================] - 9s 5ms/step - loss: 0.2731 - accuracy: 0.8991\n",
      "Epoch 13/50\n",
      "1875/1875 [==============================] - 9s 5ms/step - loss: 0.2695 - accuracy: 0.8992\n",
      "Epoch 14/50\n",
      "1875/1875 [==============================] - 9s 5ms/step - loss: 0.2653 - accuracy: 0.9005\n",
      "Epoch 15/50\n",
      "1875/1875 [==============================] - 10s 5ms/step - loss: 0.2590 - accuracy: 0.9027\n",
      "Epoch 16/50\n",
      "1875/1875 [==============================] - 10s 5ms/step - loss: 0.2532 - accuracy: 0.9049\n",
      "Epoch 17/50\n",
      "1875/1875 [==============================] - 10s 5ms/step - loss: 0.2520 - accuracy: 0.9053\n",
      "Epoch 18/50\n",
      "1875/1875 [==============================] - 10s 5ms/step - loss: 0.2474 - accuracy: 0.9078\n",
      "Epoch 19/50\n",
      "1875/1875 [==============================] - 9s 5ms/step - loss: 0.2441 - accuracy: 0.9088\n",
      "Epoch 20/50\n",
      "1875/1875 [==============================] - 9s 5ms/step - loss: 0.2433 - accuracy: 0.9102\n",
      "Epoch 21/50\n",
      "1875/1875 [==============================] - 10s 5ms/step - loss: 0.2367 - accuracy: 0.9108\n",
      "Epoch 22/50\n",
      "1875/1875 [==============================] - 10s 5ms/step - loss: 0.2344 - accuracy: 0.9127\n",
      "Epoch 23/50\n",
      "1875/1875 [==============================] - 10s 5ms/step - loss: 0.2312 - accuracy: 0.9132\n",
      "Epoch 24/50\n",
      "1875/1875 [==============================] - 10s 5ms/step - loss: 0.2281 - accuracy: 0.9146\n",
      "Epoch 25/50\n",
      "1875/1875 [==============================] - 10s 5ms/step - loss: 0.2258 - accuracy: 0.9152\n",
      "Epoch 26/50\n",
      "1875/1875 [==============================] - 10s 5ms/step - loss: 0.2253 - accuracy: 0.9152\n",
      "Epoch 27/50\n",
      "1875/1875 [==============================] - 10s 5ms/step - loss: 0.2240 - accuracy: 0.9161\n",
      "Epoch 28/50\n",
      "1875/1875 [==============================] - 10s 5ms/step - loss: 0.2198 - accuracy: 0.9174\n",
      "Epoch 29/50\n",
      "1875/1875 [==============================] - 10s 5ms/step - loss: 0.2186 - accuracy: 0.9185\n",
      "Epoch 30/50\n",
      "1875/1875 [==============================] - 10s 5ms/step - loss: 0.2142 - accuracy: 0.9187\n",
      "Epoch 31/50\n",
      "1875/1875 [==============================] - 10s 5ms/step - loss: 0.2135 - accuracy: 0.9205\n",
      "Epoch 32/50\n",
      "1875/1875 [==============================] - 10s 5ms/step - loss: 0.2078 - accuracy: 0.9230\n",
      "Epoch 33/50\n",
      "1875/1875 [==============================] - 10s 5ms/step - loss: 0.2108 - accuracy: 0.9209\n",
      "Epoch 34/50\n",
      "1875/1875 [==============================] - 10s 5ms/step - loss: 0.2065 - accuracy: 0.9225\n",
      "Epoch 35/50\n",
      "1875/1875 [==============================] - 10s 5ms/step - loss: 0.2016 - accuracy: 0.9242\n",
      "Epoch 36/50\n",
      "1875/1875 [==============================] - 10s 5ms/step - loss: 0.2028 - accuracy: 0.9238\n",
      "Epoch 37/50\n",
      "1875/1875 [==============================] - 10s 5ms/step - loss: 0.2022 - accuracy: 0.9244\n",
      "Epoch 38/50\n",
      "1875/1875 [==============================] - 10s 5ms/step - loss: 0.1968 - accuracy: 0.9261\n",
      "Epoch 39/50\n",
      "1875/1875 [==============================] - 10s 5ms/step - loss: 0.1994 - accuracy: 0.9256\n",
      "Epoch 40/50\n",
      "1875/1875 [==============================] - 10s 5ms/step - loss: 0.1966 - accuracy: 0.9264\n",
      "Epoch 41/50\n",
      "1875/1875 [==============================] - 10s 5ms/step - loss: 0.1923 - accuracy: 0.9276\n",
      "Epoch 42/50\n",
      "1875/1875 [==============================] - 10s 5ms/step - loss: 0.1956 - accuracy: 0.9265\n",
      "Epoch 43/50\n",
      "1875/1875 [==============================] - 10s 5ms/step - loss: 0.1916 - accuracy: 0.9279\n",
      "Epoch 44/50\n",
      "1875/1875 [==============================] - 10s 5ms/step - loss: 0.1901 - accuracy: 0.9287\n",
      "Epoch 45/50\n",
      "1875/1875 [==============================] - 10s 5ms/step - loss: 0.1864 - accuracy: 0.9311\n",
      "Epoch 46/50\n",
      "1875/1875 [==============================] - 10s 5ms/step - loss: 0.1898 - accuracy: 0.9305\n",
      "Epoch 47/50\n",
      "1875/1875 [==============================] - 10s 5ms/step - loss: 0.1833 - accuracy: 0.9314\n",
      "Epoch 48/50\n",
      "1875/1875 [==============================] - 10s 5ms/step - loss: 0.1877 - accuracy: 0.9302\n",
      "Epoch 49/50\n",
      "1875/1875 [==============================] - 10s 5ms/step - loss: 0.1836 - accuracy: 0.9299\n",
      "Epoch 50/50\n",
      "1875/1875 [==============================] - 10s 5ms/step - loss: 0.1825 - accuracy: 0.9312\n",
      " 37/313 [==>...........................] - ETA: 1s - loss: 0.3431 - accuracy: 0.9054"
     ]
    },
    {
     "name": "stderr",
     "output_type": "stream",
     "text": [
      "2022-09-14 15:04:55.502902: I tensorflow/core/grappler/optimizers/custom_graph_optimizer_registry.cc:113] Plugin optimizer for device_type GPU is enabled.\n"
     ]
    },
    {
     "name": "stdout",
     "output_type": "stream",
     "text": [
      "313/313 [==============================] - 1s 4ms/step - loss: 0.3559 - accuracy: 0.8965\n"
     ]
    },
    {
     "name": "stderr",
     "output_type": "stream",
     "text": [
      "2022-09-14 15:04:56.846961: I tensorflow/core/grappler/optimizers/custom_graph_optimizer_registry.cc:113] Plugin optimizer for device_type GPU is enabled.\n"
     ]
    },
    {
     "name": "stdout",
     "output_type": "stream",
     "text": [
      "[2.2476055e-15 4.6952186e-18 3.5573143e-19 7.0982622e-21 7.1693650e-20\n",
      " 1.3006375e-07 1.2970510e-18 1.7443266e-05 3.9259822e-17 9.9998248e-01]\n",
      "9\n"
     ]
    }
   ],
   "source": [
    "##model.fit(train_images, train_labels, epochs=20)\n",
    "model.fit(train_images, train_labels, epochs=50, callbacks=[callbacks])\n",
    "\n",
    "model.evaluate(test_images, test_labels)\n",
    "\n",
    "classifications = model.predict(test_images)\n",
    "print(classifications[0])\n",
    "print(test_labels[0])"
   ]
  },
  {
   "cell_type": "code",
   "execution_count": 39,
   "id": "423dfdbc",
   "metadata": {},
   "outputs": [
    {
     "name": "stdout",
     "output_type": "stream",
     "text": [
      "('Expected label: ', 'Coat')\n"
     ]
    }
   ],
   "source": [
    "class_names = ['T-shirt/top','Trouser','Pullover','Dress','Coat',\n",
    "               'Sandal','Shirt','Sneaker','Bag','Ankle boot'] \n",
    "\n",
    "# Check the model for a specific image\n",
    "image_num = 6 \n",
    "print((\"Expected label: \", class_names[test_labels[image_num]]))\n",
    "\n"
   ]
  },
  {
   "cell_type": "code",
   "execution_count": 40,
   "id": "3c67ee56",
   "metadata": {},
   "outputs": [
    {
     "data": {
      "image/png": "[encoded data removed]",
      "text/plain": [
       "<Figure size 432x288 with 2 Axes>"
      ]
     },
     "metadata": {
      "needs_background": "light"
     },
     "output_type": "display_data"
    },
    {
     "name": "stdout",
     "output_type": "stream",
     "text": [
      "Predictions for image: [1.3617517e-16 8.0447752e-26 1.6347738e-06 9.4210530e-22 9.9999833e-01\n",
      " 0.0000000e+00 2.4612201e-10 0.0000000e+00 2.5549478e-28 0.0000000e+00]\n"
     ]
    }
   ],
   "source": [
    "import matplotlib.pyplot as plt \n",
    "plt.gca().grid(False) \n",
    "plt.imshow(test_images[image_num], cmap=plt.cm.binary) \n",
    "plt.colorbar() \n",
    "plt.show() \n",
    "\n",
    "##imgplot = plt.imshow(test_images[image_num], cmap=plt.cm.binary)\n",
    "\n",
    "#prediction\n",
    "predictions = model.predict(test_images) \n",
    "print(\"Predictions for image:\", predictions[image_num]) "
   ]
  },
  {
   "cell_type": "code",
   "execution_count": null,
   "id": "3e2accdc",
   "metadata": {},
   "outputs": [],
   "source": []
  }
 ],
 "metadata": {
  "kernelspec": {
   "display_name": "Python 3 (ipykernel)",
   "language": "python",
   "name": "python3"
  },
  "language_info": {
   "codemirror_mode": {
    "name": "ipython",
    "version": 3
   },
   "file_extension": ".py",
   "mimetype": "text/x-python",
   "name": "python",
   "nbconvert_exporter": "python",
   "pygments_lexer": "ipython3",
   "version": "3.9.5"
  }
 },
 "nbformat": 4,
 "nbformat_minor": 5
}
