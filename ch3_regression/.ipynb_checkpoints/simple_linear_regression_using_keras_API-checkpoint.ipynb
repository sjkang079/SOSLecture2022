{
 "cells": [
  {
   "cell_type": "code",
   "execution_count": 1,
   "metadata": {
    "id": "dSwpGifpB7W9"
   },
   "outputs": [],
   "source": [
    "import tensorflow as tf\n",
    "import numpy as np\n",
    "import matplotlib.pyplot as plt\n",
    "import pandas as pd\n",
    "import tensorflow.keras as K\n",
    "from tensorflow.keras.layers import Dense"
   ]
  },
  {
   "cell_type": "code",
   "execution_count": 2,
   "metadata": {
    "colab": {
     "base_uri": "https://localhost:8080/",
     "height": 265
    },
    "id": "t5PZJH8iCFma",
    "outputId": "f985216c-90da-4548-f5fe-25d769791ba8"
   },
   "outputs": [
    {
     "data": {
      "image/png": "[encoded data removed]",
      "text/plain": [
       "<Figure size 432x288 with 1 Axes>"
      ]
     },
     "metadata": {
      "needs_background": "light"
     },
     "output_type": "display_data"
    }
   ],
   "source": [
    "#Generate a random data\n",
    "np.random.seed(0)\n",
    "area = 2.5 * np.random.randn(100) + 25\n",
    "price = 25 * area + 5 + np.random.randint(20,50, size = len(area))\n",
    "data = np.array([area, price])\n",
    "data = pd.DataFrame(data = data.T, columns=['area','price'])\n",
    "plt.scatter(data['area'], data['price'])\n",
    "plt.show()"
   ]
  },
  {
   "cell_type": "code",
   "execution_count": 3,
   "metadata": {
    "id": "_1MDPuLTW2Wy"
   },
   "outputs": [],
   "source": [
    "data = (data - data.min()) / (data.max() - data.min())  #Normalize"
   ]
  },
  {
   "cell_type": "code",
   "execution_count": 4,
   "metadata": {
    "colab": {
     "base_uri": "https://localhost:8080/"
    },
    "id": "vfy1amXuCHBD",
    "outputId": "0f70c62f-eabe-4389-8684-530ce4113e34"
   },
   "outputs": [
    {
     "name": "stdout",
     "output_type": "stream",
     "text": [
      "Metal device set to: Apple M1 Pro\n",
      "Model: \"sequential\"\n",
      "_________________________________________________________________\n",
      " Layer (type)                Output Shape              Param #   \n",
      "=================================================================\n",
      " dense (Dense)               (None, 1)                 2         \n",
      "                                                                 \n",
      "=================================================================\n",
      "Total params: 2\n",
      "Trainable params: 2\n",
      "Non-trainable params: 0\n",
      "_________________________________________________________________\n"
     ]
    },
    {
     "name": "stderr",
     "output_type": "stream",
     "text": [
      "2022-09-17 11:54:39.054598: I tensorflow/core/common_runtime/pluggable_device/pluggable_device_factory.cc:305] Could not identify NUMA node of platform GPU ID 0, defaulting to 0. Your kernel may not have been built with NUMA support.\n",
      "2022-09-17 11:54:39.055150: I tensorflow/core/common_runtime/pluggable_device/pluggable_device_factory.cc:271] Created TensorFlow device (/job:localhost/replica:0/task:0/device:GPU:0 with 0 MB memory) -> physical PluggableDevice (device: 0, name: METAL, pci bus id: <undefined>)\n"
     ]
    }
   ],
   "source": [
    "model = K.Sequential([\n",
    "                      #normalizer,\n",
    "                      Dense(1, input_shape = [1,], activation=None)\n",
    "])\n",
    "model.summary()"
   ]
  },
  {
   "cell_type": "code",
   "execution_count": 5,
   "metadata": {
    "id": "lPF_CS2qCNjI"
   },
   "outputs": [],
   "source": [
    "model.compile(loss='mean_squared_error', optimizer='sgd')"
   ]
  },
  {
   "cell_type": "code",
   "execution_count": 6,
   "metadata": {
    "colab": {
     "base_uri": "https://localhost:8080/"
    },
    "id": "AFVBcartVIrg",
    "outputId": "7088dd5c-bb83-45b7-f88f-48a764cb94e9"
   },
   "outputs": [
    {
     "name": "stdout",
     "output_type": "stream",
     "text": [
      "Epoch 1/100\n"
     ]
    },
    {
     "name": "stderr",
     "output_type": "stream",
     "text": [
      "2022-09-17 11:54:53.443745: W tensorflow/core/platform/profile_utils/cpu_utils.cc:128] Failed to get CPU frequency: 0 Hz\n",
      "2022-09-17 11:54:53.541067: I tensorflow/core/grappler/optimizers/custom_graph_optimizer_registry.cc:113] Plugin optimizer for device_type GPU is enabled.\n"
     ]
    },
    {
     "name": "stdout",
     "output_type": "stream",
     "text": [
      "3/3 [==============================] - 0s 39ms/step - loss: 2.0764 - val_loss: 2.4458\n",
      "Epoch 2/100\n",
      "3/3 [==============================] - 0s 9ms/step - loss: 1.8034 - val_loss: 2.1541\n",
      "Epoch 3/100\n",
      "3/3 [==============================] - 0s 10ms/step - loss: 1.5752 - val_loss: 1.9043\n",
      "Epoch 4/100\n",
      "3/3 [==============================] - 0s 10ms/step - loss: 1.3808 - val_loss: 1.6888\n",
      "Epoch 5/100\n",
      "3/3 [==============================] - 0s 9ms/step - loss: 1.2127 - val_loss: 1.4922\n",
      "Epoch 6/100\n",
      "3/3 [==============================] - 0s 9ms/step - loss: 1.0635 - val_loss: 1.3262\n",
      "Epoch 7/100\n",
      "3/3 [==============================] - 0s 10ms/step - loss: 0.9376 - val_loss: 1.1776\n",
      "Epoch 8/100\n",
      "3/3 [==============================] - 0s 10ms/step - loss: 0.8287 - val_loss: 1.0566\n",
      "Epoch 9/100\n",
      "1/3 [=========>....................] - ETA: 0s - loss: 0.8114"
     ]
    },
    {
     "name": "stderr",
     "output_type": "stream",
     "text": [
      "2022-09-17 11:54:53.822269: I tensorflow/core/grappler/optimizers/custom_graph_optimizer_registry.cc:113] Plugin optimizer for device_type GPU is enabled.\n"
     ]
    },
    {
     "name": "stdout",
     "output_type": "stream",
     "text": [
      "3/3 [==============================] - 0s 10ms/step - loss: 0.7385 - val_loss: 0.9490\n",
      "Epoch 10/100\n",
      "3/3 [==============================] - 0s 10ms/step - loss: 0.6602 - val_loss: 0.8550\n",
      "Epoch 11/100\n",
      "3/3 [==============================] - 0s 10ms/step - loss: 0.5928 - val_loss: 0.7738\n",
      "Epoch 12/100\n",
      "3/3 [==============================] - 0s 10ms/step - loss: 0.5345 - val_loss: 0.6971\n",
      "Epoch 13/100\n",
      "3/3 [==============================] - 0s 10ms/step - loss: 0.4814 - val_loss: 0.6327\n",
      "Epoch 14/100\n",
      "3/3 [==============================] - 0s 9ms/step - loss: 0.4377 - val_loss: 0.5773\n",
      "Epoch 15/100\n",
      "3/3 [==============================] - 0s 9ms/step - loss: 0.4000 - val_loss: 0.5274\n",
      "Epoch 16/100\n",
      "3/3 [==============================] - 0s 10ms/step - loss: 0.3672 - val_loss: 0.4833\n",
      "Epoch 17/100\n",
      "3/3 [==============================] - 0s 9ms/step - loss: 0.3391 - val_loss: 0.4492\n",
      "Epoch 18/100\n",
      "3/3 [==============================] - 0s 10ms/step - loss: 0.3172 - val_loss: 0.4179\n",
      "Epoch 19/100\n",
      "3/3 [==============================] - 0s 10ms/step - loss: 0.2975 - val_loss: 0.3897\n",
      "Epoch 20/100\n",
      "3/3 [==============================] - 0s 9ms/step - loss: 0.2801 - val_loss: 0.3635\n",
      "Epoch 21/100\n",
      "3/3 [==============================] - 0s 9ms/step - loss: 0.2646 - val_loss: 0.3418\n",
      "Epoch 22/100\n",
      "3/3 [==============================] - 0s 9ms/step - loss: 0.2519 - val_loss: 0.3222\n",
      "Epoch 23/100\n",
      "3/3 [==============================] - 0s 10ms/step - loss: 0.2407 - val_loss: 0.3049\n",
      "Epoch 24/100\n",
      "3/3 [==============================] - 0s 11ms/step - loss: 0.2310 - val_loss: 0.2891\n",
      "Epoch 25/100\n",
      "3/3 [==============================] - 0s 10ms/step - loss: 0.2224 - val_loss: 0.2746\n",
      "Epoch 26/100\n",
      "3/3 [==============================] - 0s 9ms/step - loss: 0.2146 - val_loss: 0.2613\n",
      "Epoch 27/100\n",
      "3/3 [==============================] - 0s 10ms/step - loss: 0.2078 - val_loss: 0.2499\n",
      "Epoch 28/100\n",
      "3/3 [==============================] - 0s 9ms/step - loss: 0.2020 - val_loss: 0.2389\n",
      "Epoch 29/100\n",
      "3/3 [==============================] - 0s 10ms/step - loss: 0.1967 - val_loss: 0.2280\n",
      "Epoch 30/100\n",
      "3/3 [==============================] - 0s 9ms/step - loss: 0.1917 - val_loss: 0.2216\n",
      "Epoch 31/100\n",
      "3/3 [==============================] - 0s 10ms/step - loss: 0.1885 - val_loss: 0.2152\n",
      "Epoch 32/100\n",
      "3/3 [==============================] - 0s 10ms/step - loss: 0.1856 - val_loss: 0.2090\n",
      "Epoch 33/100\n",
      "3/3 [==============================] - 0s 10ms/step - loss: 0.1828 - val_loss: 0.2039\n",
      "Epoch 34/100\n",
      "3/3 [==============================] - 0s 9ms/step - loss: 0.1806 - val_loss: 0.1988\n",
      "Epoch 35/100\n",
      "3/3 [==============================] - 0s 9ms/step - loss: 0.1783 - val_loss: 0.1936\n",
      "Epoch 36/100\n",
      "3/3 [==============================] - 0s 11ms/step - loss: 0.1761 - val_loss: 0.1901\n",
      "Epoch 37/100\n",
      "3/3 [==============================] - 0s 9ms/step - loss: 0.1746 - val_loss: 0.1868\n",
      "Epoch 38/100\n",
      "3/3 [==============================] - 0s 10ms/step - loss: 0.1731 - val_loss: 0.1833\n",
      "Epoch 39/100\n",
      "3/3 [==============================] - 0s 9ms/step - loss: 0.1715 - val_loss: 0.1798\n",
      "Epoch 40/100\n",
      "3/3 [==============================] - 0s 9ms/step - loss: 0.1701 - val_loss: 0.1771\n",
      "Epoch 41/100\n",
      "3/3 [==============================] - 0s 9ms/step - loss: 0.1688 - val_loss: 0.1741\n",
      "Epoch 42/100\n",
      "3/3 [==============================] - 0s 11ms/step - loss: 0.1676 - val_loss: 0.1715\n",
      "Epoch 43/100\n",
      "3/3 [==============================] - 0s 10ms/step - loss: 0.1666 - val_loss: 0.1695\n",
      "Epoch 44/100\n",
      "3/3 [==============================] - 0s 11ms/step - loss: 0.1659 - val_loss: 0.1675\n",
      "Epoch 45/100\n",
      "3/3 [==============================] - 0s 10ms/step - loss: 0.1649 - val_loss: 0.1641\n",
      "Epoch 46/100\n",
      "3/3 [==============================] - 0s 10ms/step - loss: 0.1635 - val_loss: 0.1630\n",
      "Epoch 47/100\n",
      "3/3 [==============================] - 0s 10ms/step - loss: 0.1626 - val_loss: 0.1612\n",
      "Epoch 48/100\n",
      "3/3 [==============================] - 0s 9ms/step - loss: 0.1618 - val_loss: 0.1594\n",
      "Epoch 49/100\n",
      "3/3 [==============================] - 0s 10ms/step - loss: 0.1610 - val_loss: 0.1577\n",
      "Epoch 50/100\n",
      "3/3 [==============================] - 0s 10ms/step - loss: 0.1603 - val_loss: 0.1563\n",
      "Epoch 51/100\n",
      "3/3 [==============================] - 0s 9ms/step - loss: 0.1594 - val_loss: 0.1553\n",
      "Epoch 52/100\n",
      "3/3 [==============================] - 0s 9ms/step - loss: 0.1587 - val_loss: 0.1542\n",
      "Epoch 53/100\n",
      "3/3 [==============================] - 0s 9ms/step - loss: 0.1582 - val_loss: 0.1519\n",
      "Epoch 54/100\n",
      "3/3 [==============================] - 0s 10ms/step - loss: 0.1573 - val_loss: 0.1506\n",
      "Epoch 55/100\n",
      "3/3 [==============================] - 0s 9ms/step - loss: 0.1564 - val_loss: 0.1494\n",
      "Epoch 56/100\n",
      "3/3 [==============================] - 0s 10ms/step - loss: 0.1559 - val_loss: 0.1482\n",
      "Epoch 57/100\n",
      "3/3 [==============================] - 0s 9ms/step - loss: 0.1552 - val_loss: 0.1479\n",
      "Epoch 58/100\n",
      "3/3 [==============================] - 0s 9ms/step - loss: 0.1545 - val_loss: 0.1475\n",
      "Epoch 59/100\n",
      "3/3 [==============================] - 0s 9ms/step - loss: 0.1541 - val_loss: 0.1464\n",
      "Epoch 60/100\n",
      "3/3 [==============================] - 0s 9ms/step - loss: 0.1536 - val_loss: 0.1458\n",
      "Epoch 61/100\n",
      "3/3 [==============================] - 0s 10ms/step - loss: 0.1526 - val_loss: 0.1447\n",
      "Epoch 62/100\n",
      "3/3 [==============================] - 0s 9ms/step - loss: 0.1520 - val_loss: 0.1441\n",
      "Epoch 63/100\n",
      "3/3 [==============================] - 0s 9ms/step - loss: 0.1515 - val_loss: 0.1428\n",
      "Epoch 64/100\n",
      "3/3 [==============================] - 0s 9ms/step - loss: 0.1508 - val_loss: 0.1420\n",
      "Epoch 65/100\n",
      "3/3 [==============================] - 0s 9ms/step - loss: 0.1502 - val_loss: 0.1412\n",
      "Epoch 66/100\n",
      "3/3 [==============================] - 0s 9ms/step - loss: 0.1497 - val_loss: 0.1396\n",
      "Epoch 67/100\n",
      "3/3 [==============================] - 0s 9ms/step - loss: 0.1489 - val_loss: 0.1388\n",
      "Epoch 68/100\n",
      "3/3 [==============================] - 0s 10ms/step - loss: 0.1484 - val_loss: 0.1374\n",
      "Epoch 69/100\n",
      "3/3 [==============================] - 0s 9ms/step - loss: 0.1477 - val_loss: 0.1366\n",
      "Epoch 70/100\n",
      "3/3 [==============================] - 0s 9ms/step - loss: 0.1471 - val_loss: 0.1353\n",
      "Epoch 71/100\n",
      "3/3 [==============================] - 0s 10ms/step - loss: 0.1465 - val_loss: 0.1348\n",
      "Epoch 72/100\n",
      "3/3 [==============================] - 0s 8ms/step - loss: 0.1460 - val_loss: 0.1335\n",
      "Epoch 73/100\n",
      "3/3 [==============================] - 0s 10ms/step - loss: 0.1453 - val_loss: 0.1333\n",
      "Epoch 74/100\n",
      "3/3 [==============================] - 0s 9ms/step - loss: 0.1447 - val_loss: 0.1332\n",
      "Epoch 75/100\n",
      "3/3 [==============================] - 0s 9ms/step - loss: 0.1441 - val_loss: 0.1323\n",
      "Epoch 76/100\n",
      "3/3 [==============================] - 0s 9ms/step - loss: 0.1436 - val_loss: 0.1314\n",
      "Epoch 77/100\n",
      "3/3 [==============================] - 0s 9ms/step - loss: 0.1429 - val_loss: 0.1311\n",
      "Epoch 78/100\n",
      "3/3 [==============================] - 0s 9ms/step - loss: 0.1423 - val_loss: 0.1301\n",
      "Epoch 79/100\n",
      "3/3 [==============================] - 0s 9ms/step - loss: 0.1418 - val_loss: 0.1303\n",
      "Epoch 80/100\n",
      "3/3 [==============================] - 0s 9ms/step - loss: 0.1412 - val_loss: 0.1294\n",
      "Epoch 81/100\n",
      "3/3 [==============================] - 0s 10ms/step - loss: 0.1406 - val_loss: 0.1286\n",
      "Epoch 82/100\n",
      "3/3 [==============================] - 0s 9ms/step - loss: 0.1401 - val_loss: 0.1279\n",
      "Epoch 83/100\n",
      "3/3 [==============================] - 0s 10ms/step - loss: 0.1394 - val_loss: 0.1276\n",
      "Epoch 84/100\n",
      "3/3 [==============================] - 0s 9ms/step - loss: 0.1389 - val_loss: 0.1276\n",
      "Epoch 85/100\n",
      "3/3 [==============================] - 0s 9ms/step - loss: 0.1383 - val_loss: 0.1265\n",
      "Epoch 86/100\n",
      "3/3 [==============================] - 0s 10ms/step - loss: 0.1378 - val_loss: 0.1266\n",
      "Epoch 87/100\n",
      "3/3 [==============================] - 0s 9ms/step - loss: 0.1371 - val_loss: 0.1261\n",
      "Epoch 88/100\n",
      "3/3 [==============================] - 0s 10ms/step - loss: 0.1366 - val_loss: 0.1259\n",
      "Epoch 89/100\n",
      "3/3 [==============================] - 0s 9ms/step - loss: 0.1362 - val_loss: 0.1253\n",
      "Epoch 90/100\n",
      "3/3 [==============================] - 0s 10ms/step - loss: 0.1355 - val_loss: 0.1243\n",
      "Epoch 91/100\n",
      "3/3 [==============================] - 0s 9ms/step - loss: 0.1349 - val_loss: 0.1237\n",
      "Epoch 92/100\n"
     ]
    },
    {
     "name": "stdout",
     "output_type": "stream",
     "text": [
      "3/3 [==============================] - 0s 9ms/step - loss: 0.1344 - val_loss: 0.1235\n",
      "Epoch 93/100\n",
      "3/3 [==============================] - 0s 10ms/step - loss: 0.1338 - val_loss: 0.1233\n",
      "Epoch 94/100\n",
      "3/3 [==============================] - 0s 9ms/step - loss: 0.1332 - val_loss: 0.1225\n",
      "Epoch 95/100\n",
      "3/3 [==============================] - 0s 9ms/step - loss: 0.1327 - val_loss: 0.1220\n",
      "Epoch 96/100\n",
      "3/3 [==============================] - 0s 9ms/step - loss: 0.1322 - val_loss: 0.1214\n",
      "Epoch 97/100\n",
      "3/3 [==============================] - 0s 9ms/step - loss: 0.1317 - val_loss: 0.1209\n",
      "Epoch 98/100\n",
      "3/3 [==============================] - 0s 10ms/step - loss: 0.1312 - val_loss: 0.1203\n",
      "Epoch 99/100\n",
      "3/3 [==============================] - 0s 9ms/step - loss: 0.1307 - val_loss: 0.1199\n",
      "Epoch 100/100\n",
      "3/3 [==============================] - 0s 9ms/step - loss: 0.1302 - val_loss: 0.1199\n"
     ]
    },
    {
     "data": {
      "text/plain": [
       "<keras.callbacks.History at 0x2953de1f0>"
      ]
     },
     "execution_count": 6,
     "metadata": {},
     "output_type": "execute_result"
    }
   ],
   "source": [
    "model.fit(x=data['area'],y=data['price'], epochs=100, batch_size=32, verbose=1, validation_split=0.2)"
   ]
  },
  {
   "cell_type": "code",
   "execution_count": 7,
   "metadata": {
    "id": "jE2w6574Y0pD"
   },
   "outputs": [
    {
     "name": "stderr",
     "output_type": "stream",
     "text": [
      "2022-09-17 11:55:12.332022: I tensorflow/core/grappler/optimizers/custom_graph_optimizer_registry.cc:113] Plugin optimizer for device_type GPU is enabled.\n"
     ]
    }
   ],
   "source": [
    "y_pred = model.predict(data['area'])"
   ]
  },
  {
   "cell_type": "code",
   "execution_count": 8,
   "metadata": {
    "colab": {
     "base_uri": "https://localhost:8080/",
     "height": 297
    },
    "id": "LDFVIsvYCRS4",
    "outputId": "b6d79be1-2f6f-411c-803f-37fcb0d62fd7"
   },
   "outputs": [
    {
     "data": {
      "text/plain": [
       "<matplotlib.legend.Legend at 0x29a6b0760>"
      ]
     },
     "execution_count": 8,
     "metadata": {},
     "output_type": "execute_result"
    },
    {
     "data": {
      "image/png": "[encoded data removed]",
      "text/plain": [
       "<Figure size 432x288 with 1 Axes>"
      ]
     },
     "metadata": {
      "needs_background": "light"
     },
     "output_type": "display_data"
    }
   ],
   "source": [
    "plt.plot(data['area'], y_pred, color='red',label=\"Predicted Price\")\n",
    "plt.scatter(data['area'], data['price'], label=\"Training Data\")\n",
    "plt.xlabel(\"Area\")\n",
    "plt.ylabel(\"Price\")\n",
    "plt.legend()"
   ]
  },
  {
   "cell_type": "code",
   "execution_count": 9,
   "metadata": {
    "colab": {
     "base_uri": "https://localhost:8080/"
    },
    "id": "bN433O3bCVmH",
    "outputId": "6f44e9cc-39ce-41b3-f499-7daae44449d5"
   },
   "outputs": [
    {
     "data": {
      "text/plain": [
       "[<tf.Variable 'dense/kernel:0' shape=(1, 1) dtype=float32, numpy=array([[-0.33806288]], dtype=float32)>,\n",
       " <tf.Variable 'dense/bias:0' shape=(1,) dtype=float32, numpy=array([0.68142694], dtype=float32)>]"
      ]
     },
     "execution_count": 9,
     "metadata": {},
     "output_type": "execute_result"
    }
   ],
   "source": [
    "model.weights"
   ]
  },
  {
   "cell_type": "code",
   "execution_count": 9,
   "metadata": {
    "id": "nb22K749kzVK"
   },
   "outputs": [],
   "source": []
  }
 ],
 "metadata": {
  "colab": {
   "name": "simple_linear_regression_using_keras_API.ipynb",
   "provenance": []
  },
  "kernelspec": {
   "display_name": "Python 3 (ipykernel)",
   "language": "python",
   "name": "python3"
  },
  "language_info": {
   "codemirror_mode": {
    "name": "ipython",
    "version": 3
   },
   "file_extension": ".py",
   "mimetype": "text/x-python",
   "name": "python",
   "nbconvert_exporter": "python",
   "pygments_lexer": "ipython3",
   "version": "3.9.5"
  }
 },
 "nbformat": 4,
 "nbformat_minor": 1
}
