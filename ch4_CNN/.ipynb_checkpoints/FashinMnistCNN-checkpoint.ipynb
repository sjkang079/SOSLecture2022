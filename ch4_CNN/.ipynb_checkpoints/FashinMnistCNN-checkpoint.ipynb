{
 "cells": [
  {
   "cell_type": "code",
   "execution_count": 1,
   "id": "38dca1da",
   "metadata": {
    "scrolled": false
   },
   "outputs": [
    {
     "name": "stdout",
     "output_type": "stream",
     "text": [
      "<class 'numpy.ndarray'>\n",
      "Metal device set to: Apple M1 Pro\n"
     ]
    },
    {
     "name": "stderr",
     "output_type": "stream",
     "text": [
      "2022-09-14 15:09:57.226405: I tensorflow/core/common_runtime/pluggable_device/pluggable_device_factory.cc:305] Could not identify NUMA node of platform GPU ID 0, defaulting to 0. Your kernel may not have been built with NUMA support.\n",
      "2022-09-14 15:09:57.226526: I tensorflow/core/common_runtime/pluggable_device/pluggable_device_factory.cc:271] Created TensorFlow device (/job:localhost/replica:0/task:0/device:GPU:0 with 0 MB memory) -> physical PluggableDevice (device: 0, name: METAL, pci bus id: <undefined>)\n"
     ]
    },
    {
     "name": "stdout",
     "output_type": "stream",
     "text": [
      "Model: \"sequential\"\n",
      "_________________________________________________________________\n",
      " Layer (type)                Output Shape              Param #   \n",
      "=================================================================\n",
      " conv2d (Conv2D)             (None, 26, 26, 64)        640       \n",
      "                                                                 \n",
      " max_pooling2d (MaxPooling2D  (None, 13, 13, 64)       0         \n",
      " )                                                               \n",
      "                                                                 \n",
      " conv2d_1 (Conv2D)           (None, 11, 11, 64)        36928     \n",
      "                                                                 \n",
      " max_pooling2d_1 (MaxPooling  (None, 5, 5, 64)         0         \n",
      " 2D)                                                             \n",
      "                                                                 \n",
      " flatten (Flatten)           (None, 1600)              0         \n",
      "                                                                 \n",
      " dense (Dense)               (None, 128)               204928    \n",
      "                                                                 \n",
      " dense_1 (Dense)             (None, 10)                1290      \n",
      "                                                                 \n",
      "=================================================================\n",
      "Total params: 243,786\n",
      "Trainable params: 243,786\n",
      "Non-trainable params: 0\n",
      "_________________________________________________________________\n",
      "Epoch 1/50\n"
     ]
    },
    {
     "name": "stderr",
     "output_type": "stream",
     "text": [
      "2022-09-14 15:09:57.972894: W tensorflow/core/platform/profile_utils/cpu_utils.cc:128] Failed to get CPU frequency: 0 Hz\n",
      "2022-09-14 15:09:58.191889: I tensorflow/core/grappler/optimizers/custom_graph_optimizer_registry.cc:113] Plugin optimizer for device_type GPU is enabled.\n"
     ]
    },
    {
     "name": "stdout",
     "output_type": "stream",
     "text": [
      "1875/1875 [==============================] - 16s 7ms/step - loss: 0.4371 - accuracy: 0.8419\n",
      "Epoch 2/50\n",
      "1875/1875 [==============================] - 12s 7ms/step - loss: 0.2906 - accuracy: 0.8938\n",
      "Epoch 3/50\n",
      "1875/1875 [==============================] - 12s 7ms/step - loss: 0.2454 - accuracy: 0.9097\n",
      "Epoch 4/50\n",
      "1875/1875 [==============================] - 12s 7ms/step - loss: 0.2124 - accuracy: 0.9197\n",
      "Epoch 5/50\n",
      "1875/1875 [==============================] - 12s 7ms/step - loss: 0.1868 - accuracy: 0.9302\n",
      "Epoch 6/50\n",
      "1875/1875 [==============================] - 12s 7ms/step - loss: 0.1641 - accuracy: 0.9388\n",
      "Epoch 7/50\n",
      "1875/1875 [==============================] - 12s 7ms/step - loss: 0.1442 - accuracy: 0.9456\n",
      "Epoch 8/50\n",
      "1875/1875 [==============================] - 12s 7ms/step - loss: 0.1258 - accuracy: 0.9528\n",
      "Epoch 9/50\n",
      "1875/1875 [==============================] - 12s 7ms/step - loss: 0.1102 - accuracy: 0.9581\n",
      "Epoch 10/50\n",
      "1875/1875 [==============================] - 12s 7ms/step - loss: 0.0973 - accuracy: 0.9631\n",
      "Epoch 11/50\n",
      "1875/1875 [==============================] - 12s 7ms/step - loss: 0.0868 - accuracy: 0.9672\n",
      "Epoch 12/50\n",
      "1875/1875 [==============================] - 12s 7ms/step - loss: 0.0749 - accuracy: 0.9720\n",
      "Epoch 13/50\n",
      "1875/1875 [==============================] - 12s 7ms/step - loss: 0.0675 - accuracy: 0.9736\n",
      "Epoch 14/50\n",
      "1875/1875 [==============================] - 12s 7ms/step - loss: 0.0595 - accuracy: 0.9776\n",
      "Epoch 15/50\n",
      "1875/1875 [==============================] - 12s 7ms/step - loss: 0.0549 - accuracy: 0.9791\n",
      "Epoch 16/50\n",
      "1875/1875 [==============================] - 12s 7ms/step - loss: 0.0443 - accuracy: 0.9830\n",
      "Epoch 17/50\n",
      "1875/1875 [==============================] - 12s 7ms/step - loss: 0.0457 - accuracy: 0.9825\n",
      "Epoch 18/50\n",
      "1875/1875 [==============================] - 12s 7ms/step - loss: 0.0417 - accuracy: 0.9843\n",
      "Epoch 19/50\n",
      "1875/1875 [==============================] - 12s 7ms/step - loss: 0.0382 - accuracy: 0.9863\n",
      "Epoch 20/50\n",
      "1875/1875 [==============================] - 12s 7ms/step - loss: 0.0362 - accuracy: 0.9864\n",
      "Epoch 21/50\n",
      "1875/1875 [==============================] - 12s 7ms/step - loss: 0.0335 - accuracy: 0.9878\n",
      "Epoch 22/50\n",
      "1875/1875 [==============================] - 12s 7ms/step - loss: 0.0319 - accuracy: 0.9884\n",
      "Epoch 23/50\n",
      "1875/1875 [==============================] - 12s 7ms/step - loss: 0.0300 - accuracy: 0.9889\n",
      "Epoch 24/50\n",
      "1875/1875 [==============================] - 12s 7ms/step - loss: 0.0306 - accuracy: 0.9893\n",
      "Epoch 25/50\n",
      "1869/1875 [============================>.] - ETA: 0s - loss: 0.0276 - accuracy: 0.9906\n",
      "Reached 99% accuracy so cancelling training!\n",
      "1875/1875 [==============================] - 12s 7ms/step - loss: 0.0276 - accuracy: 0.9906\n",
      " 25/313 [=>............................] - ETA: 1s - loss: 0.5427 - accuracy: 0.9175"
     ]
    },
    {
     "name": "stderr",
     "output_type": "stream",
     "text": [
      "2022-09-14 15:15:10.272614: I tensorflow/core/grappler/optimizers/custom_graph_optimizer_registry.cc:113] Plugin optimizer for device_type GPU is enabled.\n"
     ]
    },
    {
     "name": "stdout",
     "output_type": "stream",
     "text": [
      "313/313 [==============================] - 2s 4ms/step - loss: 0.6013 - accuracy: 0.9139\n"
     ]
    },
    {
     "name": "stderr",
     "output_type": "stream",
     "text": [
      "2022-09-14 15:15:11.784660: I tensorflow/core/grappler/optimizers/custom_graph_optimizer_registry.cc:113] Plugin optimizer for device_type GPU is enabled.\n"
     ]
    },
    {
     "name": "stdout",
     "output_type": "stream",
     "text": [
      "[1.3586215e-18 4.0299479e-27 1.9591936e-19 5.8409190e-21 3.0331441e-19\n",
      " 2.7336806e-14 1.1887587e-22 1.6780539e-16 6.0779633e-27 1.0000000e+00]\n",
      "9\n"
     ]
    },
    {
     "data": {
      "image/png": "[encoded data removed]",
      "text/plain": [
       "<Figure size 432x288 with 2 Axes>"
      ]
     },
     "metadata": {
      "needs_background": "light"
     },
     "output_type": "display_data"
    }
   ],
   "source": [
    "import tensorflow as tf\n",
    "data = tf.keras.datasets.fashion_mnist\n",
    "\n",
    "class myCallback(tf.keras.callbacks.Callback):\n",
    "  def on_epoch_end(self, epoch, logs={}):\n",
    "    if(logs.get('accuracy')>0.99):\n",
    "      print(\"\\nReached 99% accuracy so cancelling training!\")\n",
    "      self.model.stop_training = True\n",
    "\n",
    "\n",
    "callbacks = myCallback()\n",
    "\n",
    "\n",
    "(training_images, training_labels), (test_images, test_labels) = data.load_data()\n",
    "print(type(training_images))\n",
    "training_images=training_images.reshape(60000, 28, 28, 1)\n",
    "training_images  = training_images / 255.0\n",
    "test_images = test_images.reshape(10000, 28, 28, 1)\n",
    "test_images = test_images / 255.0\n",
    "\n",
    "model = tf.keras.models.Sequential([\n",
    "    tf.keras.layers.Conv2D(64, (3, 3), activation='relu', input_shape=(28, 28, 1)),\n",
    "    tf.keras.layers.MaxPooling2D(2, 2),\n",
    "    tf.keras.layers.Conv2D(64, (3, 3), activation='relu'),\n",
    "    tf.keras.layers.MaxPooling2D(2,2),\n",
    "    tf.keras.layers.Flatten(),\n",
    "    tf.keras.layers.Dense(128, activation=tf.nn.relu),\n",
    "    tf.keras.layers.Dense(10, activation=tf.nn.softmax)])\n",
    "\n",
    "model.compile(optimizer='adam',\n",
    "              loss='sparse_categorical_crossentropy',\n",
    "              metrics=['accuracy'])\n",
    "\n",
    "model.summary()\n",
    "\n",
    "model.fit(training_images, training_labels, epochs=50, callbacks=[callbacks])\n",
    "\n",
    "model.evaluate(test_images, test_labels)\n",
    "\n",
    "classifications = model.predict(test_images)\n",
    "\n",
    "print(\"\\nWhat is the result of classification[0]: \")\n",
    "print(classifications[0])\n",
    "print(\"\\nWhat is the result of test_labels[0]: \")\n",
    "print(test_labels[0])\n",
    "\n",
    "import matplotlib.pyplot as plt\n",
    "plt.gca().grid(False)\n",
    "plt.imshow(test_images[0],cmap=plt.cm.binary)\n",
    "plt.colorbar()\n",
    "plt.show()\n",
    "\n",
    "\n"
   ]
  },
  {
   "cell_type": "code",
   "execution_count": null,
   "id": "95f30ac7",
   "metadata": {},
   "outputs": [],
   "source": []
  }
 ],
 "metadata": {
  "kernelspec": {
   "display_name": "Python 3 (ipykernel)",
   "language": "python",
   "name": "python3"
  },
  "language_info": {
   "codemirror_mode": {
    "name": "ipython",
    "version": 3
   },
   "file_extension": ".py",
   "mimetype": "text/x-python",
   "name": "python",
   "nbconvert_exporter": "python",
   "pygments_lexer": "ipython3",
   "version": "3.9.5"
  }
 },
 "nbformat": 4,
 "nbformat_minor": 5
}
