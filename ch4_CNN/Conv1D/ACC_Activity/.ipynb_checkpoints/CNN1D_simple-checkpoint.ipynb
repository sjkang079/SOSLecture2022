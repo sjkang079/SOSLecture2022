{
 "cells": [
  {
   "cell_type": "code",
   "execution_count": 1,
   "id": "9fa4dd3f",
   "metadata": {},
   "outputs": [
    {
     "name": "stdout",
     "output_type": "stream",
     "text": [
      "[0 3] * [1 2] =>  6\n",
      "[3 4] * [1 2] =>  11\n",
      "[4 5] * [1 2] =>  14\n"
     ]
    },
    {
     "data": {
      "text/plain": [
       "array([ 6, 11, 14])"
      ]
     },
     "execution_count": 1,
     "metadata": {},
     "output_type": "execute_result"
    }
   ],
   "source": [
    "import numpy as np \n",
    "import pandas as pd\n",
    "import tensorflow as tf \n",
    "import matplotlib.pyplot as plt\n",
    "import matplotlib as mpl\n",
    "\n",
    "label_size = 14\n",
    "mpl.rcParams['xtick.labelsize'] = label_size \n",
    "mpl.rcParams['ytick.labelsize'] = label_size\n",
    "\n",
    "data = np.array([0,3,4,5])\n",
    "conv1d_filter = np.array([1,2])\n",
    "\n",
    "\n",
    "def Conv1D_Numpy(Seq, Kernel):\n",
    "    kernel_size = len(Kernel)\n",
    "    Length = len(Seq)\n",
    "    \n",
    "    output = []\n",
    "    for i in range(Length-kernel_size+1): \n",
    "        conv = np.dot(Seq[i:i+kernel_size], Kernel)\n",
    "        print(Seq[i:i+kernel_size], \"*\", Kernel, \"=> \", conv)\n",
    "\n",
    "        output.append(conv)\n",
    "\n",
    "    output = np.array(output)\n",
    "    \n",
    "    return output\n",
    "\n",
    "output = Conv1D_Numpy(data, conv1d_filter)\n",
    "output\n"
   ]
  },
  {
   "cell_type": "code",
   "execution_count": 3,
   "id": "f6d470d9",
   "metadata": {},
   "outputs": [],
   "source": [
    "def Conv1D_compile(n_filters, SequenceLength, n_features):\n",
    "    conv_model = tf.keras.Sequential([\n",
    "        tf.keras.layers.Conv1D(filters=n_filters,\n",
    "                               kernel_size=2,\n",
    "                               strides=1, \n",
    "                               padding='valid',\n",
    "                               input_shape=(SequenceLength, n_features), \n",
    "                               use_bias=False, name='c1d')])\n",
    "    \n",
    "    conv_model.compile(loss=tf.losses.MeanAbsoluteError(), \n",
    "                       optimizer=tf.optimizers.Adam(learning_rate=5e-2))\n",
    "\n",
    "    conv_model.summary()\n",
    "\n",
    "    return conv_model     \n",
    "\n",
    "\n",
    "def Conv1D_Fit_and_PlotWeights(model, X, y, epochs, n_weights, freq=20):\n",
    "    w, loss, mae = [], [], []\n",
    "\n",
    "    for r in range(epochs):\n",
    "        history = model.fit(X, y, verbose=0)\n",
    "        if r%freq==0:\n",
    "\n",
    "            w.append(np.sort(model.layers[0].get_weights()[0].reshape(n_weights)))\n",
    "            loss.append(history.history['loss'][0])\n",
    "\n",
    "    w = np.array(w)\n",
    "            \n",
    "    fig, ax = plt.subplots(figsize=(8,4))\n",
    "\n",
    "    epoch = np.arange(0,len(w))*20\n",
    "    \n",
    "    for n in range(n_weights): \n",
    "        label = \"w_{} -> {}\".format(n, n+1)\n",
    "        plt.plot(epoch,w[:,n], label=label, linewidth=3)\n",
    "        ax.axhline(n+1, c='gray', linestyle='--')\n",
    "\n",
    "    plt.xlabel(\"epoch\", fontsize=14)\n",
    "    plt.ylabel(\"weights\", fontsize=14)\n",
    "    plt.legend(loc='upper left', bbox_to_anchor=(1., 1.01), fontsize=14)\n",
    "    plt.show()\n",
    "\n"
   ]
  },
  {
   "cell_type": "code",
   "execution_count": 5,
   "id": "41b48b08",
   "metadata": {},
   "outputs": [
    {
     "name": "stdout",
     "output_type": "stream",
     "text": [
      "Model: \"sequential\"\n",
      "_________________________________________________________________\n",
      " Layer (type)                Output Shape              Param #   \n",
      "=================================================================\n",
      " c1d (Conv1D)                (None, 3, 1)              2         \n",
      "                                                                 \n",
      "=================================================================\n",
      "Total params: 2\n",
      "Trainable params: 2\n",
      "Non-trainable params: 0\n",
      "_________________________________________________________________\n",
      "Model: \"sequential\"\n",
      "_________________________________________________________________\n",
      " Layer (type)                Output Shape              Param #   \n",
      "=================================================================\n",
      " c1d (Conv1D)                (None, 3, 1)              2         \n",
      "                                                                 \n",
      "=================================================================\n",
      "Total params: 2\n",
      "Trainable params: 2\n",
      "Non-trainable params: 0\n",
      "_________________________________________________________________\n"
     ]
    }
   ],
   "source": [
    "X = data.reshape((1, data.shape[0], 1))\n",
    "y = output.reshape((1, output.shape[0], 1))\n",
    "\n",
    "model_cnn = Conv1D_compile(n_filters=1, SequenceLength=4, n_features=1)\n",
    "model_cnn.summary()"
   ]
  },
  {
   "cell_type": "code",
   "execution_count": 6,
   "id": "532fbcc6",
   "metadata": {},
   "outputs": [
    {
     "name": "stdout",
     "output_type": "stream",
     "text": [
      "WARNING:tensorflow:AutoGraph could not transform <function Model.make_train_function.<locals>.train_function at 0x00000295BDDA1828> and will run it as-is.\n",
      "Please report this to the TensorFlow team. When filing the bug, set the verbosity to 10 (on Linux, `export AUTOGRAPH_VERBOSITY=10`) and attach the full output.\n",
      "Cause: 'arguments' object has no attribute 'posonlyargs'\n",
      "To silence this warning, decorate the function with @tf.autograph.experimental.do_not_convert\n",
      "WARNING: AutoGraph could not transform <function Model.make_train_function.<locals>.train_function at 0x00000295BDDA1828> and will run it as-is.\n",
      "Please report this to the TensorFlow team. When filing the bug, set the verbosity to 10 (on Linux, `export AUTOGRAPH_VERBOSITY=10`) and attach the full output.\n",
      "Cause: 'arguments' object has no attribute 'posonlyargs'\n",
      "To silence this warning, decorate the function with @tf.autograph.experimental.do_not_convert\n"
     ]
    },
    {
     "data": {
      "image/png": "[encoded data removed]",
      "text/plain": [
       "<Figure size 576x288 with 1 Axes>"
      ]
     },
     "metadata": {
      "needs_background": "light"
     },
     "output_type": "display_data"
    }
   ],
   "source": [
    "Conv1D_Fit_and_PlotWeights(model=model_cnn, X=X, y=y, \n",
    "                                     epochs=500, n_weights=2)\n"
   ]
  },
  {
   "cell_type": "code",
   "execution_count": null,
   "id": "2a5b0de7",
   "metadata": {},
   "outputs": [],
   "source": []
  }
 ],
 "metadata": {
  "kernelspec": {
   "display_name": "Python 3",
   "language": "python",
   "name": "python3"
  },
  "language_info": {
   "codemirror_mode": {
    "name": "ipython",
    "version": 3
   },
   "file_extension": ".py",
   "mimetype": "text/x-python",
   "name": "python",
   "nbconvert_exporter": "python",
   "pygments_lexer": "ipython3",
   "version": "3.7.13"
  }
 },
 "nbformat": 4,
 "nbformat_minor": 5
}
