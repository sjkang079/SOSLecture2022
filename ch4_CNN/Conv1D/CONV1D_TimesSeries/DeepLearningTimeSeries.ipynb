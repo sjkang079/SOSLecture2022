{
 "cells": [
  {
   "cell_type": "code",
   "execution_count": null,
   "id": "2a9c754a",
   "metadata": {},
   "outputs": [],
   "source": [
    "##Deep Learning for Time Series Classification\n",
    "##https://github.com › hfawaz › dl-4-tsc\n"
   ]
  }
 ],
 "metadata": {
  "kernelspec": {
   "display_name": "Python 3 (ipykernel)",
   "language": "python",
   "name": "python3"
  },
  "language_info": {
   "codemirror_mode": {
    "name": "ipython",
    "version": 3
   },
   "file_extension": ".py",
   "mimetype": "text/x-python",
   "name": "python",
   "nbconvert_exporter": "python",
   "pygments_lexer": "ipython3",
   "version": "3.9.5"
  }
 },
 "nbformat": 4,
 "nbformat_minor": 5
}
