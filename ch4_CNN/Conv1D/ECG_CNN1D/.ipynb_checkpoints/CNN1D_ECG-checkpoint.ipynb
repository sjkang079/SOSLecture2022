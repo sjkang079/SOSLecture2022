{
 "cells": [
  {
   "cell_type": "code",
   "execution_count": 2,
   "id": "bcedcd51",
   "metadata": {},
   "outputs": [],
   "source": [
    "import numpy as np\n",
    "import pandas as pd\n",
    "import matplotlib.pyplot as plt\n",
    "import warnings\n",
    "import os\n",
    "warnings.filterwarnings(\"ignore\")\n",
    "# Setting the parameter to plot at 30x15 size\n",
    "plt.rcParams['figure.figsize'] = 30, 15"
   ]
  },
  {
   "cell_type": "code",
   "execution_count": 6,
   "id": "70889554",
   "metadata": {},
   "outputs": [],
   "source": [
    "# Declare the locations of the files\n",
    "##root_folder_train = 'C:\\\\Users\\\\animi\\\\Documents\\\\Dataset\\\\ECG Dataset\\\\Train\\\\'\n",
    "root_folder_train = 'D:\\pythonWS\\\\TMP\\\\ECGDATA\\\\train\\\\'\n",
    "##root_folder_test = 'C:\\\\Users\\\\animi\\\\Documents\\\\Dataset\\\\ECG Dataset\\\\Test\\\\'\n",
    "root_folder_test = 'D:\\\\pythonWS\\\\TMP\\\\ECGDATA\\\\test\\\\'\n",
    "category = ['Normal', 'Abnormal']\n",
    "##destination = 'C:\\\\Users\\\\animi\\\\Documents\\\\Dataset\\\\ECG Dataset\\\\Customized_Data\\\\'\n",
    "destination = 'D:\\\\pythonWS\\\\TMP\\\\ECGDATA\\\\Customized_Data\\\\'"
   ]
  },
  {
   "cell_type": "code",
   "execution_count": 7,
   "id": "c8629160",
   "metadata": {},
   "outputs": [],
   "source": [
    "# Function to load the dataset and do the required formatting to be able to feed the data into the Keras Model\n",
    "def load_data(root_folder):\n",
    "    # These are delcarations of variables that have been used inside the for loop\n",
    "    final_list = list()\n",
    "    labels = list()\n",
    "    # It is iterating through both the categories Normal and Abnormal\n",
    "    for cat in category:\n",
    "        # It is taking and processing each file in the folder\n",
    "        for filename in os.listdir(root_folder+cat):\n",
    "            \n",
    "            # Read each file for each category and drop the unnecessary columns\n",
    "            path = root_folder + cat + '\\\\' + filename\n",
    "            df = pd.read_csv(path) # Read the CSV using inbuilt Pandas Function\n",
    "            df.drop(index=0, axis=0, inplace=True) # Drop the first row, which contains the units of measurement (useless for our use case)\n",
    "            df.columns = [\"time\", \"ECG0\", \"ECG1\"] # Rename the columns for convinience and easy access of the columns\n",
    "            df.drop(['time'], axis=1, inplace=True) # Drop the time column, as we are not using it as a time series. We are using the indexes instead\n",
    "            df.ECG0 = pd.to_numeric(df.ECG0) # The data by default is in the form of an object, Convert each row into numeric or floating point\n",
    "            df.ECG1 = pd.to_numeric(df.ECG1)\n",
    "            \n",
    "            print(filename, len(df))\n",
    "            \n",
    "            # Split each file into 6 parts and then make each of them a new row by transposing\n",
    "            df_split = np.array_split(df, 30) # Split the dataset into 30 different sets. This is not mandatory, but is suggested since the dataset size is less\n",
    "            for splitted_array in df_split:\n",
    "                final_list.append(np.array(splitted_array)) # After splitting, we are appending all the splitted arrays into 1 single large array of 3 dimentions\n",
    "                # The following if-else block is used to create labels. We have taken '1' for AF ECG and '0' for Normal ECG\n",
    "                # This is not the ideal way to create labels, but this is the most simplest way for this situation\n",
    "                if cat == 'Normal':\n",
    "                    labels.append(0)\n",
    "                if cat == 'Abnormal':\n",
    "                    labels.append(1)\n",
    "\n",
    "    # Before returning, convert the lists to arrays and increase the dmentions for being able to feed into the Neural Network\n",
    "    return np.array(final_list), np.expand_dims(np.array(labels), axis=1)"
   ]
  },
  {
   "cell_type": "code",
   "execution_count": 8,
   "id": "1ff71264",
   "metadata": {
    "scrolled": false
   },
   "outputs": [
    {
     "ename": "FileNotFoundError",
     "evalue": "[WinError 3] 지정된 경로를 찾을 수 없습니다: 'D:\\\\pythonWS\\\\TMP\\\\ECGDATA\\\\Train\\\\Normal'",
     "output_type": "error",
     "traceback": [
      "\u001b[1;31m---------------------------------------------------------------------------\u001b[0m",
      "\u001b[1;31mFileNotFoundError\u001b[0m                         Traceback (most recent call last)",
      "\u001b[1;32m~\\AppData\\Local\\Temp\\ipykernel_18524\\239265092.py\u001b[0m in \u001b[0;36m<module>\u001b[1;34m\u001b[0m\n\u001b[0;32m      1\u001b[0m \u001b[1;31m# Load the training and testing dataset separately by calling the function for each of their root folder locations\u001b[0m\u001b[1;33m\u001b[0m\u001b[1;33m\u001b[0m\u001b[1;33m\u001b[0m\u001b[0m\n\u001b[1;32m----> 2\u001b[1;33m \u001b[0mX_train\u001b[0m\u001b[1;33m,\u001b[0m \u001b[0my_train\u001b[0m \u001b[1;33m=\u001b[0m \u001b[0mload_data\u001b[0m\u001b[1;33m(\u001b[0m\u001b[0mroot_folder_train\u001b[0m\u001b[1;33m)\u001b[0m\u001b[1;33m\u001b[0m\u001b[1;33m\u001b[0m\u001b[0m\n\u001b[0m\u001b[0;32m      3\u001b[0m \u001b[0mX_test\u001b[0m\u001b[1;33m,\u001b[0m \u001b[0my_test\u001b[0m \u001b[1;33m=\u001b[0m \u001b[0mload_data\u001b[0m\u001b[1;33m(\u001b[0m\u001b[0mroot_folder_test\u001b[0m\u001b[1;33m)\u001b[0m\u001b[1;33m\u001b[0m\u001b[1;33m\u001b[0m\u001b[0m\n\u001b[0;32m      4\u001b[0m \u001b[0mprint\u001b[0m\u001b[1;33m(\u001b[0m\u001b[0mX_train\u001b[0m\u001b[1;33m.\u001b[0m\u001b[0mshape\u001b[0m\u001b[1;33m,\u001b[0m \u001b[0my_train\u001b[0m\u001b[1;33m.\u001b[0m\u001b[0mshape\u001b[0m\u001b[1;33m)\u001b[0m\u001b[1;33m\u001b[0m\u001b[1;33m\u001b[0m\u001b[0m\n\u001b[0;32m      5\u001b[0m \u001b[0mprint\u001b[0m\u001b[1;33m(\u001b[0m\u001b[0mX_test\u001b[0m\u001b[1;33m.\u001b[0m\u001b[0mshape\u001b[0m\u001b[1;33m,\u001b[0m \u001b[0my_test\u001b[0m\u001b[1;33m.\u001b[0m\u001b[0mshape\u001b[0m\u001b[1;33m)\u001b[0m\u001b[1;33m\u001b[0m\u001b[1;33m\u001b[0m\u001b[0m\n",
      "\u001b[1;32m~\\AppData\\Local\\Temp\\ipykernel_18524\\2552194812.py\u001b[0m in \u001b[0;36mload_data\u001b[1;34m(root_folder)\u001b[0m\n\u001b[0;32m      7\u001b[0m     \u001b[1;32mfor\u001b[0m \u001b[0mcat\u001b[0m \u001b[1;32min\u001b[0m \u001b[0mcategory\u001b[0m\u001b[1;33m:\u001b[0m\u001b[1;33m\u001b[0m\u001b[1;33m\u001b[0m\u001b[0m\n\u001b[0;32m      8\u001b[0m         \u001b[1;31m# It is taking and processing each file in the folder\u001b[0m\u001b[1;33m\u001b[0m\u001b[1;33m\u001b[0m\u001b[1;33m\u001b[0m\u001b[0m\n\u001b[1;32m----> 9\u001b[1;33m         \u001b[1;32mfor\u001b[0m \u001b[0mfilename\u001b[0m \u001b[1;32min\u001b[0m \u001b[0mos\u001b[0m\u001b[1;33m.\u001b[0m\u001b[0mlistdir\u001b[0m\u001b[1;33m(\u001b[0m\u001b[0mroot_folder\u001b[0m\u001b[1;33m+\u001b[0m\u001b[0mcat\u001b[0m\u001b[1;33m)\u001b[0m\u001b[1;33m:\u001b[0m\u001b[1;33m\u001b[0m\u001b[1;33m\u001b[0m\u001b[0m\n\u001b[0m\u001b[0;32m     10\u001b[0m \u001b[1;33m\u001b[0m\u001b[0m\n\u001b[0;32m     11\u001b[0m             \u001b[1;31m# Read each file for each category and drop the unnecessary columns\u001b[0m\u001b[1;33m\u001b[0m\u001b[1;33m\u001b[0m\u001b[1;33m\u001b[0m\u001b[0m\n",
      "\u001b[1;31mFileNotFoundError\u001b[0m: [WinError 3] 지정된 경로를 찾을 수 없습니다: 'D:\\\\pythonWS\\\\TMP\\\\ECGDATA\\\\Train\\\\Normal'"
     ]
    }
   ],
   "source": [
    "# Load the training and testing dataset separately by calling the function for each of their root folder locations\n",
    "X_train, y_train = load_data(root_folder_train)\n",
    "X_test, y_test = load_data(root_folder_test)\n",
    "print(X_train.shape, y_train.shape)\n",
    "print(X_test.shape, y_test.shape)"
   ]
  },
  {
   "cell_type": "code",
   "execution_count": null,
   "id": "000c6a08",
   "metadata": {},
   "outputs": [],
   "source": [
    "# Save the formatted data for easy access later. This is then loaded and used for the neural network\n",
    "np.save('D:/ECGDATA/Customized_Data/X_train.npy', X_train)\n",
    "np.save('D:/ECGDATA/Customized_Data/y_train.npy', y_train)\n",
    "np.save('D:/ECGDATA/Customized_Data/X_test.npy', X_test)\n",
    "np.save('D:/ECGDATA/Customized_Data/y_test.npy', y_test)"
   ]
  },
  {
   "cell_type": "code",
   "execution_count": null,
   "id": "c412ebbb",
   "metadata": {},
   "outputs": [],
   "source": []
  }
 ],
 "metadata": {
  "kernelspec": {
   "display_name": "Python 3",
   "language": "python",
   "name": "python3"
  },
  "language_info": {
   "codemirror_mode": {
    "name": "ipython",
    "version": 3
   },
   "file_extension": ".py",
   "mimetype": "text/x-python",
   "name": "python",
   "nbconvert_exporter": "python",
   "pygments_lexer": "ipython3",
   "version": "3.7.13"
  }
 },
 "nbformat": 4,
 "nbformat_minor": 5
}
