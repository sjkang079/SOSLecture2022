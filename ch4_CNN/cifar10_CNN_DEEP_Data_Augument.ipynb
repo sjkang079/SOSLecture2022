{
 "cells": [
  {
   "cell_type": "code",
   "execution_count": 1,
   "id": "23fd5438",
   "metadata": {},
   "outputs": [],
   "source": [
    "import tensorflow as tf\n",
    "from tensorflow.keras import datasets, layers, models, regularizers, optimizers\n",
    "from tensorflow.keras.preprocessing.image import ImageDataGenerator\n",
    "import numpy as np\n",
    " \n",
    "EPOCHS=50\n",
    "NUM_CLASSES = 10"
   ]
  },
  {
   "cell_type": "code",
   "execution_count": 2,
   "id": "419b1fe5",
   "metadata": {},
   "outputs": [],
   "source": [
    "\n",
    "def load_data():\n",
    "    (x_train, y_train), (x_test, y_test) = datasets.cifar10.load_data()\n",
    "    x_train = x_train.astype('float32')\n",
    "    x_test = x_test.astype('float32')\n",
    " \n",
    "    #normalize \n",
    "    mean = np.mean(x_train,axis=(0,1,2,3))\n",
    "    std = np.std(x_train,axis=(0,1,2,3))\n",
    "    x_train = (x_train-mean)/(std+1e-7)\n",
    "    x_test = (x_test-mean)/(std+1e-7)\n",
    " \n",
    "    y_train =  tf.keras.utils.to_categorical(y_train,NUM_CLASSES)\n",
    "    y_test =  tf.keras.utils.to_categorical(y_test,NUM_CLASSES)\n",
    "\n",
    "    return x_train, y_train, x_test, y_test\n",
    "\n",
    "def build_model(): \n",
    "    model = models.Sequential()\n",
    "    \n",
    "    #1st blocl\n",
    "    model.add(layers.Conv2D(32, (3,3), padding='same', \n",
    "        input_shape=x_train.shape[1:], activation='relu'))\n",
    "    model.add(layers.BatchNormalization())\n",
    "    model.add(layers.Conv2D(32, (3,3), padding='same', activation='relu'))\n",
    "    model.add(layers.BatchNormalization())\n",
    "    model.add(layers.MaxPooling2D(pool_size=(2,2)))\n",
    "    model.add(layers.Dropout(0.2))\n",
    "\n",
    "    #2nd block\n",
    "    model.add(layers.Conv2D(64, (3,3), padding='same', activation='relu'))\n",
    "    model.add(layers.BatchNormalization())\n",
    "    model.add(layers.Conv2D(64, (3,3), padding='same', activation='relu'))\n",
    "    model.add(layers.BatchNormalization())\n",
    "    model.add(layers.MaxPooling2D(pool_size=(2,2)))\n",
    "    model.add(layers.Dropout(0.3))\n",
    "\n",
    "    #3d block \n",
    "    model.add(layers.Conv2D(128, (3,3), padding='same', activation='relu'))\n",
    "    model.add(layers.BatchNormalization())\n",
    "    model.add(layers.Conv2D(128, (3,3), padding='same', activation='relu'))\n",
    "    model.add(layers.BatchNormalization())\n",
    "    model.add(layers.MaxPooling2D(pool_size=(2,2)))\n",
    "    model.add(layers.Dropout(0.4))\n",
    "\n",
    "    #dense  \n",
    "    model.add(layers.Flatten())\n",
    "    model.add(layers.Dense(NUM_CLASSES, activation='softmax'))\n",
    "    return model\n",
    "\n",
    "    model.summary()"
   ]
  },
  {
   "cell_type": "code",
   "execution_count": 3,
   "id": "f8516130",
   "metadata": {},
   "outputs": [
    {
     "name": "stderr",
     "output_type": "stream",
     "text": [
      "2022-10-04 19:28:15.909582: I tensorflow/core/common_runtime/pluggable_device/pluggable_device_factory.cc:305] Could not identify NUMA node of platform GPU ID 0, defaulting to 0. Your kernel may not have been built with NUMA support.\n",
      "2022-10-04 19:28:15.910049: I tensorflow/core/common_runtime/pluggable_device/pluggable_device_factory.cc:271] Created TensorFlow device (/job:localhost/replica:0/task:0/device:GPU:0 with 0 MB memory) -> physical PluggableDevice (device: 0, name: METAL, pci bus id: <undefined>)\n"
     ]
    },
    {
     "name": "stdout",
     "output_type": "stream",
     "text": [
      "Metal device set to: Apple M1 Pro\n"
     ]
    }
   ],
   "source": [
    "(x_train, y_train, x_test, y_test) = load_data()\n",
    "model = build_model()\n",
    "model.compile(loss='categorical_crossentropy', \n",
    "            optimizer='RMSprop', \n",
    "            metrics=['accuracy'])"
   ]
  },
  {
   "cell_type": "code",
   "execution_count": 4,
   "id": "e0531d46",
   "metadata": {},
   "outputs": [],
   "source": [
    "#image augmentation\n",
    "datagen = ImageDataGenerator(\n",
    "    rotation_range=30,\n",
    "    width_shift_range=0.2,\n",
    "    height_shift_range=0.2,\n",
    "    horizontal_flip=True,\n",
    "    )\n",
    "datagen.fit(x_train)"
   ]
  },
  {
   "cell_type": "code",
   "execution_count": 5,
   "id": "1dc8adee",
   "metadata": {},
   "outputs": [
    {
     "name": "stdout",
     "output_type": "stream",
     "text": [
      "Epoch 1/50\n"
     ]
    },
    {
     "name": "stderr",
     "output_type": "stream",
     "text": [
      "/var/folders/p5/32mb12x959s4wk6tf8vcdx680000gn/T/ipykernel_3869/326942008.py:3: UserWarning: `Model.fit_generator` is deprecated and will be removed in a future version. Please use `Model.fit`, which supports generators.\n",
      "  model.fit_generator(datagen.flow(x_train, y_train, batch_size=batch_size),\n",
      "2022-10-04 19:29:27.603071: W tensorflow/core/platform/profile_utils/cpu_utils.cc:128] Failed to get CPU frequency: 0 Hz\n",
      "2022-10-04 19:29:28.152737: I tensorflow/core/grappler/optimizers/custom_graph_optimizer_registry.cc:113] Plugin optimizer for device_type GPU is enabled.\n"
     ]
    },
    {
     "name": "stdout",
     "output_type": "stream",
     "text": [
      "782/782 [==============================] - ETA: 0s - loss: 2.0462 - accuracy: 0.3646"
     ]
    },
    {
     "name": "stderr",
     "output_type": "stream",
     "text": [
      "2022-10-04 19:29:44.015398: I tensorflow/core/grappler/optimizers/custom_graph_optimizer_registry.cc:113] Plugin optimizer for device_type GPU is enabled.\n"
     ]
    },
    {
     "name": "stdout",
     "output_type": "stream",
     "text": [
      "782/782 [==============================] - 18s 21ms/step - loss: 2.0462 - accuracy: 0.3646 - val_loss: 1.5353 - val_accuracy: 0.4920\n",
      "Epoch 2/50\n",
      "782/782 [==============================] - 16s 20ms/step - loss: 1.5530 - accuracy: 0.4957 - val_loss: 1.3656 - val_accuracy: 0.5591\n",
      "Epoch 3/50\n",
      "782/782 [==============================] - 16s 21ms/step - loss: 1.3464 - accuracy: 0.5539 - val_loss: 1.2873 - val_accuracy: 0.6086\n",
      "Epoch 4/50\n",
      "782/782 [==============================] - 16s 20ms/step - loss: 1.1935 - accuracy: 0.5962 - val_loss: 1.0619 - val_accuracy: 0.6493\n",
      "Epoch 5/50\n",
      "782/782 [==============================] - 16s 21ms/step - loss: 1.0959 - accuracy: 0.6288 - val_loss: 0.9882 - val_accuracy: 0.6755\n",
      "Epoch 6/50\n",
      "782/782 [==============================] - 16s 21ms/step - loss: 1.0190 - accuracy: 0.6483 - val_loss: 0.9920 - val_accuracy: 0.6772\n",
      "Epoch 7/50\n",
      "782/782 [==============================] - 16s 20ms/step - loss: 0.9677 - accuracy: 0.6696 - val_loss: 0.9557 - val_accuracy: 0.7059\n",
      "Epoch 8/50\n",
      "782/782 [==============================] - 16s 20ms/step - loss: 0.9276 - accuracy: 0.6808 - val_loss: 0.8941 - val_accuracy: 0.7162\n",
      "Epoch 9/50\n",
      "782/782 [==============================] - 16s 20ms/step - loss: 0.8846 - accuracy: 0.6966 - val_loss: 0.8498 - val_accuracy: 0.7261\n",
      "Epoch 10/50\n",
      "782/782 [==============================] - 16s 21ms/step - loss: 0.8552 - accuracy: 0.7063 - val_loss: 0.7512 - val_accuracy: 0.7539\n",
      "Epoch 11/50\n",
      "782/782 [==============================] - 16s 21ms/step - loss: 0.8315 - accuracy: 0.7135 - val_loss: 0.8347 - val_accuracy: 0.7387\n",
      "Epoch 12/50\n",
      "782/782 [==============================] - 16s 21ms/step - loss: 0.8095 - accuracy: 0.7208 - val_loss: 0.7826 - val_accuracy: 0.7453\n",
      "Epoch 13/50\n",
      "782/782 [==============================] - 16s 21ms/step - loss: 0.7857 - accuracy: 0.7300 - val_loss: 0.6783 - val_accuracy: 0.7784\n",
      "Epoch 14/50\n",
      "782/782 [==============================] - 16s 21ms/step - loss: 0.7735 - accuracy: 0.7346 - val_loss: 0.6512 - val_accuracy: 0.7851\n",
      "Epoch 15/50\n",
      "782/782 [==============================] - 16s 21ms/step - loss: 0.7602 - accuracy: 0.7389 - val_loss: 0.6350 - val_accuracy: 0.7866\n",
      "Epoch 16/50\n",
      "782/782 [==============================] - 16s 21ms/step - loss: 0.7381 - accuracy: 0.7459 - val_loss: 0.7233 - val_accuracy: 0.7603\n",
      "Epoch 17/50\n",
      "782/782 [==============================] - 16s 21ms/step - loss: 0.7251 - accuracy: 0.7510 - val_loss: 0.7009 - val_accuracy: 0.7762\n",
      "Epoch 18/50\n",
      "782/782 [==============================] - 16s 20ms/step - loss: 0.7107 - accuracy: 0.7546 - val_loss: 0.6832 - val_accuracy: 0.7825\n",
      "Epoch 19/50\n",
      "782/782 [==============================] - 16s 21ms/step - loss: 0.7047 - accuracy: 0.7584 - val_loss: 0.6721 - val_accuracy: 0.7835\n",
      "Epoch 20/50\n",
      "782/782 [==============================] - 16s 21ms/step - loss: 0.6944 - accuracy: 0.7589 - val_loss: 0.6714 - val_accuracy: 0.7777\n",
      "Epoch 21/50\n",
      "782/782 [==============================] - 16s 21ms/step - loss: 0.6840 - accuracy: 0.7647 - val_loss: 0.6253 - val_accuracy: 0.7949\n",
      "Epoch 22/50\n",
      "782/782 [==============================] - 16s 21ms/step - loss: 0.6704 - accuracy: 0.7692 - val_loss: 0.6019 - val_accuracy: 0.8044\n",
      "Epoch 23/50\n",
      "782/782 [==============================] - 16s 21ms/step - loss: 0.6635 - accuracy: 0.7696 - val_loss: 0.6159 - val_accuracy: 0.7995\n",
      "Epoch 24/50\n",
      "782/782 [==============================] - 16s 20ms/step - loss: 0.6649 - accuracy: 0.7709 - val_loss: 0.5789 - val_accuracy: 0.8109\n",
      "Epoch 25/50\n",
      "782/782 [==============================] - 16s 20ms/step - loss: 0.6485 - accuracy: 0.7742 - val_loss: 0.5954 - val_accuracy: 0.8095\n",
      "Epoch 26/50\n",
      "782/782 [==============================] - 16s 20ms/step - loss: 0.6402 - accuracy: 0.7769 - val_loss: 0.6082 - val_accuracy: 0.7963\n",
      "Epoch 27/50\n",
      "782/782 [==============================] - 16s 20ms/step - loss: 0.6351 - accuracy: 0.7815 - val_loss: 0.5810 - val_accuracy: 0.8113\n",
      "Epoch 28/50\n",
      "782/782 [==============================] - 16s 20ms/step - loss: 0.6288 - accuracy: 0.7818 - val_loss: 0.5756 - val_accuracy: 0.8140\n",
      "Epoch 29/50\n",
      "782/782 [==============================] - 16s 20ms/step - loss: 0.6206 - accuracy: 0.7839 - val_loss: 0.6653 - val_accuracy: 0.7911\n",
      "Epoch 30/50\n",
      "782/782 [==============================] - 16s 20ms/step - loss: 0.6220 - accuracy: 0.7865 - val_loss: 0.5690 - val_accuracy: 0.8177\n",
      "Epoch 31/50\n",
      "782/782 [==============================] - 16s 21ms/step - loss: 0.6168 - accuracy: 0.7861 - val_loss: 0.5109 - val_accuracy: 0.8325\n",
      "Epoch 32/50\n",
      "782/782 [==============================] - 16s 21ms/step - loss: 0.6067 - accuracy: 0.7923 - val_loss: 0.6315 - val_accuracy: 0.8040\n",
      "Epoch 33/50\n",
      "782/782 [==============================] - 16s 21ms/step - loss: 0.6062 - accuracy: 0.7905 - val_loss: 0.5261 - val_accuracy: 0.8307\n",
      "Epoch 34/50\n",
      "782/782 [==============================] - 16s 21ms/step - loss: 0.5985 - accuracy: 0.7930 - val_loss: 0.5253 - val_accuracy: 0.8288\n",
      "Epoch 35/50\n",
      "782/782 [==============================] - 16s 20ms/step - loss: 0.5935 - accuracy: 0.7944 - val_loss: 0.5517 - val_accuracy: 0.8242\n",
      "Epoch 36/50\n",
      "782/782 [==============================] - 16s 20ms/step - loss: 0.5850 - accuracy: 0.7972 - val_loss: 0.6257 - val_accuracy: 0.8051\n",
      "Epoch 37/50\n",
      "782/782 [==============================] - 16s 21ms/step - loss: 0.5939 - accuracy: 0.7952 - val_loss: 0.5192 - val_accuracy: 0.8328\n",
      "Epoch 38/50\n",
      "782/782 [==============================] - 16s 20ms/step - loss: 0.5840 - accuracy: 0.7987 - val_loss: 0.6186 - val_accuracy: 0.8105\n",
      "Epoch 39/50\n",
      "782/782 [==============================] - 16s 20ms/step - loss: 0.5797 - accuracy: 0.8007 - val_loss: 0.5585 - val_accuracy: 0.8269\n",
      "Epoch 40/50\n",
      "782/782 [==============================] - 16s 20ms/step - loss: 0.5811 - accuracy: 0.7991 - val_loss: 0.5368 - val_accuracy: 0.8257\n",
      "Epoch 41/50\n",
      "782/782 [==============================] - 16s 21ms/step - loss: 0.5694 - accuracy: 0.8031 - val_loss: 0.6346 - val_accuracy: 0.8070\n",
      "Epoch 42/50\n",
      "782/782 [==============================] - 16s 20ms/step - loss: 0.5654 - accuracy: 0.8039 - val_loss: 0.5769 - val_accuracy: 0.8199\n",
      "Epoch 43/50\n",
      "782/782 [==============================] - 16s 21ms/step - loss: 0.5683 - accuracy: 0.8026 - val_loss: 0.5164 - val_accuracy: 0.8324\n",
      "Epoch 44/50\n",
      "782/782 [==============================] - 16s 21ms/step - loss: 0.5696 - accuracy: 0.8048 - val_loss: 0.5474 - val_accuracy: 0.8222\n",
      "Epoch 45/50\n",
      "782/782 [==============================] - 16s 21ms/step - loss: 0.5584 - accuracy: 0.8079 - val_loss: 0.5621 - val_accuracy: 0.8237\n",
      "Epoch 46/50\n",
      "782/782 [==============================] - 16s 21ms/step - loss: 0.5572 - accuracy: 0.8080 - val_loss: 0.5822 - val_accuracy: 0.8222\n",
      "Epoch 47/50\n",
      "782/782 [==============================] - 16s 21ms/step - loss: 0.5467 - accuracy: 0.8121 - val_loss: 0.6527 - val_accuracy: 0.8048\n",
      "Epoch 48/50\n",
      "782/782 [==============================] - 16s 21ms/step - loss: 0.5505 - accuracy: 0.8109 - val_loss: 0.5022 - val_accuracy: 0.8389\n",
      "Epoch 49/50\n",
      "782/782 [==============================] - 16s 21ms/step - loss: 0.5493 - accuracy: 0.8117 - val_loss: 0.6163 - val_accuracy: 0.8105\n",
      "Epoch 50/50\n",
      "782/782 [==============================] - 16s 21ms/step - loss: 0.5418 - accuracy: 0.8121 - val_loss: 0.5159 - val_accuracy: 0.8360\n",
      "79/79 [==============================] - 1s 8ms/step - loss: 0.5159 - accuracy: 0.8360\n",
      "\n",
      "Test result: 83.600 loss: 0.516\n"
     ]
    }
   ],
   "source": [
    "#train\n",
    "batch_size = 64\n",
    "model.fit_generator(datagen.flow(x_train, y_train, batch_size=batch_size),\n",
    "                    epochs=EPOCHS,\n",
    "                    verbose=1,validation_data=(x_test,y_test))\n",
    "#save to disk\n",
    "model_json = model.to_json()\n",
    "with open('model.json', 'w') as json_file:\n",
    "    json_file.write(model_json)\n",
    "model.save_weights('model.h5') \n",
    "\n",
    "#test\n",
    "scores = model.evaluate(x_test, y_test, batch_size=128, verbose=1)\n",
    "print('\\nTest result: %.3f loss: %.3f' % (scores[1]*100,scores[0])) "
   ]
  },
  {
   "cell_type": "code",
   "execution_count": null,
   "id": "f0b4cadb",
   "metadata": {},
   "outputs": [],
   "source": []
  }
 ],
 "metadata": {
  "kernelspec": {
   "display_name": "Python 3 (ipykernel)",
   "language": "python",
   "name": "python3"
  },
  "language_info": {
   "codemirror_mode": {
    "name": "ipython",
    "version": 3
   },
   "file_extension": ".py",
   "mimetype": "text/x-python",
   "name": "python",
   "nbconvert_exporter": "python",
   "pygments_lexer": "ipython3",
   "version": "3.9.5"
  }
 },
 "nbformat": 4,
 "nbformat_minor": 5
}
