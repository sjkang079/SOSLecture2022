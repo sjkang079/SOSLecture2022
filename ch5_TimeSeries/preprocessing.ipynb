{
 "cells": [
  {
   "cell_type": "code",
   "execution_count": 1,
   "id": "64a55538",
   "metadata": {},
   "outputs": [
    {
     "name": "stdout",
     "output_type": "stream",
     "text": [
      "zsh:1: no matches found: featuretools[tsfresh]\n",
      "Name: featuretools\n",
      "Version: 1.14.0\n",
      "Summary: a framework for automated feature engineering\n",
      "Home-page: \n",
      "Author: \n",
      "Author-email: \"Alteryx, Inc.\" <open_source_support@alteryx.com>\n",
      "License: BSD 3-clause\n",
      "Location: /Users/sjkang/miniforge3/envs/tensorflow/lib/python3.9/site-packages\n",
      "Requires: click, cloudpickle, dask, distributed, holidays, numpy, packaging, pandas, psutil, scipy, tqdm, woodwork\n",
      "Required-by: \n"
     ]
    }
   ],
   "source": [
    "!pip install featuretools[tsfresh]\n",
    "!pip show featuretools"
   ]
  },
  {
   "cell_type": "code",
   "execution_count": 2,
   "id": "0943a97d",
   "metadata": {},
   "outputs": [],
   "source": [
    "import datetime\n",
    "import pandas as pd\n",
    "import matplotlib.pyplot as plt\n",
    "import seaborn as sns"
   ]
  },
  {
   "cell_type": "code",
   "execution_count": 3,
   "id": "2624989f",
   "metadata": {},
   "outputs": [],
   "source": [
    "###Transformations"
   ]
  },
  {
   "cell_type": "code",
   "execution_count": 4,
   "id": "fd6e61bd",
   "metadata": {},
   "outputs": [],
   "source": [
    "import numpy as np\n",
    "\n",
    "np.random.seed(0)\n",
    "pts = 10000\n",
    "vals = np.random.lognormal(0, 1.0, pts)"
   ]
  },
  {
   "cell_type": "code",
   "execution_count": 5,
   "id": "22d7a1f9",
   "metadata": {},
   "outputs": [
    {
     "data": {
      "image/png": "[encoded data removed]",
      "text/plain": [
       "<Figure size 432x288 with 1 Axes>"
      ]
     },
     "metadata": {
      "needs_background": "light"
     },
     "output_type": "display_data"
    }
   ],
   "source": [
    "plt.hist(vals, bins=20, density=True)\n",
    "plt.yscale(\"log\")\n",
    "plt.ylabel(\"frequency\")\n",
    "plt.xlabel(\"value range\");"
   ]
  },
  {
   "cell_type": "code",
   "execution_count": 6,
   "id": "94d98407",
   "metadata": {},
   "outputs": [
    {
     "name": "stdout",
     "output_type": "stream",
     "text": [
      "significance: 0.00\n"
     ]
    }
   ],
   "source": [
    "from sklearn.preprocessing import minmax_scale\n",
    "from sklearn.preprocessing import StandardScaler\n",
    "from scipy.stats import normaltest\n",
    "\n",
    "vals_mm = minmax_scale(vals)\n",
    "scaler = StandardScaler()\n",
    "vals_ss = scaler.fit_transform(vals.reshape(-1, 1))\n",
    "_, p = normaltest(vals_ss.squeeze())\n",
    "print(f\"significance: {p:.2f}\")"
   ]
  },
  {
   "cell_type": "code",
   "execution_count": 7,
   "id": "c542d7f1",
   "metadata": {},
   "outputs": [
    {
     "name": "stdout",
     "output_type": "stream",
     "text": [
      "significance: 0.00\n"
     ]
    }
   ],
   "source": [
    "_, p = normaltest(vals_mm.squeeze())\n",
    "print(f\"significance: {p:.2f}\")"
   ]
  },
  {
   "cell_type": "code",
   "execution_count": 8,
   "id": "a043d9d0",
   "metadata": {},
   "outputs": [
    {
     "data": {
      "image/png": "[encoded data removed]",
      "text/plain": [
       "<Figure size 432x288 with 1 Axes>"
      ]
     },
     "metadata": {
      "needs_background": "light"
     },
     "output_type": "display_data"
    }
   ],
   "source": [
    "plt.scatter(vals, vals_ss, alpha=0.3)\n",
    "plt.ylabel(\"standard scaled\")\n",
    "plt.xlabel(\"original\");"
   ]
  },
  {
   "cell_type": "code",
   "execution_count": 9,
   "id": "4200d4e0",
   "metadata": {},
   "outputs": [
    {
     "name": "stdout",
     "output_type": "stream",
     "text": [
      "significance: 0.31\n"
     ]
    }
   ],
   "source": [
    "from statsmodels.stats.diagnostic import kstest_normal\n",
    "\n",
    "log_transformed = np.log(vals)\n",
    "_, p = kstest_normal(log_transformed)  # stats.normaltest\n",
    "print(f\"significance: {p:.2f}\")"
   ]
  },
  {
   "cell_type": "code",
   "execution_count": 11,
   "id": "e7ad9b0e",
   "metadata": {},
   "outputs": [
    {
     "data": {
      "text/plain": [
       "0.9875565681761207"
      ]
     },
     "execution_count": 11,
     "metadata": {},
     "output_type": "execute_result"
    }
   ],
   "source": [
    "np.std(log_transformed)"
   ]
  },
  {
   "cell_type": "code",
   "execution_count": 12,
   "id": "29954133",
   "metadata": {},
   "outputs": [
    {
     "data": {
      "text/plain": [
       "-0.01843372015826582"
      ]
     },
     "execution_count": 12,
     "metadata": {},
     "output_type": "execute_result"
    }
   ],
   "source": [
    "np.mean(log_transformed)"
   ]
  },
  {
   "cell_type": "code",
   "execution_count": 13,
   "id": "ae34d28a",
   "metadata": {},
   "outputs": [
    {
     "data": {
      "image/png": "[encoded data removed]",
      "text/plain": [
       "<Figure size 432x288 with 1 Axes>"
      ]
     },
     "metadata": {
      "needs_background": "light"
     },
     "output_type": "display_data"
    }
   ],
   "source": [
    "plt.hist(log_transformed, bins=20, density=True)\n",
    "#plt.yscale(\"log\")\n",
    "plt.ylabel(\"frequency\")\n",
    "plt.xlabel(\"value range\");"
   ]
  },
  {
   "cell_type": "code",
   "execution_count": 14,
   "id": "712f5cd7",
   "metadata": {},
   "outputs": [
    {
     "name": "stdout",
     "output_type": "stream",
     "text": [
      "significance: 0.46\n"
     ]
    }
   ],
   "source": [
    "from scipy.stats import boxcox\n",
    "vals_bc = boxcox(vals, 0.0)\n",
    "_, p = normaltest(vals_bc)\n",
    "print(f\"significance: {p:.2f}\")"
   ]
  },
  {
   "cell_type": "code",
   "execution_count": 15,
   "id": "dcd590cb",
   "metadata": {},
   "outputs": [
    {
     "data": {
      "image/png": "[encoded data removed]",
      "text/plain": [
       "<Figure size 432x288 with 1 Axes>"
      ]
     },
     "metadata": {
      "needs_background": "light"
     },
     "output_type": "display_data"
    }
   ],
   "source": [
    "plt.hist(vals_bc, bins=20, density=True)\n",
    "plt.ylabel(\"frequency\")\n",
    "plt.xlabel(\"value range\");"
   ]
  },
  {
   "cell_type": "code",
   "execution_count": 16,
   "id": "0e572473",
   "metadata": {},
   "outputs": [],
   "source": [
    "##Derived Date Features"
   ]
  },
  {
   "cell_type": "code",
   "execution_count": 17,
   "id": "951f9171",
   "metadata": {},
   "outputs": [],
   "source": [
    "#Holidays"
   ]
  },
  {
   "cell_type": "code",
   "execution_count": 18,
   "id": "59b5735c",
   "metadata": {},
   "outputs": [
    {
     "data": {
      "text/plain": [
       "[(datetime.date(2022, 1, 1), 'New year'),\n",
       " (datetime.date(2022, 1, 3), 'New Year shift'),\n",
       " (datetime.date(2022, 4, 15), 'Good Friday'),\n",
       " (datetime.date(2022, 4, 17), 'Easter Sunday'),\n",
       " (datetime.date(2022, 4, 18), 'Easter Monday'),\n",
       " (datetime.date(2022, 5, 2), 'Early May Bank Holiday'),\n",
       " (datetime.date(2022, 6, 2), 'Spring Bank Holiday'),\n",
       " (datetime.date(2022, 6, 3), 'Queen’s Platinum Jubilee bank holiday'),\n",
       " (datetime.date(2022, 8, 29), 'Late Summer Bank Holiday'),\n",
       " (datetime.date(2022, 9, 19), 'State Funeral of Queen Elizabeth II'),\n",
       " (datetime.date(2022, 12, 25), 'Christmas Day'),\n",
       " (datetime.date(2022, 12, 26), 'Boxing Day'),\n",
       " (datetime.date(2022, 12, 26), 'Christmas Shift'),\n",
       " (datetime.date(2022, 12, 27), 'Boxing Day Shift')]"
      ]
     },
     "execution_count": 18,
     "metadata": {},
     "output_type": "execute_result"
    }
   ],
   "source": [
    "from workalendar.europe.united_kingdom import UnitedKingdom\n",
    "UnitedKingdom().holidays()"
   ]
  },
  {
   "cell_type": "code",
   "execution_count": 19,
   "id": "5b960b04",
   "metadata": {},
   "outputs": [],
   "source": [
    "from typing import List\n",
    "from dateutil.relativedelta import relativedelta, TH\n",
    "import datetime\n",
    "from workalendar.usa import California\n",
    "\n",
    "def create_custom_holidays(year) -> List:\n",
    "      custom_holidays = California().holidays()\n",
    "      custom_holidays.append((\n",
    "        (datetime.datetime(year, 11, 1) + relativedelta(weekday=TH(+4)) + datetime.timedelta(days=1)).date(),\n",
    "        \"Black Friday\"\n",
    "      ))\n",
    "      return {k: v for (k, v) in custom_holidays}\n",
    "\n",
    "custom_holidays = create_custom_holidays(2021)"
   ]
  },
  {
   "cell_type": "code",
   "execution_count": 20,
   "id": "ac8b2c8b",
   "metadata": {},
   "outputs": [
    {
     "data": {
      "text/plain": [
       "{datetime.date(2021, 12, 31): 'New year (Observed)',\n",
       " datetime.date(2022, 1, 1): 'New year',\n",
       " datetime.date(2022, 1, 17): 'Birthday of Martin Luther King, Jr.',\n",
       " datetime.date(2022, 2, 21): \"Washington's Birthday\",\n",
       " datetime.date(2022, 3, 31): 'Cesar Chavez Day',\n",
       " datetime.date(2022, 5, 30): 'Memorial Day',\n",
       " datetime.date(2022, 7, 4): 'Independence Day',\n",
       " datetime.date(2022, 9, 5): 'Labor Day',\n",
       " datetime.date(2022, 11, 11): 'Veterans Day',\n",
       " datetime.date(2022, 11, 24): 'Thanksgiving Day',\n",
       " datetime.date(2022, 11, 25): 'Thanksgiving Friday',\n",
       " datetime.date(2022, 12, 25): 'Christmas Day',\n",
       " datetime.date(2022, 12, 26): 'Christmas Day (Observed)',\n",
       " datetime.date(2021, 11, 26): 'Black Friday'}"
      ]
     },
     "execution_count": 20,
     "metadata": {},
     "output_type": "execute_result"
    }
   ],
   "source": [
    "custom_holidays"
   ]
  },
  {
   "cell_type": "code",
   "execution_count": 21,
   "id": "3d2671b7",
   "metadata": {},
   "outputs": [
    {
     "data": {
      "text/plain": [
       "False"
      ]
     },
     "execution_count": 21,
     "metadata": {},
     "output_type": "execute_result"
    }
   ],
   "source": [
    "def is_holiday(current_date: datetime.date):\n",
    "    \"\"\"Determine if we have a holiday.\"\"\"\n",
    "    return custom_holidays.get(current_date, False)\n",
    "\n",
    "today = datetime.date(2021, 4, 11)\n",
    "is_holiday(today)"
   ]
  },
  {
   "cell_type": "code",
   "execution_count": 23,
   "id": "e1574bd3",
   "metadata": {},
   "outputs": [],
   "source": [
    "###Date Annotations"
   ]
  },
  {
   "cell_type": "code",
   "execution_count": 24,
   "id": "3bcba420",
   "metadata": {},
   "outputs": [
    {
     "data": {
      "text/plain": [
       "(4, 31)"
      ]
     },
     "execution_count": 24,
     "metadata": {},
     "output_type": "execute_result"
    }
   ],
   "source": [
    "import calendar\n",
    "\n",
    "calendar.monthrange(2021, 1)"
   ]
  },
  {
   "cell_type": "code",
   "execution_count": 25,
   "id": "771c3d51",
   "metadata": {},
   "outputs": [
    {
     "data": {
      "text/plain": [
       "(100, 264)"
      ]
     },
     "execution_count": 25,
     "metadata": {},
     "output_type": "execute_result"
    }
   ],
   "source": [
    "from datetime import date\n",
    "def year_anchor(current_date: datetime.date):\n",
    "      return (\n",
    "        (current_date - date(current_date.year, 1, 1)).days,\n",
    "        (date(current_date.year, 12, 31) - current_date).days,\n",
    "      )\n",
    "\n",
    "year_anchor(today)"
   ]
  },
  {
   "cell_type": "code",
   "execution_count": 26,
   "id": "e5bf6342",
   "metadata": {},
   "outputs": [
    {
     "data": {
      "text/plain": [
       "(10, 8)"
      ]
     },
     "execution_count": 26,
     "metadata": {},
     "output_type": "execute_result"
    }
   ],
   "source": [
    "def month_anchor(current_date: datetime.date):\n",
    "      last_day = calendar.monthrange(current_date.year, current_date.month)[0]\n",
    "    \n",
    "      return (\n",
    "        (current_date - datetime.date(current_date.year, current_date.month, 1)).days,\n",
    "        (current_date - datetime.date(current_date.year, current_date.month, last_day)).days,\n",
    "      )\n",
    "\n",
    "month_anchor(today)"
   ]
  },
  {
   "cell_type": "code",
   "execution_count": null,
   "id": "62e4f9de",
   "metadata": {},
   "outputs": [],
   "source": [
    "###Seasons"
   ]
  },
  {
   "cell_type": "code",
   "execution_count": 27,
   "id": "35ae152b",
   "metadata": {},
   "outputs": [
    {
     "data": {
      "text/plain": [
       "'spring'"
      ]
     },
     "execution_count": 27,
     "metadata": {},
     "output_type": "execute_result"
    }
   ],
   "source": [
    "YEAR = 2021\n",
    "seasons = [\n",
    "    ('winter', (date(YEAR,  1,  1),  date(YEAR,  3, 20))),\n",
    "    ('spring', (date(YEAR,  3, 21),  date(YEAR,  6, 20))),\n",
    "    ('summer', (date(YEAR,  6, 21),  date(YEAR,  9, 22))),\n",
    "    ('autumn', (date(YEAR,  9, 23),  date(YEAR, 12, 20))),\n",
    "    ('winter', (date(YEAR, 12, 21),  date(YEAR, 12, 31)))\n",
    "]\n",
    "\n",
    "def is_in_interval(current_date: datetime.date, seasons):\n",
    "      return next(season for season, (start, end) in seasons\n",
    "                if start <= current_date.replace(year=YEAR) <= end)\n",
    "    \n",
    "is_in_interval(today, seasons)"
   ]
  },
  {
   "cell_type": "code",
   "execution_count": null,
   "id": "488f1579",
   "metadata": {},
   "outputs": [],
   "source": [
    "###Sun and Moon"
   ]
  },
  {
   "cell_type": "code",
   "execution_count": null,
   "id": "38fdecf6",
   "metadata": {},
   "outputs": [],
   "source": []
  },
  {
   "cell_type": "code",
   "execution_count": 28,
   "id": "9bab57ea",
   "metadata": {},
   "outputs": [
    {
     "ename": "AttributeError",
     "evalue": "'builtin_function_or_method' object has no attribute 'year'",
     "output_type": "error",
     "traceback": [
      "\u001b[0;31m---------------------------------------------------------------------------\u001b[0m",
      "\u001b[0;31mAttributeError\u001b[0m                            Traceback (most recent call last)",
      "Input \u001b[0;32mIn [28]\u001b[0m, in \u001b[0;36m<cell line: 14>\u001b[0;34m()\u001b[0m\n\u001b[1;32m     10\u001b[0m       dusk \u001b[38;5;241m=\u001b[39m s[\u001b[38;5;124m'\u001b[39m\u001b[38;5;124mdusk\u001b[39m\u001b[38;5;124m'\u001b[39m]\n\u001b[1;32m     11\u001b[0m       \u001b[38;5;28;01mreturn\u001b[39;00m (sunrise \u001b[38;5;241m-\u001b[39m dusk)\u001b[38;5;241m.\u001b[39mseconds \u001b[38;5;241m/\u001b[39m \u001b[38;5;241m3600\u001b[39m\n\u001b[0;32m---> 14\u001b[0m \u001b[43mget_sunrise_dusk\u001b[49m\u001b[43m(\u001b[49m\u001b[43mdate\u001b[49m\u001b[38;5;241;43m.\u001b[39;49m\u001b[43mtoday\u001b[49m\u001b[43m)\u001b[49m\n",
      "Input \u001b[0;32mIn [28]\u001b[0m, in \u001b[0;36mget_sunrise_dusk\u001b[0;34m(current_date, city_name)\u001b[0m\n\u001b[1;32m      7\u001b[0m \u001b[38;5;28;01mdef\u001b[39;00m \u001b[38;5;21mget_sunrise_dusk\u001b[39m(current_date: datetime\u001b[38;5;241m.\u001b[39mdate, city_name\u001b[38;5;241m=\u001b[39m\u001b[38;5;124m'\u001b[39m\u001b[38;5;124mLondon\u001b[39m\u001b[38;5;124m'\u001b[39m):\n\u001b[0;32m----> 8\u001b[0m       s \u001b[38;5;241m=\u001b[39m \u001b[43msun\u001b[49m\u001b[43m(\u001b[49m\u001b[43mCITY\u001b[49m\u001b[38;5;241;43m.\u001b[39;49m\u001b[43mobserver\u001b[49m\u001b[43m,\u001b[49m\u001b[43m \u001b[49m\u001b[43mdate\u001b[49m\u001b[38;5;241;43m=\u001b[39;49m\u001b[43mcurrent_date\u001b[49m\u001b[43m)\u001b[49m\n\u001b[1;32m      9\u001b[0m       sunrise \u001b[38;5;241m=\u001b[39m s[\u001b[38;5;124m'\u001b[39m\u001b[38;5;124msunrise\u001b[39m\u001b[38;5;124m'\u001b[39m]\n\u001b[1;32m     10\u001b[0m       dusk \u001b[38;5;241m=\u001b[39m s[\u001b[38;5;124m'\u001b[39m\u001b[38;5;124mdusk\u001b[39m\u001b[38;5;124m'\u001b[39m]\n",
      "File \u001b[0;32m~/miniforge3/envs/tensorflow/lib/python3.9/site-packages/astral/sun.py:1150\u001b[0m, in \u001b[0;36msun\u001b[0;34m(observer, date, dawn_dusk_depression, tzinfo)\u001b[0m\n\u001b[1;32m   1146\u001b[0m \u001b[38;5;28;01mif\u001b[39;00m date \u001b[38;5;129;01mis\u001b[39;00m \u001b[38;5;28;01mNone\u001b[39;00m:\n\u001b[1;32m   1147\u001b[0m     date \u001b[38;5;241m=\u001b[39m today(tzinfo)\n\u001b[1;32m   1149\u001b[0m \u001b[38;5;28;01mreturn\u001b[39;00m {\n\u001b[0;32m-> 1150\u001b[0m     \u001b[38;5;124m\"\u001b[39m\u001b[38;5;124mdawn\u001b[39m\u001b[38;5;124m\"\u001b[39m: \u001b[43mdawn\u001b[49m\u001b[43m(\u001b[49m\u001b[43mobserver\u001b[49m\u001b[43m,\u001b[49m\u001b[43m \u001b[49m\u001b[43mdate\u001b[49m\u001b[43m,\u001b[49m\u001b[43m \u001b[49m\u001b[43mdawn_dusk_depression\u001b[49m\u001b[43m,\u001b[49m\u001b[43m \u001b[49m\u001b[43mtzinfo\u001b[49m\u001b[43m)\u001b[49m,\n\u001b[1;32m   1151\u001b[0m     \u001b[38;5;124m\"\u001b[39m\u001b[38;5;124msunrise\u001b[39m\u001b[38;5;124m\"\u001b[39m: sunrise(observer, date, tzinfo),\n\u001b[1;32m   1152\u001b[0m     \u001b[38;5;124m\"\u001b[39m\u001b[38;5;124mnoon\u001b[39m\u001b[38;5;124m\"\u001b[39m: noon(observer, date, tzinfo),\n\u001b[1;32m   1153\u001b[0m     \u001b[38;5;124m\"\u001b[39m\u001b[38;5;124msunset\u001b[39m\u001b[38;5;124m\"\u001b[39m: sunset(observer, date, tzinfo),\n\u001b[1;32m   1154\u001b[0m     \u001b[38;5;124m\"\u001b[39m\u001b[38;5;124mdusk\u001b[39m\u001b[38;5;124m\"\u001b[39m: dusk(observer, date, dawn_dusk_depression, tzinfo),\n\u001b[1;32m   1155\u001b[0m }\n",
      "File \u001b[0;32m~/miniforge3/envs/tensorflow/lib/python3.9/site-packages/astral/sun.py:734\u001b[0m, in \u001b[0;36mdawn\u001b[0;34m(observer, date, depression, tzinfo)\u001b[0m\n\u001b[1;32m    731\u001b[0m     dep \u001b[38;5;241m=\u001b[39m depression\n\u001b[1;32m    733\u001b[0m \u001b[38;5;28;01mtry\u001b[39;00m:\n\u001b[0;32m--> 734\u001b[0m     \u001b[38;5;28;01mreturn\u001b[39;00m \u001b[43mtime_of_transit\u001b[49m\u001b[43m(\u001b[49m\n\u001b[1;32m    735\u001b[0m \u001b[43m        \u001b[49m\u001b[43mobserver\u001b[49m\u001b[43m,\u001b[49m\u001b[43m \u001b[49m\u001b[43mdate\u001b[49m\u001b[43m,\u001b[49m\u001b[43m \u001b[49m\u001b[38;5;241;43m90.0\u001b[39;49m\u001b[43m \u001b[49m\u001b[38;5;241;43m+\u001b[39;49m\u001b[43m \u001b[49m\u001b[43mdep\u001b[49m\u001b[43m,\u001b[49m\u001b[43m \u001b[49m\u001b[43mSunDirection\u001b[49m\u001b[38;5;241;43m.\u001b[39;49m\u001b[43mRISING\u001b[49m\n\u001b[1;32m    736\u001b[0m \u001b[43m    \u001b[49m\u001b[43m)\u001b[49m\u001b[38;5;241m.\u001b[39mastimezone(tzinfo)\n\u001b[1;32m    737\u001b[0m \u001b[38;5;28;01mexcept\u001b[39;00m \u001b[38;5;167;01mValueError\u001b[39;00m \u001b[38;5;28;01mas\u001b[39;00m exc:\n\u001b[1;32m    738\u001b[0m     \u001b[38;5;28;01mif\u001b[39;00m exc\u001b[38;5;241m.\u001b[39margs[\u001b[38;5;241m0\u001b[39m] \u001b[38;5;241m==\u001b[39m \u001b[38;5;124m\"\u001b[39m\u001b[38;5;124mmath domain error\u001b[39m\u001b[38;5;124m\"\u001b[39m:\n",
      "File \u001b[0;32m~/miniforge3/envs/tensorflow/lib/python3.9/site-packages/astral/sun.py:339\u001b[0m, in \u001b[0;36mtime_of_transit\u001b[0;34m(observer, date, zenith, direction)\u001b[0m\n\u001b[1;32m    335\u001b[0m     adjustment_for_elevation \u001b[38;5;241m=\u001b[39m adjust_to_obscuring_feature(observer\u001b[38;5;241m.\u001b[39melevation)\n\u001b[1;32m    337\u001b[0m adjustment_for_refraction \u001b[38;5;241m=\u001b[39m refraction_at_zenith(zenith \u001b[38;5;241m+\u001b[39m adjustment_for_elevation)\n\u001b[0;32m--> 339\u001b[0m jd \u001b[38;5;241m=\u001b[39m \u001b[43mjulianday\u001b[49m\u001b[43m(\u001b[49m\u001b[43mdate\u001b[49m\u001b[43m)\u001b[49m\n\u001b[1;32m    340\u001b[0m t \u001b[38;5;241m=\u001b[39m jday_to_jcentury(jd)\n\u001b[1;32m    341\u001b[0m solarDec \u001b[38;5;241m=\u001b[39m sun_declination(t)\n",
      "File \u001b[0;32m~/miniforge3/envs/tensorflow/lib/python3.9/site-packages/astral/sun.py:48\u001b[0m, in \u001b[0;36mjulianday\u001b[0;34m(date)\u001b[0m\n\u001b[1;32m     46\u001b[0m \u001b[38;5;28;01mdef\u001b[39;00m \u001b[38;5;21mjulianday\u001b[39m(date: datetime\u001b[38;5;241m.\u001b[39mdate) \u001b[38;5;241m-\u001b[39m\u001b[38;5;241m>\u001b[39m \u001b[38;5;28mfloat\u001b[39m:\n\u001b[1;32m     47\u001b[0m     \u001b[38;5;124;03m\"\"\"Calculate the Julian Day for the specified date\"\"\"\u001b[39;00m\n\u001b[0;32m---> 48\u001b[0m     y \u001b[38;5;241m=\u001b[39m \u001b[43mdate\u001b[49m\u001b[38;5;241;43m.\u001b[39;49m\u001b[43myear\u001b[49m\n\u001b[1;32m     49\u001b[0m     m \u001b[38;5;241m=\u001b[39m date\u001b[38;5;241m.\u001b[39mmonth\n\u001b[1;32m     50\u001b[0m     d \u001b[38;5;241m=\u001b[39m date\u001b[38;5;241m.\u001b[39mday\n",
      "\u001b[0;31mAttributeError\u001b[0m: 'builtin_function_or_method' object has no attribute 'year'"
     ]
    }
   ],
   "source": [
    "from datetime import date,time\n",
    "##from datetime import datetime\n",
    "from datetime import timedelta\n",
    "from astral.sun import sun\n",
    "from astral import LocationInfo\n",
    "CITY = LocationInfo(\"London\", \"England\", \"Europe/London\", 51.5, -0.116)\n",
    "def get_sunrise_dusk(current_date: datetime.date, city_name='London'):\n",
    "      s = sun(CITY.observer, date=current_date)\n",
    "      sunrise = s['sunrise']\n",
    "      dusk = s['dusk']\n",
    "      return (sunrise - dusk).seconds / 3600\n",
    "\n",
    "\n",
    "get_sunrise_dusk(date.today)"
   ]
  },
  {
   "cell_type": "code",
   "execution_count": null,
   "id": "a852adc2",
   "metadata": {},
   "outputs": [],
   "source": []
  },
  {
   "cell_type": "code",
   "execution_count": null,
   "id": "341252ee",
   "metadata": {},
   "outputs": [],
   "source": []
  },
  {
   "cell_type": "code",
   "execution_count": null,
   "id": "51a6b010",
   "metadata": {},
   "outputs": [],
   "source": []
  },
  {
   "cell_type": "code",
   "execution_count": null,
   "id": "409dc4c0",
   "metadata": {},
   "outputs": [],
   "source": []
  },
  {
   "cell_type": "code",
   "execution_count": null,
   "id": "95f70b10",
   "metadata": {},
   "outputs": [],
   "source": []
  },
  {
   "cell_type": "code",
   "execution_count": null,
   "id": "18a69da4",
   "metadata": {},
   "outputs": [],
   "source": []
  }
 ],
 "metadata": {
  "kernelspec": {
   "display_name": "Python 3 (ipykernel)",
   "language": "python",
   "name": "python3"
  },
  "language_info": {
   "codemirror_mode": {
    "name": "ipython",
    "version": 3
   },
   "file_extension": ".py",
   "mimetype": "text/x-python",
   "name": "python",
   "nbconvert_exporter": "python",
   "pygments_lexer": "ipython3",
   "version": "3.9.5"
  }
 },
 "nbformat": 4,
 "nbformat_minor": 5
}
