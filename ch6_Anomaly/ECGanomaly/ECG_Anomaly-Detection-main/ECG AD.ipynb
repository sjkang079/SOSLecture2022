{
 "cells": [
  {
   "cell_type": "code",
   "execution_count": 4,
   "metadata": {},
   "outputs": [],
   "source": [
    "import matplotlib.pyplot as plt\n",
    "import numpy as np\n",
    "import pandas as pd\n",
    "import tensorflow as tf\n",
    "from sklearn.metrics import accuracy_score,precision_score,recall_score\n",
    "from sklearn.model_selection import train_test_split\n",
    "from tensorflow.keras import layers,losses\n",
    "from tensorflow.keras.datasets import fashion_mnist\n",
    "from tensorflow.keras.models import Model"
   ]
  },
  {
   "cell_type": "code",
   "execution_count": 5,
   "metadata": {
    "scrolled": true
   },
   "outputs": [
    {
     "data": {
      "text/html": [
       "<div>\n",
       "<style scoped>\n",
       "    .dataframe tbody tr th:only-of-type {\n",
       "        vertical-align: middle;\n",
       "    }\n",
       "\n",
       "    .dataframe tbody tr th {\n",
       "        vertical-align: top;\n",
       "    }\n",
       "\n",
       "    .dataframe thead th {\n",
       "        text-align: right;\n",
       "    }\n",
       "</style>\n",
       "<table border=\"1\" class=\"dataframe\">\n",
       "  <thead>\n",
       "    <tr style=\"text-align: right;\">\n",
       "      <th></th>\n",
       "      <th>0</th>\n",
       "      <th>1</th>\n",
       "      <th>2</th>\n",
       "      <th>3</th>\n",
       "      <th>4</th>\n",
       "      <th>5</th>\n",
       "      <th>6</th>\n",
       "      <th>7</th>\n",
       "      <th>8</th>\n",
       "      <th>9</th>\n",
       "      <th>...</th>\n",
       "      <th>131</th>\n",
       "      <th>132</th>\n",
       "      <th>133</th>\n",
       "      <th>134</th>\n",
       "      <th>135</th>\n",
       "      <th>136</th>\n",
       "      <th>137</th>\n",
       "      <th>138</th>\n",
       "      <th>139</th>\n",
       "      <th>140</th>\n",
       "    </tr>\n",
       "  </thead>\n",
       "  <tbody>\n",
       "    <tr>\n",
       "      <th>0</th>\n",
       "      <td>-0.112522</td>\n",
       "      <td>-2.827204</td>\n",
       "      <td>-3.773897</td>\n",
       "      <td>-4.349751</td>\n",
       "      <td>-4.376041</td>\n",
       "      <td>-3.474986</td>\n",
       "      <td>-2.181408</td>\n",
       "      <td>-1.818286</td>\n",
       "      <td>-1.250522</td>\n",
       "      <td>-0.477492</td>\n",
       "      <td>...</td>\n",
       "      <td>0.792168</td>\n",
       "      <td>0.933541</td>\n",
       "      <td>0.796958</td>\n",
       "      <td>0.578621</td>\n",
       "      <td>0.257740</td>\n",
       "      <td>0.228077</td>\n",
       "      <td>0.123431</td>\n",
       "      <td>0.925286</td>\n",
       "      <td>0.193137</td>\n",
       "      <td>1.0</td>\n",
       "    </tr>\n",
       "    <tr>\n",
       "      <th>1</th>\n",
       "      <td>-1.100878</td>\n",
       "      <td>-3.996840</td>\n",
       "      <td>-4.285843</td>\n",
       "      <td>-4.506579</td>\n",
       "      <td>-4.022377</td>\n",
       "      <td>-3.234368</td>\n",
       "      <td>-1.566126</td>\n",
       "      <td>-0.992258</td>\n",
       "      <td>-0.754680</td>\n",
       "      <td>0.042321</td>\n",
       "      <td>...</td>\n",
       "      <td>0.538356</td>\n",
       "      <td>0.656881</td>\n",
       "      <td>0.787490</td>\n",
       "      <td>0.724046</td>\n",
       "      <td>0.555784</td>\n",
       "      <td>0.476333</td>\n",
       "      <td>0.773820</td>\n",
       "      <td>1.119621</td>\n",
       "      <td>-1.436250</td>\n",
       "      <td>1.0</td>\n",
       "    </tr>\n",
       "    <tr>\n",
       "      <th>2</th>\n",
       "      <td>-0.567088</td>\n",
       "      <td>-2.593450</td>\n",
       "      <td>-3.874230</td>\n",
       "      <td>-4.584095</td>\n",
       "      <td>-4.187449</td>\n",
       "      <td>-3.151462</td>\n",
       "      <td>-1.742940</td>\n",
       "      <td>-1.490659</td>\n",
       "      <td>-1.183580</td>\n",
       "      <td>-0.394229</td>\n",
       "      <td>...</td>\n",
       "      <td>0.886073</td>\n",
       "      <td>0.531452</td>\n",
       "      <td>0.311377</td>\n",
       "      <td>-0.021919</td>\n",
       "      <td>-0.713683</td>\n",
       "      <td>-0.532197</td>\n",
       "      <td>0.321097</td>\n",
       "      <td>0.904227</td>\n",
       "      <td>-0.421797</td>\n",
       "      <td>1.0</td>\n",
       "    </tr>\n",
       "    <tr>\n",
       "      <th>3</th>\n",
       "      <td>0.490473</td>\n",
       "      <td>-1.914407</td>\n",
       "      <td>-3.616364</td>\n",
       "      <td>-4.318823</td>\n",
       "      <td>-4.268016</td>\n",
       "      <td>-3.881110</td>\n",
       "      <td>-2.993280</td>\n",
       "      <td>-1.671131</td>\n",
       "      <td>-1.333884</td>\n",
       "      <td>-0.965629</td>\n",
       "      <td>...</td>\n",
       "      <td>0.350816</td>\n",
       "      <td>0.499111</td>\n",
       "      <td>0.600345</td>\n",
       "      <td>0.842069</td>\n",
       "      <td>0.952074</td>\n",
       "      <td>0.990133</td>\n",
       "      <td>1.086798</td>\n",
       "      <td>1.403011</td>\n",
       "      <td>-0.383564</td>\n",
       "      <td>1.0</td>\n",
       "    </tr>\n",
       "    <tr>\n",
       "      <th>4</th>\n",
       "      <td>0.800232</td>\n",
       "      <td>-0.874252</td>\n",
       "      <td>-2.384761</td>\n",
       "      <td>-3.973292</td>\n",
       "      <td>-4.338224</td>\n",
       "      <td>-3.802422</td>\n",
       "      <td>-2.534510</td>\n",
       "      <td>-1.783423</td>\n",
       "      <td>-1.594450</td>\n",
       "      <td>-0.753199</td>\n",
       "      <td>...</td>\n",
       "      <td>1.148884</td>\n",
       "      <td>0.958434</td>\n",
       "      <td>1.059025</td>\n",
       "      <td>1.371682</td>\n",
       "      <td>1.277392</td>\n",
       "      <td>0.960304</td>\n",
       "      <td>0.971020</td>\n",
       "      <td>1.614392</td>\n",
       "      <td>1.421456</td>\n",
       "      <td>1.0</td>\n",
       "    </tr>\n",
       "  </tbody>\n",
       "</table>\n",
       "<p>5 rows × 141 columns</p>\n",
       "</div>"
      ],
      "text/plain": [
       "        0         1         2         3         4         5         6    \\\n",
       "0 -0.112522 -2.827204 -3.773897 -4.349751 -4.376041 -3.474986 -2.181408   \n",
       "1 -1.100878 -3.996840 -4.285843 -4.506579 -4.022377 -3.234368 -1.566126   \n",
       "2 -0.567088 -2.593450 -3.874230 -4.584095 -4.187449 -3.151462 -1.742940   \n",
       "3  0.490473 -1.914407 -3.616364 -4.318823 -4.268016 -3.881110 -2.993280   \n",
       "4  0.800232 -0.874252 -2.384761 -3.973292 -4.338224 -3.802422 -2.534510   \n",
       "\n",
       "        7         8         9    ...       131       132       133       134  \\\n",
       "0 -1.818286 -1.250522 -0.477492  ...  0.792168  0.933541  0.796958  0.578621   \n",
       "1 -0.992258 -0.754680  0.042321  ...  0.538356  0.656881  0.787490  0.724046   \n",
       "2 -1.490659 -1.183580 -0.394229  ...  0.886073  0.531452  0.311377 -0.021919   \n",
       "3 -1.671131 -1.333884 -0.965629  ...  0.350816  0.499111  0.600345  0.842069   \n",
       "4 -1.783423 -1.594450 -0.753199  ...  1.148884  0.958434  1.059025  1.371682   \n",
       "\n",
       "        135       136       137       138       139  140  \n",
       "0  0.257740  0.228077  0.123431  0.925286  0.193137  1.0  \n",
       "1  0.555784  0.476333  0.773820  1.119621 -1.436250  1.0  \n",
       "2 -0.713683 -0.532197  0.321097  0.904227 -0.421797  1.0  \n",
       "3  0.952074  0.990133  1.086798  1.403011 -0.383564  1.0  \n",
       "4  1.277392  0.960304  0.971020  1.614392  1.421456  1.0  \n",
       "\n",
       "[5 rows x 141 columns]"
      ]
     },
     "execution_count": 5,
     "metadata": {},
     "output_type": "execute_result"
    }
   ],
   "source": [
    "#Download the dataset\n",
    "dataframe=pd.read_csv('data/ecg.csv',header=None)\n",
    "raw_data=dataframe.values\n",
    "dataframe.head()"
   ]
  },
  {
   "cell_type": "code",
   "execution_count": 6,
   "metadata": {},
   "outputs": [],
   "source": [
    "labels=raw_data[:,-1]\n",
    "\n",
    "data=raw_data[:,0:-1]\n",
    "train_data,test_data,train_labels,test_labels=train_test_split(data,labels,test_size=0.2,random_state=21)"
   ]
  },
  {
   "cell_type": "code",
   "execution_count": 7,
   "metadata": {},
   "outputs": [
    {
     "name": "stdout",
     "output_type": "stream",
     "text": [
      "Metal device set to: Apple M1 Pro\n"
     ]
    },
    {
     "name": "stderr",
     "output_type": "stream",
     "text": [
      "2022-10-09 11:05:34.879017: I tensorflow/core/common_runtime/pluggable_device/pluggable_device_factory.cc:305] Could not identify NUMA node of platform GPU ID 0, defaulting to 0. Your kernel may not have been built with NUMA support.\n",
      "2022-10-09 11:05:34.879494: I tensorflow/core/common_runtime/pluggable_device/pluggable_device_factory.cc:271] Created TensorFlow device (/job:localhost/replica:0/task:0/device:GPU:0 with 0 MB memory) -> physical PluggableDevice (device: 0, name: METAL, pci bus id: <undefined>)\n"
     ]
    },
    {
     "data": {
      "text/plain": [
       "tf.float32"
      ]
     },
     "execution_count": 7,
     "metadata": {},
     "output_type": "execute_result"
    }
   ],
   "source": [
    "min_val=tf.reduce_min(train_data)\n",
    "max_val=tf.reduce_max(train_data)#https://blog.csdn.net/nanhuaibeian/article/details/100591478?utm_medium=distribute.pc_relevant_t0.none-task-blog-BlogCommendFromBaidu-1.not_use_machine_learn_pai&depth_1-utm_source=distribute.pc_relevant_t0.none-task-blog-BlogCommendFromBaidu-1.not_use_machine_learn_pai\n",
    "train_data=(train_data-min_val)/(max_val-min_val)\n",
    "test_data=(test_data-min_val)/(max_val-min_val)\n",
    "train_data=tf.cast(train_data,tf.float32)\n",
    "test_data=tf.cast(test_data,tf.float32)\n",
    "test_data.dtype"
   ]
  },
  {
   "cell_type": "code",
   "execution_count": 8,
   "metadata": {},
   "outputs": [
    {
     "data": {
      "text/plain": [
       "<tf.Tensor: shape=(560, 140), dtype=float32, numpy=\n",
       "array([[0.48035768, 0.28877792, 0.19828546, ..., 0.45463306, 0.5246125 ,\n",
       "        0.3713729 ],\n",
       "       [0.45354807, 0.2557325 , 0.15979648, ..., 0.4801337 , 0.5284734 ,\n",
       "        0.49527124],\n",
       "       [0.4521779 , 0.25685105, 0.12592098, ..., 0.55448556, 0.5861353 ,\n",
       "        0.4754273 ],\n",
       "       ...,\n",
       "       [0.48304972, 0.36122933, 0.27729514, ..., 0.32799056, 0.3158066 ,\n",
       "        0.26930442],\n",
       "       [0.4090865 , 0.27907097, 0.22604261, ..., 0.39099607, 0.45987615,\n",
       "        0.42140076],\n",
       "       [0.42648116, 0.17669384, 0.14546008, ..., 0.4733389 , 0.55036914,\n",
       "        0.37805188]], dtype=float32)>"
      ]
     },
     "execution_count": 8,
     "metadata": {},
     "output_type": "execute_result"
    }
   ],
   "source": [
    "trian_labels=train_labels.astype(bool)\n",
    "test_labels=test_labels.astype(bool)\n",
    "\n",
    "normal_train_data = train_data[train_labels==True]\n",
    "normal_test_data = test_data[test_labels==True]\n",
    "\n",
    "anomalous_train_data = train_data[train_labels==False]\n",
    "anomalous_test_data = test_data[test_labels==False]\n",
    "normal_test_data"
   ]
  },
  {
   "cell_type": "code",
   "execution_count": 9,
   "metadata": {},
   "outputs": [
    {
     "data": {
      "image/png": "[encoded data removed]",
      "text/plain": [
       "<Figure size 432x288 with 1 Axes>"
      ]
     },
     "metadata": {
      "needs_background": "light"
     },
     "output_type": "display_data"
    }
   ],
   "source": [
    "#normal ECG\n",
    "plt.grid(linestyle=\":\",color=\"b\")\n",
    "plt.plot(np.arange(140),normal_train_data[0])\n",
    "plt.title(\"A Normal ECG\")\n",
    "plt.show()"
   ]
  },
  {
   "cell_type": "code",
   "execution_count": 10,
   "metadata": {},
   "outputs": [
    {
     "data": {
      "image/png": "[encoded data removed]",
      "text/plain": [
       "<Figure size 432x288 with 1 Axes>"
      ]
     },
     "metadata": {
      "needs_background": "light"
     },
     "output_type": "display_data"
    }
   ],
   "source": [
    "#anomal ECG\n",
    "plt.grid(linestyle=\":\",color=\"b\")\n",
    "plt.plot(np.arange(140),anomalous_train_data[0])\n",
    "plt.title(\"An Anomalous ECG\")\n",
    "plt.show()"
   ]
  },
  {
   "cell_type": "code",
   "execution_count": 11,
   "metadata": {},
   "outputs": [],
   "source": [
    "##model\n",
    "class AnomalyDetector(Model):\n",
    "    def __init__(self):\n",
    "        super(AnomalyDetector,self).__init__()\n",
    "        self.encoder=tf.keras.Sequential([layers.Dense(32,activation=\"relu\"),layers.Dense(16,activation=\"relu\"),layers.Dense(8,activation=\"relu\")])\n",
    "        self.decoder=tf.keras.Sequential([\n",
    "          layers.Dense(16, activation=\"relu\"),\n",
    "          layers.Dense(32, activation=\"relu\"),\n",
    "          layers.Dense(140, activation=\"sigmoid\")])\n",
    "    def call(self,x):\n",
    "        encoded=self.encoder(x)\n",
    "        decoded=self.decoder(x)\n",
    "        return decoded\n",
    "autoencoder=AnomalyDetector()\n",
    "autoencoder.compile(optimizer='adam',loss='mae')"
   ]
  },
  {
   "cell_type": "code",
   "execution_count": 12,
   "metadata": {},
   "outputs": [
    {
     "name": "stdout",
     "output_type": "stream",
     "text": [
      "Epoch 1/20\n",
      "WARNING:tensorflow:Gradients do not exist for variables ['dense/kernel:0', 'dense/bias:0', 'dense_1/kernel:0', 'dense_1/bias:0', 'dense_2/kernel:0', 'dense_2/bias:0'] when minimizing the loss. If you're using `model.compile()`, did you forget to provide a `loss`argument?\n"
     ]
    },
    {
     "name": "stderr",
     "output_type": "stream",
     "text": [
      "2022-10-09 11:06:11.666098: W tensorflow/core/platform/profile_utils/cpu_utils.cc:128] Failed to get CPU frequency: 0 Hz\n"
     ]
    },
    {
     "name": "stdout",
     "output_type": "stream",
     "text": [
      "WARNING:tensorflow:Gradients do not exist for variables ['dense/kernel:0', 'dense/bias:0', 'dense_1/kernel:0', 'dense_1/bias:0', 'dense_2/kernel:0', 'dense_2/bias:0'] when minimizing the loss. If you're using `model.compile()`, did you forget to provide a `loss`argument?\n"
     ]
    },
    {
     "name": "stderr",
     "output_type": "stream",
     "text": [
      "2022-10-09 11:06:11.958808: I tensorflow/core/grappler/optimizers/custom_graph_optimizer_registry.cc:113] Plugin optimizer for device_type GPU is enabled.\n"
     ]
    },
    {
     "name": "stdout",
     "output_type": "stream",
     "text": [
      "5/5 [==============================] - 1s 50ms/step - loss: 0.0656 - val_loss: 0.0573\n",
      "Epoch 2/20\n",
      "5/5 [==============================] - 0s 10ms/step - loss: 0.0574 - val_loss: 0.0530\n",
      "Epoch 3/20\n",
      "5/5 [==============================] - 0s 9ms/step - loss: 0.0542 - val_loss: 0.0511\n",
      "Epoch 4/20\n",
      "5/5 [==============================] - 0s 8ms/step - loss: 0.0518 - val_loss: 0.0497\n",
      "Epoch 5/20\n",
      "1/5 [=====>........................] - ETA: 0s - loss: 0.0499"
     ]
    },
    {
     "name": "stderr",
     "output_type": "stream",
     "text": [
      "2022-10-09 11:06:12.643117: I tensorflow/core/grappler/optimizers/custom_graph_optimizer_registry.cc:113] Plugin optimizer for device_type GPU is enabled.\n"
     ]
    },
    {
     "name": "stdout",
     "output_type": "stream",
     "text": [
      "5/5 [==============================] - 0s 8ms/step - loss: 0.0491 - val_loss: 0.0482\n",
      "Epoch 6/20\n",
      "5/5 [==============================] - 0s 8ms/step - loss: 0.0459 - val_loss: 0.0466\n",
      "Epoch 7/20\n",
      "5/5 [==============================] - 0s 9ms/step - loss: 0.0426 - val_loss: 0.0452\n",
      "Epoch 8/20\n",
      "5/5 [==============================] - 0s 8ms/step - loss: 0.0395 - val_loss: 0.0437\n",
      "Epoch 9/20\n",
      "5/5 [==============================] - 0s 9ms/step - loss: 0.0364 - val_loss: 0.0419\n",
      "Epoch 10/20\n",
      "5/5 [==============================] - 0s 8ms/step - loss: 0.0335 - val_loss: 0.0403\n",
      "Epoch 11/20\n",
      "5/5 [==============================] - 0s 8ms/step - loss: 0.0312 - val_loss: 0.0392\n",
      "Epoch 12/20\n",
      "5/5 [==============================] - 0s 8ms/step - loss: 0.0293 - val_loss: 0.0380\n",
      "Epoch 13/20\n",
      "5/5 [==============================] - 0s 8ms/step - loss: 0.0276 - val_loss: 0.0372\n",
      "Epoch 14/20\n",
      "5/5 [==============================] - 0s 9ms/step - loss: 0.0261 - val_loss: 0.0364\n",
      "Epoch 15/20\n",
      "5/5 [==============================] - 0s 9ms/step - loss: 0.0248 - val_loss: 0.0356\n",
      "Epoch 16/20\n",
      "5/5 [==============================] - 0s 9ms/step - loss: 0.0237 - val_loss: 0.0350\n",
      "Epoch 17/20\n",
      "5/5 [==============================] - 0s 8ms/step - loss: 0.0229 - val_loss: 0.0346\n",
      "Epoch 18/20\n",
      "5/5 [==============================] - 0s 9ms/step - loss: 0.0223 - val_loss: 0.0342\n",
      "Epoch 19/20\n",
      "5/5 [==============================] - 0s 9ms/step - loss: 0.0218 - val_loss: 0.0340\n",
      "Epoch 20/20\n",
      "5/5 [==============================] - 0s 10ms/step - loss: 0.0213 - val_loss: 0.0338\n"
     ]
    }
   ],
   "source": [
    "\n",
    "history=autoencoder.fit(normal_train_data,normal_train_data,epochs=20,batch_size=512,\n",
    "                       validation_data=(test_data,test_data),shuffle=True)"
   ]
  },
  {
   "cell_type": "code",
   "execution_count": 13,
   "metadata": {},
   "outputs": [
    {
     "data": {
      "text/plain": [
       "<matplotlib.legend.Legend at 0x292455220>"
      ]
     },
     "execution_count": 13,
     "metadata": {},
     "output_type": "execute_result"
    },
    {
     "data": {
      "image/png": "[encoded data removed]",
      "text/plain": [
       "<Figure size 432x288 with 1 Axes>"
      ]
     },
     "metadata": {
      "needs_background": "light"
     },
     "output_type": "display_data"
    }
   ],
   "source": [
    "plt.plot(history.history[\"loss\"],label=\"Training Loss\")\n",
    "plt.plot(history.history[\"val_loss\"],label=\"Validation Loss\")\n",
    "plt.legend()"
   ]
  },
  {
   "cell_type": "code",
   "execution_count": 138,
   "metadata": {},
   "outputs": [
    {
     "data": {
      "image/png": "[encoded data removed]",
      "text/plain": [
       "<Figure size 432x288 with 1 Axes>"
      ]
     },
     "metadata": {
      "needs_background": "light"
     },
     "output_type": "display_data"
    },
    {
     "data": {
      "text/plain": [
       "array([[0.2555583 , 0.        , 0.09528635, ..., 0.3557812 , 0.1657536 ,\n",
       "        0.06648298],\n",
       "       [0.23585561, 0.        , 0.10561839, ..., 0.39087993, 0.13874952,\n",
       "        0.03694454],\n",
       "       [0.25422245, 0.        , 0.10345703, ..., 0.4265148 , 0.18697335,\n",
       "        0.08491793],\n",
       "       ...,\n",
       "       [0.2238874 , 0.        , 0.1244058 , ..., 0.4330535 , 0.21985236,\n",
       "        0.12493309],\n",
       "       [0.21668261, 0.        , 0.12037995, ..., 0.39924523, 0.13873115,\n",
       "        0.0411683 ],\n",
       "       [0.2161204 , 0.        , 0.12168553, ..., 0.38597968, 0.15462941,\n",
       "        0.03810754]], dtype=float32)"
      ]
     },
     "execution_count": 138,
     "metadata": {},
     "output_type": "execute_result"
    }
   ],
   "source": [
    "encoded_imgs=autoencoder.encoder(normal_test_data).numpy()\n",
    "decoded_imgs=autoencoder.decoder(normal_test_data).numpy()\n",
    "plt.plot(normal_test_data[0],'b')\n",
    "plt.plot(decoded_imgs[0],'r')\n",
    "plt.fill_between(np.arange(140),decoded_imgs[0],normal_test_data[0],color='lightcoral')\n",
    "plt.legend(labels=[\"Input\",\"Reconstruction\",\"Error\"])\n",
    "plt.show()\n",
    "encoded_imgs"
   ]
  },
  {
   "cell_type": "code",
   "execution_count": 146,
   "metadata": {},
   "outputs": [],
   "source": [
    "encoded_imgs=autoencoder.encoder(anomalous_test_data).numpy()\n",
    "decoded_imgs=autoencoder.decoder(anomalous_test_data).numpy()"
   ]
  },
  {
   "cell_type": "code",
   "execution_count": 147,
   "metadata": {},
   "outputs": [
    {
     "data": {
      "image/png": "[encoded data removed]",
      "text/plain": [
       "<Figure size 432x288 with 1 Axes>"
      ]
     },
     "metadata": {
      "needs_background": "light"
     },
     "output_type": "display_data"
    }
   ],
   "source": [
    "plt.plot(anomalous_test_data[0],'b')\n",
    "plt.plot(decoded_imgs[0],'r')\n",
    "plt.fill_between(np.arange(140),decoded_imgs[0],anomalous_test_data[0],color='lightcoral')\n",
    "plt.legend(labels=[\"Input\",\"Reconstruction\",\"Error\"])\n",
    "plt.show()"
   ]
  },
  {
   "cell_type": "code",
   "execution_count": 201,
   "metadata": {},
   "outputs": [
    {
     "data": {
      "text/plain": [
       "array([[0.41380453, 0.3153438 , 0.3074426 , ..., 0.5145064 , 0.5152197 ,\n",
       "        0.4169959 ],\n",
       "       [0.41241598, 0.31415835, 0.30778798, ..., 0.5082562 , 0.5146942 ,\n",
       "        0.41524723],\n",
       "       [0.40812522, 0.3083728 , 0.29826844, ..., 0.51941544, 0.5178381 ,\n",
       "        0.41540617],\n",
       "       ...,\n",
       "       [0.4131756 , 0.31389993, 0.30685532, ..., 0.51212585, 0.5150769 ,\n",
       "        0.41600072],\n",
       "       [0.41207662, 0.31165403, 0.30362058, ..., 0.51571447, 0.5159343 ,\n",
       "        0.41583717],\n",
       "       [0.41148973, 0.31259212, 0.30476916, ..., 0.5128152 , 0.51558566,\n",
       "        0.41540223]], dtype=float32)"
      ]
     },
     "execution_count": 201,
     "metadata": {},
     "output_type": "execute_result"
    }
   ],
   "source": [
    "reconstructions=autoencoder.predict(normal_train_data)#predict为输入样本生成输出预测，样本属于每个类别的概率，这里是0（异常），1（正常）。计算是分批进行的，返回预测的 Numpy 数组（或数组列表）。\n",
    "reconstructions"
   ]
  },
  {
   "cell_type": "code",
   "execution_count": 202,
   "metadata": {
    "scrolled": true
   },
   "outputs": [
    {
     "data": {
      "text/plain": [
       "array([0.0289216 , 0.01321632, 0.02052343, ..., 0.01408088, 0.02460689,\n",
       "       0.01808788], dtype=float32)"
      ]
     },
     "execution_count": 202,
     "metadata": {},
     "output_type": "execute_result"
    }
   ],
   "source": [
    "train_loss=tf.keras.losses.mae(reconstructions,normal_train_data).numpy()\n",
    "train_loss"
   ]
  },
  {
   "cell_type": "code",
   "execution_count": 203,
   "metadata": {},
   "outputs": [
    {
     "data": {
      "image/png": "[encoded data removed]",
      "text/plain": [
       "<Figure size 432x288 with 1 Axes>"
      ]
     },
     "metadata": {
      "needs_background": "light"
     },
     "output_type": "display_data"
    }
   ],
   "source": [
    "plt.hist(train_loss,bins=50,density=True)#直方图\n",
    "plt.xlabel(\"Train Loss\")\n",
    "plt.ylabel(\"No of Examples\")\n",
    "plt.show()"
   ]
  },
  {
   "cell_type": "code",
   "execution_count": 204,
   "metadata": {},
   "outputs": [
    {
     "name": "stdout",
     "output_type": "stream",
     "text": [
      "Threshold 0.032959238\n"
     ]
    }
   ],
   "source": [
    "#选择比平均值高一个标准偏差的阈值。这里选择阈值的方法取决于数据集。\n",
    "threshold=np.mean(train_loss)+np.std(train_loss)\n",
    "print(\"Threshold\",threshold)"
   ]
  },
  {
   "cell_type": "code",
   "execution_count": 205,
   "metadata": {},
   "outputs": [
    {
     "data": {
      "text/plain": [
       "array([[0.40688264, 0.30828443, 0.29523492, ..., 0.5267016 , 0.5191071 ,\n",
       "        0.41661417],\n",
       "       [0.4182523 , 0.32958204, 0.32941368, ..., 0.48170316, 0.5082155 ,\n",
       "        0.4146314 ],\n",
       "       [0.41970825, 0.32497528, 0.3255919 , ..., 0.4859928 , 0.50842375,\n",
       "        0.4133119 ],\n",
       "       ...,\n",
       "       [0.42013764, 0.32541203, 0.32556605, ..., 0.48734376, 0.50829875,\n",
       "        0.41360122],\n",
       "       [0.41686746, 0.33152017, 0.33023095, ..., 0.48259863, 0.5094029 ,\n",
       "        0.41687724],\n",
       "       [0.40550542, 0.32110286, 0.3097554 , ..., 0.50840825, 0.518119  ,\n",
       "        0.41905764]], dtype=float32)"
      ]
     },
     "execution_count": 205,
     "metadata": {},
     "output_type": "execute_result"
    }
   ],
   "source": [
    "#当检测测试集中的异常样本的重构误差的时候，大部分样本的重构误差会比阈值大很多，\n",
    "#通过改变阈值可以的调整分类器的精准率和召回率\n",
    "reconstructions=autoencoder.predict(anomalous_test_data)\n",
    "reconstructions"
   ]
  },
  {
   "cell_type": "code",
   "execution_count": 206,
   "metadata": {},
   "outputs": [
    {
     "data": {
      "image/png": "[encoded data removed]",
      "text/plain": [
       "<Figure size 432x288 with 1 Axes>"
      ]
     },
     "metadata": {
      "needs_background": "light"
     },
     "output_type": "display_data"
    }
   ],
   "source": [
    "test_loss=tf.keras.losses.mae(reconstructions,anomalous_test_data).numpy()\n",
    "plt.hist(test_loss,bins=50,density=True)\n",
    "plt.xlabel(\"Test Loss\")\n",
    "plt.ylabel(\"No of Examples\")\n",
    "plt.show()"
   ]
  },
  {
   "cell_type": "code",
   "execution_count": 211,
   "metadata": {},
   "outputs": [],
   "source": [
    "#如果异构误差大于阈值那么将这个ECG分类为异常\n",
    "def predict(model,data,threshold):\n",
    "    reconstructions=model(data)\n",
    "    loss=tf.keras.losses.mae(reconstructions,data)\n",
    "    return tf.math.less(loss,threshold)#返回loss小于threshold的真值\n",
    "def print_stats(prediction,labels):\n",
    "    print(\"Accuracy={}\".format(accuracy_score(labels,preds)))\n",
    "    print(\"Precision={}\".format(precision_score(labels,preds)))\n",
    "    print(\"Recall={}\".format(recall_score(labels,preds)))"
   ]
  },
  {
   "cell_type": "code",
   "execution_count": 212,
   "metadata": {},
   "outputs": [
    {
     "name": "stdout",
     "output_type": "stream",
     "text": [
      "Accuracy=0.943\n",
      "Precision=0.9941060903732809\n",
      "Recall=0.9035714285714286\n"
     ]
    }
   ],
   "source": [
    "preds=predict(autoencoder,test_data,threshold)\n",
    "print_stats(preds,test_labels)"
   ]
  }
 ],
 "metadata": {
  "kernelspec": {
   "display_name": "Python 3 (ipykernel)",
   "language": "python",
   "name": "python3"
  },
  "language_info": {
   "codemirror_mode": {
    "name": "ipython",
    "version": 3
   },
   "file_extension": ".py",
   "mimetype": "text/x-python",
   "name": "python",
   "nbconvert_exporter": "python",
   "pygments_lexer": "ipython3",
   "version": "3.9.5"
  }
 },
 "nbformat": 4,
 "nbformat_minor": 4
}
