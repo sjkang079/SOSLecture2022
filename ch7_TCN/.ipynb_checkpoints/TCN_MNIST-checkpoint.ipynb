{
 "cells": [
  {
   "cell_type": "markdown",
   "metadata": {
    "colab_type": "text",
    "id": "view-in-github"
   },
   "source": [
    "<a href=\"https://colab.research.google.com/github/ashishpatel26/tcn-keras-Examples/blob/master/TCN_MNIST.ipynb\" target=\"_parent\"><img src=\"https://colab.research.google.com/assets/colab-badge.svg\" alt=\"Open In Colab\"/></a>"
   ]
  },
  {
   "cell_type": "code",
   "execution_count": 1,
   "metadata": {
    "colab": {
     "base_uri": "https://localhost:8080/",
     "height": 340
    },
    "colab_type": "code",
    "id": "wy08t6Eknnof",
    "outputId": "20040753-0702-450d-c038-e40228c8bce9"
   },
   "outputs": [
    {
     "name": "stdout",
     "output_type": "stream",
     "text": [
      "Requirement already satisfied: keras-tcn in /Users/sjkang/miniforge3/envs/tensorflow/lib/python3.9/site-packages (3.5.0)\n",
      "Requirement already satisfied: numpy in /Users/sjkang/miniforge3/envs/tensorflow/lib/python3.9/site-packages (from keras-tcn) (1.23.3)\n",
      "Requirement already satisfied: tensorflow-macos in /Users/sjkang/miniforge3/envs/tensorflow/lib/python3.9/site-packages (from keras-tcn) (2.8.0)\n",
      "Requirement already satisfied: tensorflow_addons in /Users/sjkang/miniforge3/envs/tensorflow/lib/python3.9/site-packages (from keras-tcn) (0.18.0)\n",
      "Requirement already satisfied: packaging in /Users/sjkang/miniforge3/envs/tensorflow/lib/python3.9/site-packages (from tensorflow_addons->keras-tcn) (21.3)\n",
      "Requirement already satisfied: typeguard>=2.7 in /Users/sjkang/miniforge3/envs/tensorflow/lib/python3.9/site-packages (from tensorflow_addons->keras-tcn) (2.13.3)\n",
      "Requirement already satisfied: setuptools in /Users/sjkang/miniforge3/envs/tensorflow/lib/python3.9/site-packages (from tensorflow-macos->keras-tcn) (59.8.0)\n",
      "Requirement already satisfied: wrapt>=1.11.0 in /Users/sjkang/miniforge3/envs/tensorflow/lib/python3.9/site-packages (from tensorflow-macos->keras-tcn) (1.14.0)\n",
      "Requirement already satisfied: h5py>=2.9.0 in /Users/sjkang/miniforge3/envs/tensorflow/lib/python3.9/site-packages (from tensorflow-macos->keras-tcn) (3.6.0)\n",
      "Requirement already satisfied: protobuf>=3.9.2 in /Users/sjkang/miniforge3/envs/tensorflow/lib/python3.9/site-packages (from tensorflow-macos->keras-tcn) (3.11.2)\n",
      "Requirement already satisfied: absl-py>=0.4.0 in /Users/sjkang/miniforge3/envs/tensorflow/lib/python3.9/site-packages (from tensorflow-macos->keras-tcn) (1.0.0)\n",
      "Requirement already satisfied: keras-preprocessing>=1.1.1 in /Users/sjkang/miniforge3/envs/tensorflow/lib/python3.9/site-packages (from tensorflow-macos->keras-tcn) (1.1.2)\n",
      "Requirement already satisfied: opt-einsum>=2.3.2 in /Users/sjkang/miniforge3/envs/tensorflow/lib/python3.9/site-packages (from tensorflow-macos->keras-tcn) (3.3.0)\n",
      "Requirement already satisfied: flatbuffers>=1.12 in /Users/sjkang/miniforge3/envs/tensorflow/lib/python3.9/site-packages (from tensorflow-macos->keras-tcn) (2.0)\n",
      "Requirement already satisfied: grpcio<2.0,>=1.24.3 in /Users/sjkang/miniforge3/envs/tensorflow/lib/python3.9/site-packages (from tensorflow-macos->keras-tcn) (1.44.0)\n",
      "Requirement already satisfied: astunparse>=1.6.0 in /Users/sjkang/miniforge3/envs/tensorflow/lib/python3.9/site-packages (from tensorflow-macos->keras-tcn) (1.6.3)\n",
      "Requirement already satisfied: termcolor>=1.1.0 in /Users/sjkang/miniforge3/envs/tensorflow/lib/python3.9/site-packages (from tensorflow-macos->keras-tcn) (1.1.0)\n",
      "Requirement already satisfied: gast>=0.2.1 in /Users/sjkang/miniforge3/envs/tensorflow/lib/python3.9/site-packages (from tensorflow-macos->keras-tcn) (0.5.3)\n",
      "Requirement already satisfied: libclang>=9.0.1 in /Users/sjkang/miniforge3/envs/tensorflow/lib/python3.9/site-packages (from tensorflow-macos->keras-tcn) (13.0.0)\n",
      "Requirement already satisfied: keras<2.9,>=2.8.0rc0 in /Users/sjkang/miniforge3/envs/tensorflow/lib/python3.9/site-packages (from tensorflow-macos->keras-tcn) (2.8.0)\n",
      "Requirement already satisfied: tf-estimator-nightly==2.8.0.dev2021122109 in /Users/sjkang/miniforge3/envs/tensorflow/lib/python3.9/site-packages (from tensorflow-macos->keras-tcn) (2.8.0.dev2021122109)\n",
      "Requirement already satisfied: typing-extensions>=3.6.6 in /Users/sjkang/miniforge3/envs/tensorflow/lib/python3.9/site-packages (from tensorflow-macos->keras-tcn) (4.1.1)\n",
      "Requirement already satisfied: six>=1.12.0 in /Users/sjkang/miniforge3/envs/tensorflow/lib/python3.9/site-packages (from tensorflow-macos->keras-tcn) (1.15.0)\n",
      "Requirement already satisfied: tensorboard<2.9,>=2.8 in /Users/sjkang/miniforge3/envs/tensorflow/lib/python3.9/site-packages (from tensorflow-macos->keras-tcn) (2.8.0)\n",
      "Requirement already satisfied: google-pasta>=0.1.1 in /Users/sjkang/miniforge3/envs/tensorflow/lib/python3.9/site-packages (from tensorflow-macos->keras-tcn) (0.2.0)\n",
      "Requirement already satisfied: wheel<1.0,>=0.23.0 in /Users/sjkang/miniforge3/envs/tensorflow/lib/python3.9/site-packages (from astunparse>=1.6.0->tensorflow-macos->keras-tcn) (0.37.1)\n",
      "Requirement already satisfied: markdown>=2.6.8 in /Users/sjkang/miniforge3/envs/tensorflow/lib/python3.9/site-packages (from tensorboard<2.9,>=2.8->tensorflow-macos->keras-tcn) (3.3.6)\n",
      "Requirement already satisfied: google-auth-oauthlib<0.5,>=0.4.1 in /Users/sjkang/miniforge3/envs/tensorflow/lib/python3.9/site-packages (from tensorboard<2.9,>=2.8->tensorflow-macos->keras-tcn) (0.4.6)\n",
      "Requirement already satisfied: tensorboard-data-server<0.7.0,>=0.6.0 in /Users/sjkang/miniforge3/envs/tensorflow/lib/python3.9/site-packages (from tensorboard<2.9,>=2.8->tensorflow-macos->keras-tcn) (0.6.1)\n",
      "Requirement already satisfied: tensorboard-plugin-wit>=1.6.0 in /Users/sjkang/miniforge3/envs/tensorflow/lib/python3.9/site-packages (from tensorboard<2.9,>=2.8->tensorflow-macos->keras-tcn) (1.8.1)\n",
      "Requirement already satisfied: requests<3,>=2.21.0 in /Users/sjkang/miniforge3/envs/tensorflow/lib/python3.9/site-packages (from tensorboard<2.9,>=2.8->tensorflow-macos->keras-tcn) (2.27.1)\n",
      "Requirement already satisfied: google-auth<3,>=1.6.3 in /Users/sjkang/miniforge3/envs/tensorflow/lib/python3.9/site-packages (from tensorboard<2.9,>=2.8->tensorflow-macos->keras-tcn) (2.6.2)\n",
      "Requirement already satisfied: werkzeug>=0.11.15 in /Users/sjkang/miniforge3/envs/tensorflow/lib/python3.9/site-packages (from tensorboard<2.9,>=2.8->tensorflow-macos->keras-tcn) (2.0.3)\n",
      "Requirement already satisfied: pyparsing!=3.0.5,>=2.0.2 in /Users/sjkang/miniforge3/envs/tensorflow/lib/python3.9/site-packages (from packaging->tensorflow_addons->keras-tcn) (3.0.7)\n",
      "Requirement already satisfied: rsa<5,>=3.1.4 in /Users/sjkang/miniforge3/envs/tensorflow/lib/python3.9/site-packages (from google-auth<3,>=1.6.3->tensorboard<2.9,>=2.8->tensorflow-macos->keras-tcn) (4.8)\n",
      "Requirement already satisfied: pyasn1-modules>=0.2.1 in /Users/sjkang/miniforge3/envs/tensorflow/lib/python3.9/site-packages (from google-auth<3,>=1.6.3->tensorboard<2.9,>=2.8->tensorflow-macos->keras-tcn) (0.2.8)\n",
      "Requirement already satisfied: cachetools<6.0,>=2.0.0 in /Users/sjkang/miniforge3/envs/tensorflow/lib/python3.9/site-packages (from google-auth<3,>=1.6.3->tensorboard<2.9,>=2.8->tensorflow-macos->keras-tcn) (5.0.0)\n",
      "Requirement already satisfied: requests-oauthlib>=0.7.0 in /Users/sjkang/miniforge3/envs/tensorflow/lib/python3.9/site-packages (from google-auth-oauthlib<0.5,>=0.4.1->tensorboard<2.9,>=2.8->tensorflow-macos->keras-tcn) (1.3.1)\n",
      "Requirement already satisfied: importlib-metadata>=4.4 in /Users/sjkang/miniforge3/envs/tensorflow/lib/python3.9/site-packages (from markdown>=2.6.8->tensorboard<2.9,>=2.8->tensorflow-macos->keras-tcn) (4.11.3)\n",
      "Requirement already satisfied: urllib3<1.27,>=1.21.1 in /Users/sjkang/miniforge3/envs/tensorflow/lib/python3.9/site-packages (from requests<3,>=2.21.0->tensorboard<2.9,>=2.8->tensorflow-macos->keras-tcn) (1.26.9)\n",
      "Requirement already satisfied: certifi>=2017.4.17 in /Users/sjkang/miniforge3/envs/tensorflow/lib/python3.9/site-packages (from requests<3,>=2.21.0->tensorboard<2.9,>=2.8->tensorflow-macos->keras-tcn) (2022.6.15)\n",
      "Requirement already satisfied: charset-normalizer~=2.0.0 in /Users/sjkang/miniforge3/envs/tensorflow/lib/python3.9/site-packages (from requests<3,>=2.21.0->tensorboard<2.9,>=2.8->tensorflow-macos->keras-tcn) (2.0.12)\n",
      "Requirement already satisfied: idna<4,>=2.5 in /Users/sjkang/miniforge3/envs/tensorflow/lib/python3.9/site-packages (from requests<3,>=2.21.0->tensorboard<2.9,>=2.8->tensorflow-macos->keras-tcn) (3.3)\n",
      "Requirement already satisfied: zipp>=0.5 in /Users/sjkang/miniforge3/envs/tensorflow/lib/python3.9/site-packages (from importlib-metadata>=4.4->markdown>=2.6.8->tensorboard<2.9,>=2.8->tensorflow-macos->keras-tcn) (3.7.0)\n",
      "Requirement already satisfied: pyasn1<0.5.0,>=0.4.6 in /Users/sjkang/miniforge3/envs/tensorflow/lib/python3.9/site-packages (from pyasn1-modules>=0.2.1->google-auth<3,>=1.6.3->tensorboard<2.9,>=2.8->tensorflow-macos->keras-tcn) (0.4.8)\n",
      "Requirement already satisfied: oauthlib>=3.0.0 in /Users/sjkang/miniforge3/envs/tensorflow/lib/python3.9/site-packages (from requests-oauthlib>=0.7.0->google-auth-oauthlib<0.5,>=0.4.1->tensorboard<2.9,>=2.8->tensorflow-macos->keras-tcn) (3.2.0)\n"
     ]
    }
   ],
   "source": [
    "!pip install keras-tcn"
   ]
  },
  {
   "cell_type": "code",
   "execution_count": 2,
   "metadata": {
    "colab": {},
    "colab_type": "code",
    "id": "ckmaq9Pin2Jm"
   },
   "outputs": [],
   "source": [
    "import numpy as np\n",
    "import tensorflow as tf\n",
    "from keras.datasets import mnist\n",
    "from tensorflow.keras.utils import to_categorical\n",
    "from tcn import compiled_tcn"
   ]
  },
  {
   "cell_type": "code",
   "execution_count": 3,
   "metadata": {},
   "outputs": [],
   "source": [
    "class myCallback(tf.keras.callbacks.Callback):\n",
    "  def on_epoch_end(self, epoch, logs={}):\n",
    "    if(logs.get('accuracy')>0.97):\n",
    "      print(\"\\nReached 99% accuracy so cancelling training!\")\n",
    "      self.model.stop_training = True\n",
    "\n",
    "\n",
    "callbacks = myCallback()"
   ]
  },
  {
   "cell_type": "code",
   "execution_count": 4,
   "metadata": {
    "colab": {},
    "colab_type": "code",
    "id": "MqcfdQJSoSBB"
   },
   "outputs": [],
   "source": [
    "def data_generator():\n",
    "    # input image dimensions\n",
    "    img_rows, img_cols = 28, 28\n",
    "    (x_train, y_train), (x_test, y_test) = mnist.load_data()\n",
    "    x_train = x_train.reshape(-1, img_rows * img_cols, 1)\n",
    "    x_test = x_test.reshape(-1, img_rows * img_cols, 1)\n",
    "\n",
    "    num_classes = 10\n",
    "    y_train = to_categorical(y_train, num_classes)\n",
    "    y_test = to_categorical(y_test, num_classes)\n",
    "\n",
    "    y_train = np.expand_dims(y_train, axis=2)\n",
    "    y_test = np.expand_dims(y_test, axis=2)\n",
    "\n",
    "    x_train = x_train.astype('float32')\n",
    "    x_test = x_test.astype('float32')\n",
    "    x_train /= 255\n",
    "    x_test /= 255\n",
    "\n",
    "    return (x_train, y_train), (x_test, y_test)"
   ]
  },
  {
   "cell_type": "code",
   "execution_count": 5,
   "metadata": {
    "colab": {
     "base_uri": "https://localhost:8080/",
     "height": 51
    },
    "colab_type": "code",
    "id": "tv_A8KPNoWK1",
    "outputId": "cb819e98-8476-4b8d-90bd-db8f62da4a69"
   },
   "outputs": [],
   "source": [
    "(x_train, y_train), (x_test, y_test) = data_generator()"
   ]
  },
  {
   "cell_type": "code",
   "execution_count": 6,
   "metadata": {
    "colab": {
     "base_uri": "https://localhost:8080/",
     "height": 68
    },
    "colab_type": "code",
    "id": "gIvvUoBJol2H",
    "outputId": "cf55fc25-f48c-4c6b-c83b-f35359623d4b"
   },
   "outputs": [
    {
     "name": "stdout",
     "output_type": "stream",
     "text": [
      "Metal device set to: Apple M1 Pro\n"
     ]
    },
    {
     "name": "stderr",
     "output_type": "stream",
     "text": [
      "2022-10-27 15:08:38.870684: I tensorflow/core/common_runtime/pluggable_device/pluggable_device_factory.cc:305] Could not identify NUMA node of platform GPU ID 0, defaulting to 0. Your kernel may not have been built with NUMA support.\n",
      "2022-10-27 15:08:38.870934: I tensorflow/core/common_runtime/pluggable_device/pluggable_device_factory.cc:271] Created TensorFlow device (/job:localhost/replica:0/task:0/device:GPU:0 with 0 MB memory) -> physical PluggableDevice (device: 0, name: METAL, pci bus id: <undefined>)\n"
     ]
    },
    {
     "name": "stdout",
     "output_type": "stream",
     "text": [
      "x.shape= (None, 20)\n",
      "model.x = (None, 784, 1)\n",
      "model.y = (None, 10)\n"
     ]
    },
    {
     "name": "stderr",
     "output_type": "stream",
     "text": [
      "/Users/sjkang/miniforge3/envs/tensorflow/lib/python3.9/site-packages/keras/optimizer_v2/adam.py:105: UserWarning: The `lr` argument is deprecated, use `learning_rate` instead.\n",
      "  super(Adam, self).__init__(name, **kwargs)\n"
     ]
    }
   ],
   "source": [
    " model = compiled_tcn(return_sequences=False,\n",
    "                         num_feat=1,\n",
    "                         num_classes=10,\n",
    "                         nb_filters=20,\n",
    "                         kernel_size=6,\n",
    "                         dilations=[2 ** i for i in range(9)],\n",
    "                         nb_stacks=1,\n",
    "                         max_len=x_train[0:1].shape[1],\n",
    "                         use_skip_connections=True)"
   ]
  },
  {
   "cell_type": "code",
   "execution_count": 7,
   "metadata": {
    "colab": {
     "base_uri": "https://localhost:8080/",
     "height": 85
    },
    "colab_type": "code",
    "id": "28WGMz47o4m5",
    "outputId": "a5bd1c06-9ffa-417f-ff21-8714b034f52d"
   },
   "outputs": [
    {
     "name": "stdout",
     "output_type": "stream",
     "text": [
      "x_train.shape = (60000, 784, 1)\n",
      "y_train.shape = (60000, 10, 1)\n",
      "x_test.shape = (10000, 784, 1)\n",
      "y_test.shape = (10000, 10, 1)\n"
     ]
    }
   ],
   "source": [
    "print(f'x_train.shape = {x_train.shape}')\n",
    "print(f'y_train.shape = {y_train.shape}')\n",
    "print(f'x_test.shape = {x_test.shape}')\n",
    "print(f'y_test.shape = {y_test.shape}')"
   ]
  },
  {
   "cell_type": "code",
   "execution_count": 8,
   "metadata": {
    "colab": {
     "base_uri": "https://localhost:8080/",
     "height": 289
    },
    "colab_type": "code",
    "id": "VBxFWLjxo9h3",
    "outputId": "c0de1022-1ca9-424a-8125-97295dcc490a"
   },
   "outputs": [
    {
     "name": "stdout",
     "output_type": "stream",
     "text": [
      "Model: \"model\"\n",
      "_________________________________________________________________\n",
      " Layer (type)                Output Shape              Param #   \n",
      "=================================================================\n",
      " input_1 (InputLayer)        [(None, 784, 1)]          0         \n",
      "                                                                 \n",
      " tcn (TCN)                   (None, 20)                41320     \n",
      "                                                                 \n",
      " dense (Dense)               (None, 10)                210       \n",
      "                                                                 \n",
      " activation (Activation)     (None, 10)                0         \n",
      "                                                                 \n",
      "=================================================================\n",
      "Total params: 41,530\n",
      "Trainable params: 41,530\n",
      "Non-trainable params: 0\n",
      "_________________________________________________________________\n"
     ]
    }
   ],
   "source": [
    "model.summary()"
   ]
  },
  {
   "cell_type": "code",
   "execution_count": 9,
   "metadata": {
    "colab": {
     "base_uri": "https://localhost:8080/",
     "height": 85
    },
    "colab_type": "code",
    "id": "GSNjkO6KpGLH",
    "outputId": "ba8aa32d-581a-42c8-e0c0-ce94ff0734b8",
    "scrolled": true
   },
   "outputs": [
    {
     "name": "stdout",
     "output_type": "stream",
     "text": [
      "Epoch 1/100\n"
     ]
    },
    {
     "name": "stderr",
     "output_type": "stream",
     "text": [
      "2022-10-27 15:08:57.462010: W tensorflow/core/platform/profile_utils/cpu_utils.cc:128] Failed to get CPU frequency: 0 Hz\n",
      "2022-10-27 15:08:58.789051: I tensorflow/core/grappler/optimizers/custom_graph_optimizer_registry.cc:113] Plugin optimizer for device_type GPU is enabled.\n"
     ]
    },
    {
     "name": "stdout",
     "output_type": "stream",
     "text": [
      "1875/1875 [==============================] - ETA: 0s - loss: 0.3396 - accuracy: 0.8957"
     ]
    },
    {
     "name": "stderr",
     "output_type": "stream",
     "text": [
      "2022-10-27 15:13:49.335779: I tensorflow/core/grappler/optimizers/custom_graph_optimizer_registry.cc:113] Plugin optimizer for device_type GPU is enabled.\n"
     ]
    },
    {
     "name": "stdout",
     "output_type": "stream",
     "text": [
      "1875/1875 [==============================] - 311s 165ms/step - loss: 0.3396 - accuracy: 0.8957 - val_loss: 0.1078 - val_accuracy: 0.9656\n",
      "Epoch 2/100\n",
      "1875/1875 [==============================] - 300s 160ms/step - loss: 0.1356 - accuracy: 0.9591 - val_loss: 0.0944 - val_accuracy: 0.9711\n",
      "Epoch 3/100\n",
      "1875/1875 [==============================] - 315s 168ms/step - loss: 0.1097 - accuracy: 0.9663 - val_loss: 0.0853 - val_accuracy: 0.9732\n",
      "Epoch 4/100\n",
      "1875/1875 [==============================] - ETA: 0s - loss: 0.0973 - accuracy: 0.9706\n",
      "Reached 99% accuracy so cancelling training!\n",
      "1875/1875 [==============================] - 308s 164ms/step - loss: 0.0973 - accuracy: 0.9706 - val_loss: 0.0827 - val_accuracy: 0.9740\n"
     ]
    },
    {
     "data": {
      "text/plain": [
       "<keras.callbacks.History at 0x2943106d0>"
      ]
     },
     "execution_count": 9,
     "metadata": {},
     "output_type": "execute_result"
    }
   ],
   "source": [
    "\n",
    "model.fit(x_train, y_train.squeeze().argmax(axis=1), epochs=100,\n",
    "          validation_data=(x_test, y_test.squeeze().argmax(axis=1)),callbacks=[myCallback()])"
   ]
  },
  {
   "cell_type": "code",
   "execution_count": null,
   "metadata": {
    "colab": {},
    "colab_type": "code",
    "id": "rSvdt7cMpTDI"
   },
   "outputs": [],
   "source": []
  }
 ],
 "metadata": {
  "accelerator": "GPU",
  "colab": {
   "authorship_tag": "ABX9TyM7jTfh/3md/T9KH9siJWW3",
   "include_colab_link": true,
   "name": "TCN MNIST.ipynb",
   "provenance": []
  },
  "kernelspec": {
   "display_name": "Python 3 (ipykernel)",
   "language": "python",
   "name": "python3"
  },
  "language_info": {
   "codemirror_mode": {
    "name": "ipython",
    "version": 3
   },
   "file_extension": ".py",
   "mimetype": "text/x-python",
   "name": "python",
   "nbconvert_exporter": "python",
   "pygments_lexer": "ipython3",
   "version": "3.9.5"
  }
 },
 "nbformat": 4,
 "nbformat_minor": 1
}
