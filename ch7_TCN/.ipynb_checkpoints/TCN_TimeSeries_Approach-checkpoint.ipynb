{
 "cells": [
  {
   "cell_type": "markdown",
   "metadata": {
    "colab_type": "text",
    "id": "view-in-github"
   },
   "source": [
    "<a href=\"https://colab.research.google.com/github/ashishpatel26/tcn-keras-Examples/blob/master/TCN_TimeSeries_Approach.ipynb\" target=\"_parent\"><img src=\"https://colab.research.google.com/assets/colab-badge.svg\" alt=\"Open In Colab\"/></a>"
   ]
  },
  {
   "cell_type": "markdown",
   "metadata": {
    "colab_type": "text",
    "id": "rNmNWqlKa_8E"
   },
   "source": [
    "### Load Library"
   ]
  },
  {
   "cell_type": "code",
   "execution_count": 1,
   "metadata": {
    "colab": {
     "base_uri": "https://localhost:8080/",
     "height": 187
    },
    "colab_type": "code",
    "id": "EEq6d7AUa9Wp",
    "outputId": "d490ea40-c639-45ef-9ce9-6071e4247065"
   },
   "outputs": [
    {
     "name": "stdout",
     "output_type": "stream",
     "text": [
      "Requirement already satisfied: wget in /Users/sjkang/miniforge3/envs/tensorflow/lib/python3.9/site-packages (3.2)\n",
      "Requirement already satisfied: keras-tcn in /Users/sjkang/miniforge3/envs/tensorflow/lib/python3.9/site-packages (3.5.0)\n",
      "Requirement already satisfied: numpy in /Users/sjkang/miniforge3/envs/tensorflow/lib/python3.9/site-packages (from keras-tcn) (1.21.5)\n",
      "Requirement already satisfied: tensorflow-macos in /Users/sjkang/miniforge3/envs/tensorflow/lib/python3.9/site-packages (from keras-tcn) (2.8.0)\n",
      "Requirement already satisfied: tensorflow_addons in /Users/sjkang/miniforge3/envs/tensorflow/lib/python3.9/site-packages (from keras-tcn) (0.18.0)\n",
      "Requirement already satisfied: packaging in /Users/sjkang/miniforge3/envs/tensorflow/lib/python3.9/site-packages (from tensorflow_addons->keras-tcn) (21.3)\n",
      "Requirement already satisfied: typeguard>=2.7 in /Users/sjkang/miniforge3/envs/tensorflow/lib/python3.9/site-packages (from tensorflow_addons->keras-tcn) (2.13.3)\n",
      "Requirement already satisfied: wrapt>=1.11.0 in /Users/sjkang/miniforge3/envs/tensorflow/lib/python3.9/site-packages (from tensorflow-macos->keras-tcn) (1.14.0)\n",
      "Requirement already satisfied: setuptools in /Users/sjkang/miniforge3/envs/tensorflow/lib/python3.9/site-packages (from tensorflow-macos->keras-tcn) (59.8.0)\n",
      "Requirement already satisfied: gast>=0.2.1 in /Users/sjkang/miniforge3/envs/tensorflow/lib/python3.9/site-packages (from tensorflow-macos->keras-tcn) (0.5.3)\n",
      "Requirement already satisfied: libclang>=9.0.1 in /Users/sjkang/miniforge3/envs/tensorflow/lib/python3.9/site-packages (from tensorflow-macos->keras-tcn) (13.0.0)\n",
      "Requirement already satisfied: protobuf>=3.9.2 in /Users/sjkang/miniforge3/envs/tensorflow/lib/python3.9/site-packages (from tensorflow-macos->keras-tcn) (3.11.2)\n",
      "Requirement already satisfied: flatbuffers>=1.12 in /Users/sjkang/miniforge3/envs/tensorflow/lib/python3.9/site-packages (from tensorflow-macos->keras-tcn) (2.0)\n",
      "Requirement already satisfied: tensorboard<2.9,>=2.8 in /Users/sjkang/miniforge3/envs/tensorflow/lib/python3.9/site-packages (from tensorflow-macos->keras-tcn) (2.8.0)\n",
      "Requirement already satisfied: opt-einsum>=2.3.2 in /Users/sjkang/miniforge3/envs/tensorflow/lib/python3.9/site-packages (from tensorflow-macos->keras-tcn) (3.3.0)\n",
      "Requirement already satisfied: astunparse>=1.6.0 in /Users/sjkang/miniforge3/envs/tensorflow/lib/python3.9/site-packages (from tensorflow-macos->keras-tcn) (1.6.3)\n",
      "Requirement already satisfied: keras<2.9,>=2.8.0rc0 in /Users/sjkang/miniforge3/envs/tensorflow/lib/python3.9/site-packages (from tensorflow-macos->keras-tcn) (2.8.0)\n",
      "Requirement already satisfied: termcolor>=1.1.0 in /Users/sjkang/miniforge3/envs/tensorflow/lib/python3.9/site-packages (from tensorflow-macos->keras-tcn) (1.1.0)\n",
      "Requirement already satisfied: keras-preprocessing>=1.1.1 in /Users/sjkang/miniforge3/envs/tensorflow/lib/python3.9/site-packages (from tensorflow-macos->keras-tcn) (1.1.2)\n",
      "Requirement already satisfied: tf-estimator-nightly==2.8.0.dev2021122109 in /Users/sjkang/miniforge3/envs/tensorflow/lib/python3.9/site-packages (from tensorflow-macos->keras-tcn) (2.8.0.dev2021122109)\n",
      "Requirement already satisfied: grpcio<2.0,>=1.24.3 in /Users/sjkang/miniforge3/envs/tensorflow/lib/python3.9/site-packages (from tensorflow-macos->keras-tcn) (1.44.0)\n",
      "Requirement already satisfied: h5py>=2.9.0 in /Users/sjkang/miniforge3/envs/tensorflow/lib/python3.9/site-packages (from tensorflow-macos->keras-tcn) (3.6.0)\n",
      "Requirement already satisfied: absl-py>=0.4.0 in /Users/sjkang/miniforge3/envs/tensorflow/lib/python3.9/site-packages (from tensorflow-macos->keras-tcn) (1.0.0)\n",
      "Requirement already satisfied: typing-extensions>=3.6.6 in /Users/sjkang/miniforge3/envs/tensorflow/lib/python3.9/site-packages (from tensorflow-macos->keras-tcn) (4.1.1)\n",
      "Requirement already satisfied: six>=1.12.0 in /Users/sjkang/miniforge3/envs/tensorflow/lib/python3.9/site-packages (from tensorflow-macos->keras-tcn) (1.15.0)\n",
      "Requirement already satisfied: google-pasta>=0.1.1 in /Users/sjkang/miniforge3/envs/tensorflow/lib/python3.9/site-packages (from tensorflow-macos->keras-tcn) (0.2.0)\n",
      "Requirement already satisfied: wheel<1.0,>=0.23.0 in /Users/sjkang/miniforge3/envs/tensorflow/lib/python3.9/site-packages (from astunparse>=1.6.0->tensorflow-macos->keras-tcn) (0.37.1)\n",
      "Requirement already satisfied: google-auth-oauthlib<0.5,>=0.4.1 in /Users/sjkang/miniforge3/envs/tensorflow/lib/python3.9/site-packages (from tensorboard<2.9,>=2.8->tensorflow-macos->keras-tcn) (0.4.6)\n",
      "Requirement already satisfied: werkzeug>=0.11.15 in /Users/sjkang/miniforge3/envs/tensorflow/lib/python3.9/site-packages (from tensorboard<2.9,>=2.8->tensorflow-macos->keras-tcn) (2.0.3)\n",
      "Requirement already satisfied: markdown>=2.6.8 in /Users/sjkang/miniforge3/envs/tensorflow/lib/python3.9/site-packages (from tensorboard<2.9,>=2.8->tensorflow-macos->keras-tcn) (3.3.6)\n",
      "Requirement already satisfied: tensorboard-data-server<0.7.0,>=0.6.0 in /Users/sjkang/miniforge3/envs/tensorflow/lib/python3.9/site-packages (from tensorboard<2.9,>=2.8->tensorflow-macos->keras-tcn) (0.6.1)\n",
      "Requirement already satisfied: requests<3,>=2.21.0 in /Users/sjkang/miniforge3/envs/tensorflow/lib/python3.9/site-packages (from tensorboard<2.9,>=2.8->tensorflow-macos->keras-tcn) (2.27.1)\n",
      "Requirement already satisfied: tensorboard-plugin-wit>=1.6.0 in /Users/sjkang/miniforge3/envs/tensorflow/lib/python3.9/site-packages (from tensorboard<2.9,>=2.8->tensorflow-macos->keras-tcn) (1.8.1)\n",
      "Requirement already satisfied: google-auth<3,>=1.6.3 in /Users/sjkang/miniforge3/envs/tensorflow/lib/python3.9/site-packages (from tensorboard<2.9,>=2.8->tensorflow-macos->keras-tcn) (2.6.2)\n",
      "Requirement already satisfied: pyparsing!=3.0.5,>=2.0.2 in /Users/sjkang/miniforge3/envs/tensorflow/lib/python3.9/site-packages (from packaging->tensorflow_addons->keras-tcn) (3.0.7)\n",
      "Requirement already satisfied: cachetools<6.0,>=2.0.0 in /Users/sjkang/miniforge3/envs/tensorflow/lib/python3.9/site-packages (from google-auth<3,>=1.6.3->tensorboard<2.9,>=2.8->tensorflow-macos->keras-tcn) (5.0.0)\n",
      "Requirement already satisfied: rsa<5,>=3.1.4 in /Users/sjkang/miniforge3/envs/tensorflow/lib/python3.9/site-packages (from google-auth<3,>=1.6.3->tensorboard<2.9,>=2.8->tensorflow-macos->keras-tcn) (4.8)\n",
      "Requirement already satisfied: pyasn1-modules>=0.2.1 in /Users/sjkang/miniforge3/envs/tensorflow/lib/python3.9/site-packages (from google-auth<3,>=1.6.3->tensorboard<2.9,>=2.8->tensorflow-macos->keras-tcn) (0.2.8)\n",
      "Requirement already satisfied: requests-oauthlib>=0.7.0 in /Users/sjkang/miniforge3/envs/tensorflow/lib/python3.9/site-packages (from google-auth-oauthlib<0.5,>=0.4.1->tensorboard<2.9,>=2.8->tensorflow-macos->keras-tcn) (1.3.1)\n",
      "Requirement already satisfied: importlib-metadata>=4.4 in /Users/sjkang/miniforge3/envs/tensorflow/lib/python3.9/site-packages (from markdown>=2.6.8->tensorboard<2.9,>=2.8->tensorflow-macos->keras-tcn) (4.11.3)\n",
      "Requirement already satisfied: certifi>=2017.4.17 in /Users/sjkang/miniforge3/envs/tensorflow/lib/python3.9/site-packages (from requests<3,>=2.21.0->tensorboard<2.9,>=2.8->tensorflow-macos->keras-tcn) (2022.6.15)\n",
      "Requirement already satisfied: urllib3<1.27,>=1.21.1 in /Users/sjkang/miniforge3/envs/tensorflow/lib/python3.9/site-packages (from requests<3,>=2.21.0->tensorboard<2.9,>=2.8->tensorflow-macos->keras-tcn) (1.26.9)\n",
      "Requirement already satisfied: charset-normalizer~=2.0.0 in /Users/sjkang/miniforge3/envs/tensorflow/lib/python3.9/site-packages (from requests<3,>=2.21.0->tensorboard<2.9,>=2.8->tensorflow-macos->keras-tcn) (2.0.12)\n",
      "Requirement already satisfied: idna<4,>=2.5 in /Users/sjkang/miniforge3/envs/tensorflow/lib/python3.9/site-packages (from requests<3,>=2.21.0->tensorboard<2.9,>=2.8->tensorflow-macos->keras-tcn) (3.3)\n",
      "Requirement already satisfied: zipp>=0.5 in /Users/sjkang/miniforge3/envs/tensorflow/lib/python3.9/site-packages (from importlib-metadata>=4.4->markdown>=2.6.8->tensorboard<2.9,>=2.8->tensorflow-macos->keras-tcn) (3.7.0)\n",
      "Requirement already satisfied: pyasn1<0.5.0,>=0.4.6 in /Users/sjkang/miniforge3/envs/tensorflow/lib/python3.9/site-packages (from pyasn1-modules>=0.2.1->google-auth<3,>=1.6.3->tensorboard<2.9,>=2.8->tensorflow-macos->keras-tcn) (0.4.8)\n",
      "Requirement already satisfied: oauthlib>=3.0.0 in /Users/sjkang/miniforge3/envs/tensorflow/lib/python3.9/site-packages (from requests-oauthlib>=0.7.0->google-auth-oauthlib<0.5,>=0.4.1->tensorboard<2.9,>=2.8->tensorflow-macos->keras-tcn) (3.2.0)\n"
     ]
    }
   ],
   "source": [
    "!pip install wget\n",
    "!pip install keras-tcn\n",
    "import wget\n",
    "import matplotlib.pyplot as plt\n",
    "import numpy as np\n",
    "import pandas as pd\n",
    "from tensorflow.keras import Input, Model\n",
    "from tensorflow.keras.layers import Dense\n",
    "from tqdm.notebook import tqdm\n",
    "\n",
    "from tcn import TCN"
   ]
  },
  {
   "cell_type": "code",
   "execution_count": 2,
   "metadata": {
    "colab": {
     "base_uri": "https://localhost:8080/",
     "height": 35
    },
    "colab_type": "code",
    "id": "rHIVSlGTbWgU",
    "outputId": "48066cd3-9776-4ec0-92b4-6ca0c4e956a5",
    "scrolled": true
   },
   "outputs": [
    {
     "name": "stdout",
     "output_type": "stream",
     "text": [
      "\r",
      "  0% [                                                            ]    0 / 2384\r",
      "100% [............................................................] 2384 / 2384"
     ]
    },
    {
     "data": {
      "text/plain": [
       "'monthly-milk-production-pounds-p (2).csv'"
      ]
     },
     "execution_count": 2,
     "metadata": {},
     "output_type": "execute_result"
    }
   ],
   "source": [
    "wget.download(\"https://github.com/philipperemy/keras-tcn/raw/master/tasks/monthly-milk-production-pounds-p.csv\")"
   ]
  },
  {
   "cell_type": "markdown",
   "metadata": {
    "colab_type": "text",
    "id": "UMr5G8xhcCxj"
   },
   "source": [
    "### Read the dataset"
   ]
  },
  {
   "cell_type": "code",
   "execution_count": 3,
   "metadata": {
    "colab": {},
    "colab_type": "code",
    "id": "Rf8_Eyn9ba2y"
   },
   "outputs": [],
   "source": [
    "milk = pd.read_csv('monthly-milk-production-pounds-p.csv', index_col=0, parse_dates=True)"
   ]
  },
  {
   "cell_type": "markdown",
   "metadata": {
    "colab_type": "text",
    "id": "SUK__zQQcJhk"
   },
   "source": [
    "### Display top5 Record"
   ]
  },
  {
   "cell_type": "code",
   "execution_count": 4,
   "metadata": {
    "colab": {
     "base_uri": "https://localhost:8080/",
     "height": 252
    },
    "colab_type": "code",
    "id": "kJmbRdavcFJb",
    "outputId": "6f47e2e8-b5be-4b8f-c16a-3ed800c21462"
   },
   "outputs": [
    {
     "name": "stdout",
     "output_type": "stream",
     "text": [
      "(168, 1)\n"
     ]
    },
    {
     "data": {
      "text/html": [
       "<div>\n",
       "<style scoped>\n",
       "    .dataframe tbody tr th:only-of-type {\n",
       "        vertical-align: middle;\n",
       "    }\n",
       "\n",
       "    .dataframe tbody tr th {\n",
       "        vertical-align: top;\n",
       "    }\n",
       "\n",
       "    .dataframe thead th {\n",
       "        text-align: right;\n",
       "    }\n",
       "</style>\n",
       "<table border=\"1\" class=\"dataframe\">\n",
       "  <thead>\n",
       "    <tr style=\"text-align: right;\">\n",
       "      <th></th>\n",
       "      <th>milk_production_pounds</th>\n",
       "    </tr>\n",
       "    <tr>\n",
       "      <th>month</th>\n",
       "      <th></th>\n",
       "    </tr>\n",
       "  </thead>\n",
       "  <tbody>\n",
       "    <tr>\n",
       "      <th>1962-01-01</th>\n",
       "      <td>589</td>\n",
       "    </tr>\n",
       "    <tr>\n",
       "      <th>1962-02-01</th>\n",
       "      <td>561</td>\n",
       "    </tr>\n",
       "    <tr>\n",
       "      <th>1962-03-01</th>\n",
       "      <td>640</td>\n",
       "    </tr>\n",
       "    <tr>\n",
       "      <th>1962-04-01</th>\n",
       "      <td>656</td>\n",
       "    </tr>\n",
       "    <tr>\n",
       "      <th>1962-05-01</th>\n",
       "      <td>727</td>\n",
       "    </tr>\n",
       "  </tbody>\n",
       "</table>\n",
       "</div>"
      ],
      "text/plain": [
       "            milk_production_pounds\n",
       "month                             \n",
       "1962-01-01                     589\n",
       "1962-02-01                     561\n",
       "1962-03-01                     640\n",
       "1962-04-01                     656\n",
       "1962-05-01                     727"
      ]
     },
     "execution_count": 4,
     "metadata": {},
     "output_type": "execute_result"
    }
   ],
   "source": [
    "print(milk.shape)\n",
    "milk.head()"
   ]
  },
  {
   "cell_type": "markdown",
   "metadata": {
    "colab_type": "text",
    "id": "OxtoyYB_cPJR"
   },
   "source": [
    "### Lookback 12 month windows"
   ]
  },
  {
   "cell_type": "code",
   "execution_count": 5,
   "metadata": {
    "colab": {},
    "colab_type": "code",
    "id": "I8TY8aTQcIR4"
   },
   "outputs": [],
   "source": [
    "lookback_window = 12 "
   ]
  },
  {
   "cell_type": "markdown",
   "metadata": {
    "colab_type": "text",
    "id": "zDy7WxEtcV96"
   },
   "source": [
    "### Convert Milk Data into Numpy Array"
   ]
  },
  {
   "cell_type": "code",
   "execution_count": 6,
   "metadata": {
    "colab": {},
    "colab_type": "code",
    "id": "GOV5KuwJcR3Z"
   },
   "outputs": [],
   "source": [
    "milk = milk.values  "
   ]
  },
  {
   "cell_type": "markdown",
   "metadata": {
    "colab_type": "text",
    "id": "xTd4_RAhcf_G"
   },
   "source": [
    "### Convert in to X, y format"
   ]
  },
  {
   "cell_type": "code",
   "execution_count": 7,
   "metadata": {
    "colab": {
     "base_uri": "https://localhost:8080/",
     "height": 66,
     "referenced_widgets": [
      "f2df124fb46a42d9a8011c589d478eee",
      "76367dff33c247d88f1c2240be90a0d7",
      "d3193b57a3fd4706bc6dc19aa65b71e1",
      "2e09e1b207e840bca57333c9d7ac6117",
      "e18cae27f2d5475e890a64a948429557",
      "bebf5d0c2d3042f8be7fec73ed15af54",
      "7f5c424416da4871aba7a7c3ad14d68c",
      "498b6f8b6789463887b4b3a6f237d924"
     ]
    },
    "colab_type": "code",
    "id": "QRHxD8-vcZua",
    "outputId": "fe102cc0-2b28-4e6e-efb1-c701ec8f0964"
   },
   "outputs": [
    {
     "data": {
      "application/json": {
       "ascii": false,
       "bar_format": null,
       "colour": null,
       "elapsed": 0.013733863830566406,
       "initial": 0,
       "n": 0,
       "ncols": null,
       "nrows": 24,
       "postfix": null,
       "prefix": "",
       "rate": null,
       "total": 156,
       "unit": "it",
       "unit_divisor": 1000,
       "unit_scale": false
      },
      "application/vnd.jupyter.widget-view+json": {
       "model_id": "46fc95e450d840fa9a8196763f66af42",
       "version_major": 2,
       "version_minor": 0
      },
      "text/plain": [
       "  0%|          | 0/156 [00:00<?, ?it/s]"
      ]
     },
     "metadata": {},
     "output_type": "display_data"
    }
   ],
   "source": [
    "x = []\n",
    "y = []\n",
    "for i in tqdm(range(lookback_window, len(milk))):\n",
    "    x.append(milk[i - lookback_window:i])\n",
    "    y.append(milk[i])"
   ]
  },
  {
   "cell_type": "markdown",
   "metadata": {
    "colab_type": "text",
    "id": "h6NKNRpUdU0e"
   },
   "source": [
    "### Generate Array of list x and y"
   ]
  },
  {
   "cell_type": "code",
   "execution_count": 8,
   "metadata": {
    "colab": {
     "base_uri": "https://localhost:8080/",
     "height": 51
    },
    "colab_type": "code",
    "id": "B3xGy8bec9Q5",
    "outputId": "1fd1af26-ee70-40ef-d3c6-3b060253f1c0"
   },
   "outputs": [
    {
     "name": "stdout",
     "output_type": "stream",
     "text": [
      "(156, 12, 1)\n",
      "(156, 1)\n"
     ]
    }
   ],
   "source": [
    "x = np.array(x)\n",
    "y = np.array(y)\n",
    "print(x.shape)\n",
    "print(y.shape)"
   ]
  },
  {
   "cell_type": "markdown",
   "metadata": {
    "colab_type": "text",
    "id": "3dqsLFT4dk7s"
   },
   "source": [
    "### Model Design"
   ]
  },
  {
   "cell_type": "code",
   "execution_count": 9,
   "metadata": {
    "colab": {
     "base_uri": "https://localhost:8080/",
     "height": 255
    },
    "colab_type": "code",
    "id": "y783wDIxdeke",
    "outputId": "26fb6222-a92a-498c-dda1-2421ad9ea5c8"
   },
   "outputs": [
    {
     "name": "stderr",
     "output_type": "stream",
     "text": [
      "2022-09-21 17:16:36.060897: I tensorflow/core/common_runtime/pluggable_device/pluggable_device_factory.cc:305] Could not identify NUMA node of platform GPU ID 0, defaulting to 0. Your kernel may not have been built with NUMA support.\n",
      "2022-09-21 17:16:36.061058: I tensorflow/core/common_runtime/pluggable_device/pluggable_device_factory.cc:271] Created TensorFlow device (/job:localhost/replica:0/task:0/device:GPU:0 with 0 MB memory) -> physical PluggableDevice (device: 0, name: METAL, pci bus id: <undefined>)\n"
     ]
    },
    {
     "name": "stdout",
     "output_type": "stream",
     "text": [
      "Metal device set to: Apple M1 Pro\n",
      "Model: \"model\"\n",
      "_________________________________________________________________\n",
      " Layer (type)                Output Shape              Param #   \n",
      "=================================================================\n",
      " input_1 (InputLayer)        [(None, 12, 1)]           0         \n",
      "                                                                 \n",
      " tcn (TCN)                   (None, 64)                136256    \n",
      "                                                                 \n",
      " dense (Dense)               (None, 1)                 65        \n",
      "                                                                 \n",
      "=================================================================\n",
      "Total params: 136,321\n",
      "Trainable params: 136,321\n",
      "Non-trainable params: 0\n",
      "_________________________________________________________________\n"
     ]
    }
   ],
   "source": [
    "i = Input(shape=(lookback_window, 1))\n",
    "m = TCN()(i)\n",
    "m = Dense(1, activation='linear')(m)\n",
    "\n",
    "model = Model(inputs=[i], outputs=[m])\n",
    "model.summary()"
   ]
  },
  {
   "cell_type": "code",
   "execution_count": 10,
   "metadata": {
    "colab": {},
    "colab_type": "code",
    "id": "Fsv10DsLdtKy"
   },
   "outputs": [],
   "source": [
    "model.compile('adam','mae')"
   ]
  },
  {
   "cell_type": "markdown",
   "metadata": {
    "colab_type": "text",
    "id": "UjY_u3rid3m0"
   },
   "source": [
    "### Time for Model training..."
   ]
  },
  {
   "cell_type": "code",
   "execution_count": 11,
   "metadata": {
    "colab": {
     "base_uri": "https://localhost:8080/",
     "height": 1000
    },
    "colab_type": "code",
    "id": "rfU_56-zd0eC",
    "outputId": "956257c6-9c51-4c3d-b007-752b10849ac9"
   },
   "outputs": [
    {
     "name": "stdout",
     "output_type": "stream",
     "text": [
      "Train...\n",
      "Epoch 1/100\n"
     ]
    },
    {
     "name": "stderr",
     "output_type": "stream",
     "text": [
      "2022-09-21 17:16:49.498688: W tensorflow/core/platform/profile_utils/cpu_utils.cc:128] Failed to get CPU frequency: 0 Hz\n",
      "2022-09-21 17:16:50.209936: I tensorflow/core/grappler/optimizers/custom_graph_optimizer_registry.cc:113] Plugin optimizer for device_type GPU is enabled.\n"
     ]
    },
    {
     "name": "stdout",
     "output_type": "stream",
     "text": [
      "5/5 [==============================] - 2s 86ms/step - loss: 2676.5107\n",
      "Epoch 2/100\n",
      "5/5 [==============================] - 0s 52ms/step - loss: 710.7729\n",
      "Epoch 3/100\n",
      "5/5 [==============================] - 0s 49ms/step - loss: 206.8340\n",
      "Epoch 4/100\n",
      "5/5 [==============================] - 0s 48ms/step - loss: 293.9011\n",
      "Epoch 5/100\n",
      "5/5 [==============================] - 0s 50ms/step - loss: 187.4748\n",
      "Epoch 6/100\n",
      "5/5 [==============================] - 0s 49ms/step - loss: 196.2617\n",
      "Epoch 7/100\n",
      "5/5 [==============================] - 0s 48ms/step - loss: 185.1290\n",
      "Epoch 8/100\n",
      "5/5 [==============================] - 0s 49ms/step - loss: 155.9228\n",
      "Epoch 9/100\n",
      "5/5 [==============================] - 0s 48ms/step - loss: 157.9975\n",
      "Epoch 10/100\n",
      "5/5 [==============================] - 0s 49ms/step - loss: 163.7247\n",
      "Epoch 11/100\n",
      "5/5 [==============================] - 0s 51ms/step - loss: 153.1682\n",
      "Epoch 12/100\n",
      "5/5 [==============================] - 0s 52ms/step - loss: 126.7464\n",
      "Epoch 13/100\n",
      "5/5 [==============================] - 0s 51ms/step - loss: 140.5456\n",
      "Epoch 14/100\n",
      "5/5 [==============================] - 0s 47ms/step - loss: 156.8493\n",
      "Epoch 15/100\n",
      "5/5 [==============================] - 0s 48ms/step - loss: 149.1809\n",
      "Epoch 16/100\n",
      "5/5 [==============================] - 0s 48ms/step - loss: 88.1457\n",
      "Epoch 17/100\n",
      "5/5 [==============================] - 0s 49ms/step - loss: 133.7571\n",
      "Epoch 18/100\n",
      "5/5 [==============================] - 0s 48ms/step - loss: 104.1613\n",
      "Epoch 19/100\n",
      "5/5 [==============================] - 0s 48ms/step - loss: 144.4175\n",
      "Epoch 20/100\n",
      "5/5 [==============================] - 0s 48ms/step - loss: 129.5743\n",
      "Epoch 21/100\n",
      "5/5 [==============================] - 0s 48ms/step - loss: 178.3906\n",
      "Epoch 22/100\n",
      "5/5 [==============================] - 0s 49ms/step - loss: 138.8706\n",
      "Epoch 23/100\n",
      "5/5 [==============================] - 0s 47ms/step - loss: 53.6727\n",
      "Epoch 24/100\n",
      "5/5 [==============================] - 0s 48ms/step - loss: 55.6820\n",
      "Epoch 25/100\n",
      "5/5 [==============================] - 0s 53ms/step - loss: 76.1218\n",
      "Epoch 26/100\n",
      "5/5 [==============================] - 0s 53ms/step - loss: 55.9346\n",
      "Epoch 27/100\n",
      "5/5 [==============================] - 0s 53ms/step - loss: 73.6976\n",
      "Epoch 28/100\n",
      "5/5 [==============================] - 0s 49ms/step - loss: 58.2246\n",
      "Epoch 29/100\n",
      "5/5 [==============================] - 0s 49ms/step - loss: 176.0977\n",
      "Epoch 30/100\n",
      "5/5 [==============================] - 0s 50ms/step - loss: 119.1585\n",
      "Epoch 31/100\n",
      "5/5 [==============================] - 0s 49ms/step - loss: 172.4073\n",
      "Epoch 32/100\n",
      "5/5 [==============================] - 0s 48ms/step - loss: 304.5334\n",
      "Epoch 33/100\n",
      "5/5 [==============================] - 0s 48ms/step - loss: 243.7297\n",
      "Epoch 34/100\n",
      "5/5 [==============================] - 0s 48ms/step - loss: 227.7852\n",
      "Epoch 35/100\n",
      "5/5 [==============================] - 0s 48ms/step - loss: 216.3089\n",
      "Epoch 36/100\n",
      "5/5 [==============================] - 0s 48ms/step - loss: 189.0651\n",
      "Epoch 37/100\n",
      "5/5 [==============================] - 0s 49ms/step - loss: 199.4680\n",
      "Epoch 38/100\n",
      "5/5 [==============================] - 0s 53ms/step - loss: 193.7599\n",
      "Epoch 39/100\n",
      "5/5 [==============================] - 0s 53ms/step - loss: 188.5413\n",
      "Epoch 40/100\n",
      "5/5 [==============================] - 0s 54ms/step - loss: 169.4129\n",
      "Epoch 41/100\n",
      "5/5 [==============================] - 0s 49ms/step - loss: 205.1437\n",
      "Epoch 42/100\n",
      "5/5 [==============================] - 0s 48ms/step - loss: 147.8075\n",
      "Epoch 43/100\n",
      "5/5 [==============================] - 0s 49ms/step - loss: 203.2040\n",
      "Epoch 44/100\n",
      "5/5 [==============================] - 0s 48ms/step - loss: 56.7136\n",
      "Epoch 45/100\n",
      "5/5 [==============================] - 0s 48ms/step - loss: 102.0417\n",
      "Epoch 46/100\n",
      "5/5 [==============================] - 0s 48ms/step - loss: 73.4743\n",
      "Epoch 47/100\n",
      "5/5 [==============================] - 0s 48ms/step - loss: 90.7495\n",
      "Epoch 48/100\n",
      "5/5 [==============================] - 0s 50ms/step - loss: 57.0035\n",
      "Epoch 49/100\n",
      "5/5 [==============================] - 0s 49ms/step - loss: 33.9920\n",
      "Epoch 50/100\n",
      "5/5 [==============================] - 0s 48ms/step - loss: 38.5448\n",
      "Epoch 51/100\n",
      "5/5 [==============================] - 0s 48ms/step - loss: 39.4549\n",
      "Epoch 52/100\n",
      "5/5 [==============================] - 0s 48ms/step - loss: 43.8855\n",
      "Epoch 53/100\n",
      "5/5 [==============================] - 0s 47ms/step - loss: 41.7325\n",
      "Epoch 54/100\n",
      "5/5 [==============================] - 0s 48ms/step - loss: 39.8157\n",
      "Epoch 55/100\n",
      "5/5 [==============================] - 0s 48ms/step - loss: 30.7126\n",
      "Epoch 56/100\n",
      "5/5 [==============================] - 0s 48ms/step - loss: 140.6313\n",
      "Epoch 57/100\n",
      "5/5 [==============================] - 0s 48ms/step - loss: 173.0880\n",
      "Epoch 58/100\n",
      "5/5 [==============================] - 0s 48ms/step - loss: 31.3608\n",
      "Epoch 59/100\n",
      "5/5 [==============================] - 0s 48ms/step - loss: 55.6272\n",
      "Epoch 60/100\n",
      "5/5 [==============================] - 0s 48ms/step - loss: 81.1100\n",
      "Epoch 61/100\n",
      "5/5 [==============================] - 0s 52ms/step - loss: 99.2834\n",
      "Epoch 62/100\n",
      "5/5 [==============================] - 0s 49ms/step - loss: 81.7695\n",
      "Epoch 63/100\n",
      "5/5 [==============================] - 0s 48ms/step - loss: 84.9289\n",
      "Epoch 64/100\n",
      "5/5 [==============================] - 0s 49ms/step - loss: 80.6240\n",
      "Epoch 65/100\n",
      "5/5 [==============================] - 0s 48ms/step - loss: 85.1677\n",
      "Epoch 66/100\n",
      "5/5 [==============================] - 0s 49ms/step - loss: 63.7735\n",
      "Epoch 67/100\n",
      "5/5 [==============================] - 0s 51ms/step - loss: 84.2001\n",
      "Epoch 68/100\n",
      "5/5 [==============================] - 0s 50ms/step - loss: 83.4567\n",
      "Epoch 69/100\n",
      "5/5 [==============================] - 0s 50ms/step - loss: 83.1926\n",
      "Epoch 70/100\n",
      "5/5 [==============================] - 0s 50ms/step - loss: 72.5035\n",
      "Epoch 71/100\n",
      "5/5 [==============================] - 0s 49ms/step - loss: 32.6349\n",
      "Epoch 72/100\n",
      "5/5 [==============================] - 0s 49ms/step - loss: 75.3741\n",
      "Epoch 73/100\n",
      "5/5 [==============================] - 0s 51ms/step - loss: 168.8620\n",
      "Epoch 74/100\n",
      "5/5 [==============================] - 0s 50ms/step - loss: 143.5157\n",
      "Epoch 75/100\n",
      "5/5 [==============================] - 0s 49ms/step - loss: 117.1352\n",
      "Epoch 76/100\n",
      "5/5 [==============================] - 0s 49ms/step - loss: 139.3125\n",
      "Epoch 77/100\n",
      "5/5 [==============================] - 0s 50ms/step - loss: 156.9116\n",
      "Epoch 78/100\n",
      "5/5 [==============================] - 0s 50ms/step - loss: 129.7311\n",
      "Epoch 79/100\n",
      "5/5 [==============================] - 0s 48ms/step - loss: 124.2535\n",
      "Epoch 80/100\n",
      "5/5 [==============================] - 0s 47ms/step - loss: 156.5443\n",
      "Epoch 81/100\n",
      "5/5 [==============================] - 0s 48ms/step - loss: 108.2335\n",
      "Epoch 82/100\n",
      "5/5 [==============================] - 0s 49ms/step - loss: 145.7568\n",
      "Epoch 83/100\n",
      "5/5 [==============================] - 0s 48ms/step - loss: 98.5030\n",
      "Epoch 84/100\n",
      "5/5 [==============================] - 0s 48ms/step - loss: 76.4404\n",
      "Epoch 85/100\n",
      "5/5 [==============================] - 0s 51ms/step - loss: 67.4474\n",
      "Epoch 86/100\n",
      "5/5 [==============================] - 0s 48ms/step - loss: 80.5710\n",
      "Epoch 87/100\n",
      "5/5 [==============================] - 0s 49ms/step - loss: 109.7332\n",
      "Epoch 88/100\n",
      "5/5 [==============================] - 0s 48ms/step - loss: 145.8007\n",
      "Epoch 89/100\n",
      "5/5 [==============================] - 0s 45ms/step - loss: 57.2195\n",
      "Epoch 90/100\n",
      "5/5 [==============================] - 0s 47ms/step - loss: 75.2379\n",
      "Epoch 91/100\n",
      "5/5 [==============================] - 0s 48ms/step - loss: 31.1023\n",
      "Epoch 92/100\n",
      "5/5 [==============================] - 0s 47ms/step - loss: 66.1345\n",
      "Epoch 93/100\n",
      "5/5 [==============================] - 0s 47ms/step - loss: 67.2853\n",
      "Epoch 94/100\n",
      "5/5 [==============================] - 0s 47ms/step - loss: 60.5115\n",
      "Epoch 95/100\n",
      "5/5 [==============================] - 0s 47ms/step - loss: 58.7601\n",
      "Epoch 96/100\n",
      "5/5 [==============================] - 0s 48ms/step - loss: 60.7368\n",
      "Epoch 97/100\n",
      "5/5 [==============================] - 0s 47ms/step - loss: 44.4190\n",
      "Epoch 98/100\n",
      "5/5 [==============================] - 0s 49ms/step - loss: 73.7619\n",
      "Epoch 99/100\n",
      "5/5 [==============================] - 0s 48ms/step - loss: 142.9970\n",
      "Epoch 100/100\n",
      "5/5 [==============================] - 0s 48ms/step - loss: 100.2543\n"
     ]
    },
    {
     "data": {
      "text/plain": [
       "<keras.callbacks.History at 0x2bb517df0>"
      ]
     },
     "execution_count": 11,
     "metadata": {},
     "output_type": "execute_result"
    }
   ],
   "source": [
    "print('Train...')\n",
    "model.fit(x, y, epochs=100)"
   ]
  },
  {
   "cell_type": "markdown",
   "metadata": {
    "colab_type": "text",
    "id": "CDtjBtPQf1pd"
   },
   "source": [
    "### Prediction with TCN Model"
   ]
  },
  {
   "cell_type": "code",
   "execution_count": 12,
   "metadata": {
    "colab": {},
    "colab_type": "code",
    "id": "SMEjd-8Gd-VK"
   },
   "outputs": [
    {
     "name": "stderr",
     "output_type": "stream",
     "text": [
      "2022-09-21 17:17:16.443833: I tensorflow/core/grappler/optimizers/custom_graph_optimizer_registry.cc:113] Plugin optimizer for device_type GPU is enabled.\n"
     ]
    }
   ],
   "source": [
    "predict = model.predict(x)"
   ]
  },
  {
   "cell_type": "markdown",
   "metadata": {
    "colab_type": "text",
    "id": "i-7DoomPf5ak"
   },
   "source": [
    "### Plot the Result"
   ]
  },
  {
   "cell_type": "code",
   "execution_count": 13,
   "metadata": {
    "colab": {
     "base_uri": "https://localhost:8080/",
     "height": 500
    },
    "colab_type": "code",
    "id": "x9EpeosteOkK",
    "outputId": "0df79df5-6d18-4fa6-ac7d-e78d57dd0381"
   },
   "outputs": [
    {
     "data": {
      "image/png": "[encoded data removed]",
      "text/plain": [
       "<Figure size 1080x504 with 1 Axes>"
      ]
     },
     "metadata": {},
     "output_type": "display_data"
    }
   ],
   "source": [
    "plt.style.use(\"fivethirtyeight\")\n",
    "plt.figure(figsize = (15,7))\n",
    "plt.plot(predict)\n",
    "plt.plot(y)\n",
    "plt.title('Monthly Milk Production (in pounds)')\n",
    "plt.legend(['predicted', 'actual'])\n",
    "plt.xlabel(\"Moths Counts\")\n",
    "plt.ylabel(\"Milk Production in Pounds\")\n",
    "plt.show()"
   ]
  },
  {
   "cell_type": "code",
   "execution_count": null,
   "metadata": {},
   "outputs": [],
   "source": []
  }
 ],
 "metadata": {
  "colab": {
   "authorship_tag": "ABX9TyMraTlQ8kv+xnwl20VqvBEw",
   "include_colab_link": true,
   "name": "TCN_TimeSeries Approach.ipynb",
   "provenance": [],
   "toc_visible": true
  },
  "kernelspec": {
   "display_name": "Python 3 (ipykernel)",
   "language": "python",
   "name": "python3"
  },
  "language_info": {
   "codemirror_mode": {
    "name": "ipython",
    "version": 3
   },
   "file_extension": ".py",
   "mimetype": "text/x-python",
   "name": "python",
   "nbconvert_exporter": "python",
   "pygments_lexer": "ipython3",
   "version": "3.9.5"
  },
  "widgets": {
   "application/vnd.jupyter.widget-state+json": {
    "2e09e1b207e840bca57333c9d7ac6117": {
     "model_module": "@jupyter-widgets/controls",
     "model_name": "HTMLModel",
     "state": {
      "_dom_classes": [],
      "_model_module": "@jupyter-widgets/controls",
      "_model_module_version": "1.5.0",
      "_model_name": "HTMLModel",
      "_view_count": null,
      "_view_module": "@jupyter-widgets/controls",
      "_view_module_version": "1.5.0",
      "_view_name": "HTMLView",
      "description": "",
      "description_tooltip": null,
      "layout": "IPY_MODEL_498b6f8b6789463887b4b3a6f237d924",
      "placeholder": "​",
      "style": "IPY_MODEL_7f5c424416da4871aba7a7c3ad14d68c",
      "value": " 156/156 [03:57&lt;00:00,  1.53s/it]"
     }
    },
    "498b6f8b6789463887b4b3a6f237d924": {
     "model_module": "@jupyter-widgets/base",
     "model_name": "LayoutModel",
     "state": {
      "_model_module": "@jupyter-widgets/base",
      "_model_module_version": "1.2.0",
      "_model_name": "LayoutModel",
      "_view_count": null,
      "_view_module": "@jupyter-widgets/base",
      "_view_module_version": "1.2.0",
      "_view_name": "LayoutView",
      "align_content": null,
      "align_items": null,
      "align_self": null,
      "border": null,
      "bottom": null,
      "display": null,
      "flex": null,
      "flex_flow": null,
      "grid_area": null,
      "grid_auto_columns": null,
      "grid_auto_flow": null,
      "grid_auto_rows": null,
      "grid_column": null,
      "grid_gap": null,
      "grid_row": null,
      "grid_template_areas": null,
      "grid_template_columns": null,
      "grid_template_rows": null,
      "height": null,
      "justify_content": null,
      "justify_items": null,
      "left": null,
      "margin": null,
      "max_height": null,
      "max_width": null,
      "min_height": null,
      "min_width": null,
      "object_fit": null,
      "object_position": null,
      "order": null,
      "overflow": null,
      "overflow_x": null,
      "overflow_y": null,
      "padding": null,
      "right": null,
      "top": null,
      "visibility": null,
      "width": null
     }
    },
    "76367dff33c247d88f1c2240be90a0d7": {
     "model_module": "@jupyter-widgets/base",
     "model_name": "LayoutModel",
     "state": {
      "_model_module": "@jupyter-widgets/base",
      "_model_module_version": "1.2.0",
      "_model_name": "LayoutModel",
      "_view_count": null,
      "_view_module": "@jupyter-widgets/base",
      "_view_module_version": "1.2.0",
      "_view_name": "LayoutView",
      "align_content": null,
      "align_items": null,
      "align_self": null,
      "border": null,
      "bottom": null,
      "display": null,
      "flex": null,
      "flex_flow": null,
      "grid_area": null,
      "grid_auto_columns": null,
      "grid_auto_flow": null,
      "grid_auto_rows": null,
      "grid_column": null,
      "grid_gap": null,
      "grid_row": null,
      "grid_template_areas": null,
      "grid_template_columns": null,
      "grid_template_rows": null,
      "height": null,
      "justify_content": null,
      "justify_items": null,
      "left": null,
      "margin": null,
      "max_height": null,
      "max_width": null,
      "min_height": null,
      "min_width": null,
      "object_fit": null,
      "object_position": null,
      "order": null,
      "overflow": null,
      "overflow_x": null,
      "overflow_y": null,
      "padding": null,
      "right": null,
      "top": null,
      "visibility": null,
      "width": null
     }
    },
    "7f5c424416da4871aba7a7c3ad14d68c": {
     "model_module": "@jupyter-widgets/controls",
     "model_name": "DescriptionStyleModel",
     "state": {
      "_model_module": "@jupyter-widgets/controls",
      "_model_module_version": "1.5.0",
      "_model_name": "DescriptionStyleModel",
      "_view_count": null,
      "_view_module": "@jupyter-widgets/base",
      "_view_module_version": "1.2.0",
      "_view_name": "StyleView",
      "description_width": ""
     }
    },
    "bebf5d0c2d3042f8be7fec73ed15af54": {
     "model_module": "@jupyter-widgets/base",
     "model_name": "LayoutModel",
     "state": {
      "_model_module": "@jupyter-widgets/base",
      "_model_module_version": "1.2.0",
      "_model_name": "LayoutModel",
      "_view_count": null,
      "_view_module": "@jupyter-widgets/base",
      "_view_module_version": "1.2.0",
      "_view_name": "LayoutView",
      "align_content": null,
      "align_items": null,
      "align_self": null,
      "border": null,
      "bottom": null,
      "display": null,
      "flex": null,
      "flex_flow": null,
      "grid_area": null,
      "grid_auto_columns": null,
      "grid_auto_flow": null,
      "grid_auto_rows": null,
      "grid_column": null,
      "grid_gap": null,
      "grid_row": null,
      "grid_template_areas": null,
      "grid_template_columns": null,
      "grid_template_rows": null,
      "height": null,
      "justify_content": null,
      "justify_items": null,
      "left": null,
      "margin": null,
      "max_height": null,
      "max_width": null,
      "min_height": null,
      "min_width": null,
      "object_fit": null,
      "object_position": null,
      "order": null,
      "overflow": null,
      "overflow_x": null,
      "overflow_y": null,
      "padding": null,
      "right": null,
      "top": null,
      "visibility": null,
      "width": null
     }
    },
    "d3193b57a3fd4706bc6dc19aa65b71e1": {
     "model_module": "@jupyter-widgets/controls",
     "model_name": "FloatProgressModel",
     "state": {
      "_dom_classes": [],
      "_model_module": "@jupyter-widgets/controls",
      "_model_module_version": "1.5.0",
      "_model_name": "FloatProgressModel",
      "_view_count": null,
      "_view_module": "@jupyter-widgets/controls",
      "_view_module_version": "1.5.0",
      "_view_name": "ProgressView",
      "bar_style": "success",
      "description": "100%",
      "description_tooltip": null,
      "layout": "IPY_MODEL_bebf5d0c2d3042f8be7fec73ed15af54",
      "max": 156,
      "min": 0,
      "orientation": "horizontal",
      "style": "IPY_MODEL_e18cae27f2d5475e890a64a948429557",
      "value": 156
     }
    },
    "e18cae27f2d5475e890a64a948429557": {
     "model_module": "@jupyter-widgets/controls",
     "model_name": "ProgressStyleModel",
     "state": {
      "_model_module": "@jupyter-widgets/controls",
      "_model_module_version": "1.5.0",
      "_model_name": "ProgressStyleModel",
      "_view_count": null,
      "_view_module": "@jupyter-widgets/base",
      "_view_module_version": "1.2.0",
      "_view_name": "StyleView",
      "bar_color": null,
      "description_width": "initial"
     }
    },
    "f2df124fb46a42d9a8011c589d478eee": {
     "model_module": "@jupyter-widgets/controls",
     "model_name": "HBoxModel",
     "state": {
      "_dom_classes": [],
      "_model_module": "@jupyter-widgets/controls",
      "_model_module_version": "1.5.0",
      "_model_name": "HBoxModel",
      "_view_count": null,
      "_view_module": "@jupyter-widgets/controls",
      "_view_module_version": "1.5.0",
      "_view_name": "HBoxView",
      "box_style": "",
      "children": [
       "IPY_MODEL_d3193b57a3fd4706bc6dc19aa65b71e1",
       "IPY_MODEL_2e09e1b207e840bca57333c9d7ac6117"
      ],
      "layout": "IPY_MODEL_76367dff33c247d88f1c2240be90a0d7"
     }
    }
   }
  }
 },
 "nbformat": 4,
 "nbformat_minor": 1
}
