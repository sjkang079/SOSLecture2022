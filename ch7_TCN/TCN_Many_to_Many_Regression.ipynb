{
 "cells": [
  {
   "cell_type": "markdown",
   "metadata": {
    "colab_type": "text",
    "id": "view-in-github"
   },
   "source": [
    "<a href=\"https://colab.research.google.com/github/ashishpatel26/tcn-keras-Examples/blob/master/TCN_Many_to_Many_Regression.ipynb\" target=\"_parent\"><img src=\"https://colab.research.google.com/assets/colab-badge.svg\" alt=\"Open In Colab\"/></a>"
   ]
  },
  {
   "cell_type": "code",
   "execution_count": 1,
   "metadata": {
    "colab": {
     "base_uri": "https://localhost:8080/",
     "height": 187
    },
    "colab_type": "code",
    "id": "kULRG9OMibaO",
    "outputId": "5f1ae6d5-2c11-4e18-8fd8-2769996bd519"
   },
   "outputs": [
    {
     "name": "stdout",
     "output_type": "stream",
     "text": [
      "Requirement already satisfied: keras-tcn in /Users/sjkang/miniforge3/envs/tensorflow/lib/python3.9/site-packages (3.5.0)\n",
      "Requirement already satisfied: numpy in /Users/sjkang/miniforge3/envs/tensorflow/lib/python3.9/site-packages (from keras-tcn) (1.21.5)\n",
      "Requirement already satisfied: tensorflow-macos in /Users/sjkang/miniforge3/envs/tensorflow/lib/python3.9/site-packages (from keras-tcn) (2.8.0)\n",
      "Requirement already satisfied: tensorflow_addons in /Users/sjkang/miniforge3/envs/tensorflow/lib/python3.9/site-packages (from keras-tcn) (0.18.0)\n",
      "Requirement already satisfied: packaging in /Users/sjkang/miniforge3/envs/tensorflow/lib/python3.9/site-packages (from tensorflow_addons->keras-tcn) (21.3)\n",
      "Requirement already satisfied: typeguard>=2.7 in /Users/sjkang/miniforge3/envs/tensorflow/lib/python3.9/site-packages (from tensorflow_addons->keras-tcn) (2.13.3)\n",
      "Requirement already satisfied: keras<2.9,>=2.8.0rc0 in /Users/sjkang/miniforge3/envs/tensorflow/lib/python3.9/site-packages (from tensorflow-macos->keras-tcn) (2.8.0)\n",
      "Requirement already satisfied: h5py>=2.9.0 in /Users/sjkang/miniforge3/envs/tensorflow/lib/python3.9/site-packages (from tensorflow-macos->keras-tcn) (3.6.0)\n",
      "Requirement already satisfied: opt-einsum>=2.3.2 in /Users/sjkang/miniforge3/envs/tensorflow/lib/python3.9/site-packages (from tensorflow-macos->keras-tcn) (3.3.0)\n",
      "Requirement already satisfied: protobuf>=3.9.2 in /Users/sjkang/miniforge3/envs/tensorflow/lib/python3.9/site-packages (from tensorflow-macos->keras-tcn) (3.11.2)\n",
      "Requirement already satisfied: grpcio<2.0,>=1.24.3 in /Users/sjkang/miniforge3/envs/tensorflow/lib/python3.9/site-packages (from tensorflow-macos->keras-tcn) (1.44.0)\n",
      "Requirement already satisfied: flatbuffers>=1.12 in /Users/sjkang/miniforge3/envs/tensorflow/lib/python3.9/site-packages (from tensorflow-macos->keras-tcn) (2.0)\n",
      "Requirement already satisfied: gast>=0.2.1 in /Users/sjkang/miniforge3/envs/tensorflow/lib/python3.9/site-packages (from tensorflow-macos->keras-tcn) (0.5.3)\n",
      "Requirement already satisfied: keras-preprocessing>=1.1.1 in /Users/sjkang/miniforge3/envs/tensorflow/lib/python3.9/site-packages (from tensorflow-macos->keras-tcn) (1.1.2)\n",
      "Requirement already satisfied: google-pasta>=0.1.1 in /Users/sjkang/miniforge3/envs/tensorflow/lib/python3.9/site-packages (from tensorflow-macos->keras-tcn) (0.2.0)\n",
      "Requirement already satisfied: six>=1.12.0 in /Users/sjkang/miniforge3/envs/tensorflow/lib/python3.9/site-packages (from tensorflow-macos->keras-tcn) (1.15.0)\n",
      "Requirement already satisfied: setuptools in /Users/sjkang/miniforge3/envs/tensorflow/lib/python3.9/site-packages (from tensorflow-macos->keras-tcn) (59.8.0)\n",
      "Requirement already satisfied: absl-py>=0.4.0 in /Users/sjkang/miniforge3/envs/tensorflow/lib/python3.9/site-packages (from tensorflow-macos->keras-tcn) (1.0.0)\n",
      "Requirement already satisfied: termcolor>=1.1.0 in /Users/sjkang/miniforge3/envs/tensorflow/lib/python3.9/site-packages (from tensorflow-macos->keras-tcn) (1.1.0)\n",
      "Requirement already satisfied: wrapt>=1.11.0 in /Users/sjkang/miniforge3/envs/tensorflow/lib/python3.9/site-packages (from tensorflow-macos->keras-tcn) (1.14.0)\n",
      "Requirement already satisfied: libclang>=9.0.1 in /Users/sjkang/miniforge3/envs/tensorflow/lib/python3.9/site-packages (from tensorflow-macos->keras-tcn) (13.0.0)\n",
      "Requirement already satisfied: tf-estimator-nightly==2.8.0.dev2021122109 in /Users/sjkang/miniforge3/envs/tensorflow/lib/python3.9/site-packages (from tensorflow-macos->keras-tcn) (2.8.0.dev2021122109)\n",
      "Requirement already satisfied: typing-extensions>=3.6.6 in /Users/sjkang/miniforge3/envs/tensorflow/lib/python3.9/site-packages (from tensorflow-macos->keras-tcn) (4.1.1)\n",
      "Requirement already satisfied: astunparse>=1.6.0 in /Users/sjkang/miniforge3/envs/tensorflow/lib/python3.9/site-packages (from tensorflow-macos->keras-tcn) (1.6.3)\n",
      "Requirement already satisfied: tensorboard<2.9,>=2.8 in /Users/sjkang/miniforge3/envs/tensorflow/lib/python3.9/site-packages (from tensorflow-macos->keras-tcn) (2.8.0)\n",
      "Requirement already satisfied: wheel<1.0,>=0.23.0 in /Users/sjkang/miniforge3/envs/tensorflow/lib/python3.9/site-packages (from astunparse>=1.6.0->tensorflow-macos->keras-tcn) (0.37.1)\n",
      "Requirement already satisfied: werkzeug>=0.11.15 in /Users/sjkang/miniforge3/envs/tensorflow/lib/python3.9/site-packages (from tensorboard<2.9,>=2.8->tensorflow-macos->keras-tcn) (2.0.3)\n",
      "Requirement already satisfied: tensorboard-data-server<0.7.0,>=0.6.0 in /Users/sjkang/miniforge3/envs/tensorflow/lib/python3.9/site-packages (from tensorboard<2.9,>=2.8->tensorflow-macos->keras-tcn) (0.6.1)\n",
      "Requirement already satisfied: google-auth-oauthlib<0.5,>=0.4.1 in /Users/sjkang/miniforge3/envs/tensorflow/lib/python3.9/site-packages (from tensorboard<2.9,>=2.8->tensorflow-macos->keras-tcn) (0.4.6)\n",
      "Requirement already satisfied: markdown>=2.6.8 in /Users/sjkang/miniforge3/envs/tensorflow/lib/python3.9/site-packages (from tensorboard<2.9,>=2.8->tensorflow-macos->keras-tcn) (3.3.6)\n",
      "Requirement already satisfied: google-auth<3,>=1.6.3 in /Users/sjkang/miniforge3/envs/tensorflow/lib/python3.9/site-packages (from tensorboard<2.9,>=2.8->tensorflow-macos->keras-tcn) (2.6.2)\n",
      "Requirement already satisfied: tensorboard-plugin-wit>=1.6.0 in /Users/sjkang/miniforge3/envs/tensorflow/lib/python3.9/site-packages (from tensorboard<2.9,>=2.8->tensorflow-macos->keras-tcn) (1.8.1)\n",
      "Requirement already satisfied: requests<3,>=2.21.0 in /Users/sjkang/miniforge3/envs/tensorflow/lib/python3.9/site-packages (from tensorboard<2.9,>=2.8->tensorflow-macos->keras-tcn) (2.27.1)\n",
      "Requirement already satisfied: pyparsing!=3.0.5,>=2.0.2 in /Users/sjkang/miniforge3/envs/tensorflow/lib/python3.9/site-packages (from packaging->tensorflow_addons->keras-tcn) (3.0.7)\n",
      "Requirement already satisfied: cachetools<6.0,>=2.0.0 in /Users/sjkang/miniforge3/envs/tensorflow/lib/python3.9/site-packages (from google-auth<3,>=1.6.3->tensorboard<2.9,>=2.8->tensorflow-macos->keras-tcn) (5.0.0)\n",
      "Requirement already satisfied: rsa<5,>=3.1.4 in /Users/sjkang/miniforge3/envs/tensorflow/lib/python3.9/site-packages (from google-auth<3,>=1.6.3->tensorboard<2.9,>=2.8->tensorflow-macos->keras-tcn) (4.8)\n",
      "Requirement already satisfied: pyasn1-modules>=0.2.1 in /Users/sjkang/miniforge3/envs/tensorflow/lib/python3.9/site-packages (from google-auth<3,>=1.6.3->tensorboard<2.9,>=2.8->tensorflow-macos->keras-tcn) (0.2.8)\n",
      "Requirement already satisfied: requests-oauthlib>=0.7.0 in /Users/sjkang/miniforge3/envs/tensorflow/lib/python3.9/site-packages (from google-auth-oauthlib<0.5,>=0.4.1->tensorboard<2.9,>=2.8->tensorflow-macos->keras-tcn) (1.3.1)\n",
      "Requirement already satisfied: importlib-metadata>=4.4 in /Users/sjkang/miniforge3/envs/tensorflow/lib/python3.9/site-packages (from markdown>=2.6.8->tensorboard<2.9,>=2.8->tensorflow-macos->keras-tcn) (4.11.3)\n",
      "Requirement already satisfied: charset-normalizer~=2.0.0 in /Users/sjkang/miniforge3/envs/tensorflow/lib/python3.9/site-packages (from requests<3,>=2.21.0->tensorboard<2.9,>=2.8->tensorflow-macos->keras-tcn) (2.0.12)\n",
      "Requirement already satisfied: certifi>=2017.4.17 in /Users/sjkang/miniforge3/envs/tensorflow/lib/python3.9/site-packages (from requests<3,>=2.21.0->tensorboard<2.9,>=2.8->tensorflow-macos->keras-tcn) (2022.6.15)\n",
      "Requirement already satisfied: urllib3<1.27,>=1.21.1 in /Users/sjkang/miniforge3/envs/tensorflow/lib/python3.9/site-packages (from requests<3,>=2.21.0->tensorboard<2.9,>=2.8->tensorflow-macos->keras-tcn) (1.26.9)\n",
      "Requirement already satisfied: idna<4,>=2.5 in /Users/sjkang/miniforge3/envs/tensorflow/lib/python3.9/site-packages (from requests<3,>=2.21.0->tensorboard<2.9,>=2.8->tensorflow-macos->keras-tcn) (3.3)\n",
      "Requirement already satisfied: zipp>=0.5 in /Users/sjkang/miniforge3/envs/tensorflow/lib/python3.9/site-packages (from importlib-metadata>=4.4->markdown>=2.6.8->tensorboard<2.9,>=2.8->tensorflow-macos->keras-tcn) (3.7.0)\n",
      "Requirement already satisfied: pyasn1<0.5.0,>=0.4.6 in /Users/sjkang/miniforge3/envs/tensorflow/lib/python3.9/site-packages (from pyasn1-modules>=0.2.1->google-auth<3,>=1.6.3->tensorboard<2.9,>=2.8->tensorflow-macos->keras-tcn) (0.4.8)\n",
      "Requirement already satisfied: oauthlib>=3.0.0 in /Users/sjkang/miniforge3/envs/tensorflow/lib/python3.9/site-packages (from requests-oauthlib>=0.7.0->google-auth-oauthlib<0.5,>=0.4.1->tensorboard<2.9,>=2.8->tensorflow-macos->keras-tcn) (3.2.0)\n"
     ]
    },
    {
     "name": "stdout",
     "output_type": "stream",
     "text": [
      "Requirement already satisfied: wget in /Users/sjkang/miniforge3/envs/tensorflow/lib/python3.9/site-packages (3.2)\r\n"
     ]
    }
   ],
   "source": [
    "!pip install keras-tcn\n",
    "!pip install wget\n",
    "from tcn import compiled_tcn\n",
    "from sklearn.metrics import mean_squared_error\n",
    "from sklearn.preprocessing import MinMaxScaler\n",
    "import numpy as np\n",
    "import wget"
   ]
  },
  {
   "cell_type": "code",
   "execution_count": 2,
   "metadata": {
    "colab": {
     "base_uri": "https://localhost:8080/",
     "height": 35
    },
    "colab_type": "code",
    "id": "lfi2Tzs2kAVp",
    "outputId": "01d8dbf1-65f9-4186-c7aa-dcd9fc9b560a"
   },
   "outputs": [
    {
     "name": "stdout",
     "output_type": "stream",
     "text": [
      "\r",
      "  0% [                                                        ]      0 / 546336\r",
      "  1% [                                                        ]   8192 / 546336\r",
      "  2% [.                                                       ]  16384 / 546336\r",
      "  4% [..                                                      ]  24576 / 546336\r",
      "  5% [...                                                     ]  32768 / 546336\r",
      "  7% [....                                                    ]  40960 / 546336\r",
      "  8% [.....                                                   ]  49152 / 546336\r",
      " 10% [.....                                                   ]  57344 / 546336\r",
      " 11% [......                                                  ]  65536 / 546336\r",
      " 13% [.......                                                 ]  73728 / 546336\r",
      " 14% [........                                                ]  81920 / 546336\r",
      " 16% [.........                                               ]  90112 / 546336\r",
      " 17% [..........                                              ]  98304 / 546336\r",
      " 19% [..........                                              ] 106496 / 546336\r",
      " 20% [...........                                             ] 114688 / 546336\r",
      " 22% [............                                            ] 122880 / 546336\r",
      " 23% [.............                                           ] 131072 / 546336\r",
      " 25% [..............                                          ] 139264 / 546336\r",
      " 26% [...............                                         ] 147456 / 546336\r",
      " 28% [...............                                         ] 155648 / 546336\r",
      " 29% [................                                        ] 163840 / 546336\r",
      " 31% [.................                                       ] 172032 / 546336\r",
      " 32% [..................                                      ] 180224 / 546336\r",
      " 34% [...................                                     ] 188416 / 546336\r",
      " 35% [....................                                    ] 196608 / 546336\r",
      " 37% [....................                                    ] 204800 / 546336\r",
      " 38% [.....................                                   ] 212992 / 546336\r",
      " 40% [......................                                  ] 221184 / 546336\r",
      " 41% [.......................                                 ] 229376 / 546336\r",
      " 43% [........................                                ] 237568 / 546336\r",
      " 44% [.........................                               ] 245760 / 546336\r",
      " 46% [..........................                              ] 253952 / 546336\r",
      " 47% [..........................                              ] 262144 / 546336\r",
      " 49% [...........................                             ] 270336 / 546336\r",
      " 50% [............................                            ] 278528 / 546336\r",
      " 52% [.............................                           ] 286720 / 546336\r",
      " 53% [..............................                          ] 294912 / 546336\r",
      " 55% [...............................                         ] 303104 / 546336\r",
      " 56% [...............................                         ] 311296 / 546336\r",
      " 58% [................................                        ] 319488 / 546336\r",
      " 59% [.................................                       ] 327680 / 546336\r",
      " 61% [..................................                      ] 335872 / 546336\r",
      " 62% [...................................                     ] 344064 / 546336\r",
      " 64% [....................................                    ] 352256 / 546336\r",
      " 65% [....................................                    ] 360448 / 546336\r",
      " 67% [.....................................                   ] 368640 / 546336\r",
      " 68% [......................................                  ] 376832 / 546336\r",
      " 70% [.......................................                 ] 385024 / 546336\r",
      " 71% [........................................                ] 393216 / 546336\r",
      " 73% [.........................................               ] 401408 / 546336\r",
      " 74% [.........................................               ] 409600 / 546336\r",
      " 76% [..........................................              ] 417792 / 546336\r",
      " 77% [...........................................             ] 425984 / 546336\r",
      " 79% [............................................            ] 434176 / 546336\r",
      " 80% [.............................................           ] 442368 / 546336\r",
      " 82% [..............................................          ] 450560 / 546336\r",
      " 83% [...............................................         ] 458752 / 546336\r",
      " 85% [...............................................         ] 466944 / 546336\r",
      " 86% [................................................        ] 475136 / 546336\r",
      " 88% [.................................................       ] 483328 / 546336\r",
      " 89% [..................................................      ] 491520 / 546336\r",
      " 91% [...................................................     ] 499712 / 546336\r",
      " 92% [....................................................    ] 507904 / 546336\r",
      " 94% [....................................................    ] 516096 / 546336\r",
      " 95% [.....................................................   ] 524288 / 546336\r",
      " 97% [......................................................  ] 532480 / 546336\r",
      " 98% [....................................................... ] 540672 / 546336\r",
      "100% [........................................................] 546336 / 546336"
     ]
    },
    {
     "data": {
      "text/plain": [
       "'exchange_rate.txt'"
      ]
     },
     "execution_count": 2,
     "metadata": {},
     "output_type": "execute_result"
    }
   ],
   "source": [
    "wget.download('https://github.com/philipperemy/keras-tcn/raw/master/tasks/exchange_rate/exchange_rate.txt')"
   ]
  },
  {
   "cell_type": "markdown",
   "metadata": {
    "colab_type": "text",
    "id": "zbyK6EeNNoWj"
   },
   "source": [
    "### Read data"
   ]
  },
  {
   "cell_type": "code",
   "execution_count": 3,
   "metadata": {
    "colab": {},
    "colab_type": "code",
    "id": "USCO8Z5pipUx"
   },
   "outputs": [],
   "source": [
    "def get_xy_kfolds(split_index=[0.5, 0.6, 0.7, 0.8, 0.9], timesteps=1000):\n",
    "    \"\"\"\n",
    "    load exchange rate dataset and preprecess it, then split it into k-folds for CV\n",
    "    :param split_index: list, the ratio of whole dataset as train set\n",
    "    :param timesteps: length of a single train x sample\n",
    "    :return: list, [train_x_set,train_y_set,test_x_single,test_y_single]\n",
    "    \"\"\"\n",
    "    df = np.loadtxt('exchange_rate.txt', delimiter=',')\n",
    "    n = len(df)\n",
    "    folds = []\n",
    "    enc = MinMaxScaler()\n",
    "    df = enc.fit_transform(df)\n",
    "    for split_point in split_index:\n",
    "        train_end = int(split_point * n)\n",
    "        train_x, train_y = [], []\n",
    "        for i in range(train_end - timesteps):\n",
    "            train_x.append(df[i:i + timesteps])\n",
    "            train_y.append(df[i + timesteps])\n",
    "        train_x = np.array(train_x)\n",
    "        train_y = np.array(train_y)\n",
    "        test_x = df[train_end - timesteps + 1:train_end + 1]\n",
    "        test_y = df[train_end + 1]\n",
    "        folds.append((train_x, train_y, test_x, test_y))\n",
    "    return folds, enc"
   ]
  },
  {
   "cell_type": "markdown",
   "metadata": {
    "colab_type": "text",
    "id": "tNskXr9BUBCv"
   },
   "source": [
    "### Folds Contrains 5 Value with List below\n",
    "* Change the folds value by just passing like below example\n",
    "\n",
    "```\n",
    "We have 5 Folds Values\n",
    "\n",
    "  train_x, train_y, test_x, test_y = folds[0]\n",
    "  train_x, train_y, test_x, test_y = folds[1]\n",
    "  train_x, train_y, test_x, test_y = folds[2]\n",
    "  train_x, train_y, test_x, test_y = folds[3]\n",
    "  train_x, train_y, test_x, test_y = folds[4]\n",
    "```"
   ]
  },
  {
   "cell_type": "code",
   "execution_count": 4,
   "metadata": {
    "colab": {
     "base_uri": "https://localhost:8080/",
     "height": 34
    },
    "colab_type": "code",
    "id": "KmtY-yK8jZzD",
    "outputId": "ae006fc6-c333-4c4b-a97a-a8ad70fa3645"
   },
   "outputs": [
    {
     "name": "stdout",
     "output_type": "stream",
     "text": [
      "(3552, 1000, 8) (3552, 8) (1000, 8) (8,)\n"
     ]
    }
   ],
   "source": [
    "folds, enc = get_xy_kfolds(split_index=[0.5, 0.6, 0.7, 0.8, 0.9], timesteps=1000)\n",
    "\n",
    "mse_list = []\n",
    "# train_x, train_y, test_x, test_y = folds[0]\n",
    "train_x, train_y, test_x, test_y = folds[1]\n",
    "# train_x, train_y, test_x, test_y = folds[2]\n",
    "# train_x, train_y, test_x, test_y = folds[3]\n",
    "# train_x, train_y, test_x, test_y = folds[4]\n",
    "print(train_x.shape, train_y.shape, test_x.shape, test_y.shape)"
   ]
  },
  {
   "cell_type": "markdown",
   "metadata": {
    "colab_type": "text",
    "id": "wiDgSc9uTM5V"
   },
   "source": [
    "### Model Design"
   ]
  },
  {
   "cell_type": "code",
   "execution_count": 5,
   "metadata": {
    "colab": {
     "base_uri": "https://localhost:8080/",
     "height": 340
    },
    "colab_type": "code",
    "id": "KMp31scgTL1r",
    "outputId": "be9d7c28-49fb-4d03-c0c4-6e82063d917d"
   },
   "outputs": [
    {
     "name": "stderr",
     "output_type": "stream",
     "text": [
      "2022-10-04 16:26:56.739624: I tensorflow/core/common_runtime/pluggable_device/pluggable_device_factory.cc:305] Could not identify NUMA node of platform GPU ID 0, defaulting to 0. Your kernel may not have been built with NUMA support.\n",
      "2022-10-04 16:26:56.739744: I tensorflow/core/common_runtime/pluggable_device/pluggable_device_factory.cc:271] Created TensorFlow device (/job:localhost/replica:0/task:0/device:GPU:0 with 0 MB memory) -> physical PluggableDevice (device: 0, name: METAL, pci bus id: <undefined>)\n"
     ]
    },
    {
     "name": "stdout",
     "output_type": "stream",
     "text": [
      "Metal device set to: Apple M1 Pro\n",
      "x.shape= (None, 24)\n",
      "model.x = (None, 1000, 8)\n",
      "model.y = (None, 8)\n",
      "Model: \"model\"\n",
      "_________________________________________________________________\n",
      " Layer (type)                Output Shape              Param #   \n",
      "=================================================================\n",
      " input_1 (InputLayer)        [(None, 1000, 8)]         0         \n",
      "                                                                 \n",
      " tcn (TCN)                   (None, 24)                80520     \n",
      "                                                                 \n",
      " dense (Dense)               (None, 8)                 200       \n",
      "                                                                 \n",
      " activation (Activation)     (None, 8)                 0         \n",
      "                                                                 \n",
      "=================================================================\n",
      "Total params: 80,720\n",
      "Trainable params: 80,720\n",
      "Non-trainable params: 0\n",
      "_________________________________________________________________\n"
     ]
    },
    {
     "name": "stderr",
     "output_type": "stream",
     "text": [
      "/Users/sjkang/miniforge3/envs/tensorflow/lib/python3.9/site-packages/keras/optimizer_v2/adam.py:105: UserWarning: The `lr` argument is deprecated, use `learning_rate` instead.\n",
      "  super(Adam, self).__init__(name, **kwargs)\n"
     ]
    }
   ],
   "source": [
    "#model object has defined\n",
    "model = compiled_tcn(return_sequences=False,\n",
    "                      num_feat=test_x.shape[1],\n",
    "                      nb_filters=24,\n",
    "                      num_classes=0,\n",
    "                      kernel_size=8,\n",
    "                      dilations=[2 ** i for i in range(9)],\n",
    "                      nb_stacks=1,\n",
    "                      max_len=test_x.shape[0],\n",
    "                      use_skip_connections=True,\n",
    "                      regression=True,\n",
    "                      dropout_rate=0,\n",
    "                      output_len=test_y.shape[0])\n",
    "\n",
    "model.summary()"
   ]
  },
  {
   "cell_type": "markdown",
   "metadata": {
    "colab_type": "text",
    "id": "dcuoamycTTbS"
   },
   "source": [
    "### training the model"
   ]
  },
  {
   "cell_type": "code",
   "execution_count": null,
   "metadata": {
    "colab": {
     "base_uri": "https://localhost:8080/",
     "height": 1000
    },
    "colab_type": "code",
    "id": "89zxn0PCjddq",
    "outputId": "cd85cd39-130b-49c3-d5af-7e70bdc5392f"
   },
   "outputs": [
    {
     "name": "stdout",
     "output_type": "stream",
     "text": [
      "Epoch 1/30\n",
      "14/14 [==============================] - 17s 1s/step - loss: 7.7351e-04\n",
      "Epoch 2/30\n",
      "14/14 [==============================] - 17s 1s/step - loss: 7.4560e-04\n",
      "Epoch 3/30\n",
      "14/14 [==============================] - 17s 1s/step - loss: 7.2246e-04\n",
      "Epoch 4/30\n",
      "14/14 [==============================] - 17s 1s/step - loss: 7.1704e-04\n",
      "Epoch 5/30\n",
      "14/14 [==============================] - 17s 1s/step - loss: 6.9700e-04\n",
      "Epoch 6/30\n",
      "14/14 [==============================] - 17s 1s/step - loss: 6.7046e-04\n",
      "Epoch 7/30\n",
      "14/14 [==============================] - 17s 1s/step - loss: 6.5210e-04\n",
      "Epoch 8/30\n",
      "14/14 [==============================] - 17s 1s/step - loss: 6.3202e-04\n",
      "Epoch 9/30\n",
      "14/14 [==============================] - 17s 1s/step - loss: 6.1032e-04\n",
      "Epoch 10/30\n",
      "14/14 [==============================] - 17s 1s/step - loss: 6.0770e-04\n",
      "Epoch 11/30\n",
      "14/14 [==============================] - 17s 1s/step - loss: 6.0250e-04\n",
      "Epoch 12/30\n",
      "14/14 [==============================] - 17s 1s/step - loss: 6.0717e-04\n",
      "Epoch 13/30\n",
      "14/14 [==============================] - 18s 1s/step - loss: 5.9370e-04\n",
      "Epoch 14/30\n",
      "14/14 [==============================] - 18s 1s/step - loss: 5.8413e-04\n",
      "Epoch 15/30\n",
      "14/14 [==============================] - 18s 1s/step - loss: 5.8146e-04\n",
      "Epoch 16/30\n",
      "14/14 [==============================] - 18s 1s/step - loss: 5.7024e-04\n",
      "Epoch 17/30\n",
      "14/14 [==============================] - 18s 1s/step - loss: 5.5107e-04\n",
      "Epoch 18/30\n",
      "14/14 [==============================] - 18s 1s/step - loss: 5.3800e-04\n",
      "Epoch 19/30\n",
      "14/14 [==============================] - 18s 1s/step - loss: 5.4723e-04\n",
      "Epoch 20/30\n",
      "14/14 [==============================] - 18s 1s/step - loss: 5.2286e-04\n",
      "Epoch 21/30\n",
      "14/14 [==============================] - 18s 1s/step - loss: 5.4516e-04\n",
      "Epoch 22/30\n",
      "14/14 [==============================] - 18s 1s/step - loss: 5.1574e-04\n",
      "Epoch 23/30\n",
      "14/14 [==============================] - 18s 1s/step - loss: 5.2632e-04\n",
      "Epoch 24/30\n",
      "14/14 [==============================] - 18s 1s/step - loss: 4.8859e-04\n",
      "Epoch 25/30\n",
      "14/14 [==============================] - 18s 1s/step - loss: 4.7294e-04\n",
      "Epoch 26/30\n",
      "14/14 [==============================] - 18s 1s/step - loss: 4.7279e-04\n",
      "Epoch 27/30\n",
      "14/14 [==============================] - 18s 1s/step - loss: 4.6268e-04\n",
      "Epoch 28/30\n",
      "14/14 [==============================] - 18s 1s/step - loss: 4.6454e-04\n",
      "Epoch 29/30\n",
      "10/14 [====================>.........] - ETA: 5s - loss: 5.4169e-04"
     ]
    }
   ],
   "source": [
    "# training the model\n",
    "model.fit(train_x, train_y, batch_size=256, epochs=30)"
   ]
  },
  {
   "cell_type": "markdown",
   "metadata": {
    "colab_type": "text",
    "id": "I1MV9ILMTdKW"
   },
   "source": [
    "### Predict the X_test Value"
   ]
  },
  {
   "cell_type": "code",
   "execution_count": null,
   "metadata": {
    "colab": {},
    "colab_type": "code",
    "id": "mv8i0R5HjmDR"
   },
   "outputs": [],
   "source": [
    "# predict the value from x_test\n",
    "y_raw_pred = model.predict(np.array([test_x]))\n",
    "\n",
    "# Invert transform for get a original value\n",
    "y_pred = enc.inverse_transform(y_raw_pred).flatten()\n",
    "y_true = enc.inverse_transform([test_y]).flatten()"
   ]
  },
  {
   "cell_type": "markdown",
   "metadata": {
    "colab_type": "text",
    "id": "gT0OKO-aTlvJ"
   },
   "source": [
    "### Model Evaluation with Mean Square Error"
   ]
  },
  {
   "cell_type": "code",
   "execution_count": 27,
   "metadata": {
    "colab": {
     "base_uri": "https://localhost:8080/",
     "height": 34
    },
    "colab_type": "code",
    "id": "RICZg3d7Tkp1",
    "outputId": "4542e211-ee03-4ff0-8313-c747aab8c74e"
   },
   "outputs": [
    {
     "name": "stdout",
     "output_type": "stream",
     "text": [
      "mse:0.00032251839564405055\n"
     ]
    }
   ],
   "source": [
    "# Calculate the Mean Square Error for Regression Problem\n",
    "mse_cur = mean_squared_error(y_true, y_pred)\n",
    "\n",
    "# Append the error in to mse_list\n",
    "mse_list.append(mse_cur)\n",
    "\n",
    "# print the shape of xtrain\n",
    "print(f\"train_set_size:{train_x.shape[0]}\")\n",
    "\n",
    "# print the y_true and y_pred\n",
    "print(f\"y_true:{y_true}\")\n",
    "print(f\"y_pred:{y_pred}\")\n",
    "\n",
    "# print the current MSE value\n",
    "print(f\"mse:{mse_cur}\")\n",
    "\n",
    "# print(f\"finial loss on test set: {np.mean(mse_list)}\")"
   ]
  }
 ],
 "metadata": {
  "accelerator": "GPU",
  "colab": {
   "authorship_tag": "ABX9TyP8tvFfgj/dEwyBBk3aJuiE",
   "include_colab_link": true,
   "name": "TCN-Many to Many Regression.ipynb",
   "provenance": []
  },
  "kernelspec": {
   "display_name": "Python 3 (ipykernel)",
   "language": "python",
   "name": "python3"
  },
  "language_info": {
   "codemirror_mode": {
    "name": "ipython",
    "version": 3
   },
   "file_extension": ".py",
   "mimetype": "text/x-python",
   "name": "python",
   "nbconvert_exporter": "python",
   "pygments_lexer": "ipython3",
   "version": "3.9.5"
  }
 },
 "nbformat": 4,
 "nbformat_minor": 1
}
