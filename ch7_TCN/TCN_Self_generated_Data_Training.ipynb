{
 "cells": [
  {
   "cell_type": "markdown",
   "metadata": {
    "colab_type": "text",
    "id": "view-in-github"
   },
   "source": [
    "<a href=\"https://colab.research.google.com/github/ashishpatel26/tcn-keras-Examples/blob/master/TCN_Self_generated_Data_Training.ipynb\" target=\"_parent\"><img src=\"https://colab.research.google.com/assets/colab-badge.svg\" alt=\"Open In Colab\"/></a>"
   ]
  },
  {
   "cell_type": "markdown",
   "metadata": {
    "colab_type": "text",
    "id": "mOoq7seKTk6Q"
   },
   "source": [
    "### Load dataset"
   ]
  },
  {
   "cell_type": "code",
   "execution_count": 4,
   "metadata": {
    "colab": {
     "base_uri": "https://localhost:8080/",
     "height": 340
    },
    "colab_type": "code",
    "id": "9bF_d2wmT4Rh",
    "outputId": "1380a5ab-69a5-40c6-81cb-a2f63c2b9bfa"
   },
   "outputs": [
    {
     "name": "stdout",
     "output_type": "stream",
     "text": [
      "Collecting keras-tcn\n",
      "  Downloading https://files.pythonhosted.org/packages/a8/5b/31eed031c196dc192eddf346f053ec6a97aefa4b931164fd8665c92a9d7d/keras_tcn-3.1.1-py3-none-any.whl\n",
      "Collecting keras==2.3.1\n",
      "\u001b[?25l  Downloading https://files.pythonhosted.org/packages/ad/fd/6bfe87920d7f4fd475acd28500a42482b6b84479832bdc0fe9e589a60ceb/Keras-2.3.1-py2.py3-none-any.whl (377kB)\n",
      "\u001b[K     |████████████████████████████████| 378kB 3.8MB/s \n",
      "\u001b[?25hRequirement already satisfied: numpy>=1.18.1 in /usr/local/lib/python3.6/dist-packages (from keras-tcn) (1.18.5)\n",
      "Requirement already satisfied: six>=1.9.0 in /usr/local/lib/python3.6/dist-packages (from keras==2.3.1->keras-tcn) (1.15.0)\n",
      "Collecting keras-applications>=1.0.6\n",
      "\u001b[?25l  Downloading https://files.pythonhosted.org/packages/71/e3/19762fdfc62877ae9102edf6342d71b28fbfd9dea3d2f96a882ce099b03f/Keras_Applications-1.0.8-py3-none-any.whl (50kB)\n",
      "\u001b[K     |████████████████████████████████| 51kB 6.6MB/s \n",
      "\u001b[?25hRequirement already satisfied: pyyaml in /usr/local/lib/python3.6/dist-packages (from keras==2.3.1->keras-tcn) (3.13)\n",
      "Requirement already satisfied: scipy>=0.14 in /usr/local/lib/python3.6/dist-packages (from keras==2.3.1->keras-tcn) (1.4.1)\n",
      "Requirement already satisfied: h5py in /usr/local/lib/python3.6/dist-packages (from keras==2.3.1->keras-tcn) (2.10.0)\n",
      "Requirement already satisfied: keras-preprocessing>=1.0.5 in /usr/local/lib/python3.6/dist-packages (from keras==2.3.1->keras-tcn) (1.1.2)\n",
      "Installing collected packages: keras-applications, keras, keras-tcn\n",
      "  Found existing installation: Keras 2.4.3\n",
      "    Uninstalling Keras-2.4.3:\n",
      "      Successfully uninstalled Keras-2.4.3\n",
      "Successfully installed keras-2.3.1 keras-applications-1.0.8 keras-tcn-3.1.1\n"
     ]
    }
   ],
   "source": [
    "!pip install keras-tcn"
   ]
  },
  {
   "cell_type": "code",
   "execution_count": 5,
   "metadata": {
    "colab": {},
    "colab_type": "code",
    "id": "P-g__wZ8TPtx"
   },
   "outputs": [],
   "source": [
    "import numpy as np\n",
    "from tcn import compiled_tcn"
   ]
  },
  {
   "cell_type": "markdown",
   "metadata": {
    "colab_type": "text",
    "id": "5XHqBBlbT-aA"
   },
   "source": [
    "### Dataset Generation"
   ]
  },
  {
   "cell_type": "code",
   "execution_count": 11,
   "metadata": {
    "colab": {
     "base_uri": "https://localhost:8080/",
     "height": 102
    },
    "colab_type": "code",
    "id": "iYyT0LwJTgoH",
    "outputId": "7ac16e2f-0f4c-4d44-923d-cc8a9b38452d"
   },
   "outputs": [
    {
     "name": "stdout",
     "output_type": "stream",
     "text": [
      "X_train shape: (1024, 32)\n",
      "y_train shape:(1024, 1)\n",
      "After expanding the dimension shape is like this...!!!\n",
      "X_train shape: (1024, 32, 1)\n",
      "y_train shape:(1024, 1)\n"
     ]
    }
   ],
   "source": [
    "batch_size=1024\n",
    "sequence_length=32\n",
    "# input image dimensions\n",
    "pos_indices = np.random.choice(batch_size, size=int(batch_size // 2), replace=False)\n",
    "\n",
    "x_train = np.zeros(shape=(batch_size, sequence_length))\n",
    "print(f\"X_train shape: {x_train.shape}\")\n",
    "y_train = np.zeros(shape=(batch_size, 1))\n",
    "print(f\"y_train shape:{y_train.shape}\")\n",
    "x_train[pos_indices, 0] = 1.0\n",
    "y_train[pos_indices, 0] = 1.0\n",
    "\n",
    "# y_train = to_categorical(y_train, num_classes=2)\n",
    "\n",
    "print(\"After expanding the dimension shape is like this...!!!\")\n",
    "x_train = np.expand_dims(x_train, axis=2)\n",
    "y_train = y_train.copy()\n",
    "print(f\"X_train shape: {x_train.shape}\")\n",
    "print(f\"y_train shape:{y_train.shape}\")"
   ]
  },
  {
   "cell_type": "markdown",
   "metadata": {
    "colab_type": "text",
    "id": "nDTzraP1U4SS"
   },
   "source": [
    "### Model Design"
   ]
  },
  {
   "cell_type": "code",
   "execution_count": 13,
   "metadata": {
    "colab": {
     "base_uri": "https://localhost:8080/",
     "height": 340
    },
    "colab_type": "code",
    "id": "Fe7b6MhpTu43",
    "outputId": "c3ee9850-dfef-4a69-891c-0f24830127ce"
   },
   "outputs": [
    {
     "name": "stdout",
     "output_type": "stream",
     "text": [
      "x.shape= (None, 10)\n",
      "model.x = (None, 32, 1)\n",
      "model.y = (None, 10)\n",
      "Model: \"functional_1\"\n",
      "_________________________________________________________________\n",
      "Layer (type)                 Output Shape              Param #   \n",
      "=================================================================\n",
      "input_1 (InputLayer)         [(None, 32, 1)]           0         \n",
      "_________________________________________________________________\n",
      "tcn (TCN)                    (None, 10)                71840     \n",
      "_________________________________________________________________\n",
      "dense (Dense)                (None, 10)                110       \n",
      "_________________________________________________________________\n",
      "activation (Activation)      (None, 10)                0         \n",
      "=================================================================\n",
      "Total params: 71,950\n",
      "Trainable params: 71,950\n",
      "Non-trainable params: 0\n",
      "_________________________________________________________________\n"
     ]
    }
   ],
   "source": [
    "model = compiled_tcn(return_sequences=False,\n",
    "                         num_feat=1,\n",
    "                         num_classes=10,\n",
    "                         nb_filters=10,\n",
    "                         kernel_size=10,\n",
    "                         dilations=[1, 2, 4, 8, 16, 32],\n",
    "                         nb_stacks=6,\n",
    "                         max_len=x_train[0:1].shape[1],\n",
    "                         use_skip_connections=False)\n",
    "model.summary()"
   ]
  },
  {
   "cell_type": "code",
   "execution_count": 14,
   "metadata": {
    "colab": {
     "base_uri": "https://localhost:8080/",
     "height": 357
    },
    "colab_type": "code",
    "id": "gigAUKI0VSUO",
    "outputId": "6a968760-3d2d-4871-d40e-ea967d84cdbb"
   },
   "outputs": [
    {
     "name": "stdout",
     "output_type": "stream",
     "text": [
      "Epoch 1/10\n",
      "32/32 [==============================] - 4s 116ms/step - loss: 4.7999 - accuracy: 0.8525\n",
      "Epoch 2/10\n",
      "32/32 [==============================] - 4s 121ms/step - loss: 0.0022 - accuracy: 0.9990\n",
      "Epoch 3/10\n",
      "32/32 [==============================] - 4s 119ms/step - loss: 6.4029e-05 - accuracy: 1.0000\n",
      "Epoch 4/10\n",
      "32/32 [==============================] - 4s 120ms/step - loss: 6.0811e-05 - accuracy: 1.0000\n",
      "Epoch 5/10\n",
      "32/32 [==============================] - 4s 118ms/step - loss: 1.1593e-04 - accuracy: 1.0000\n",
      "Epoch 6/10\n",
      "32/32 [==============================] - 4s 119ms/step - loss: 1.0923e-05 - accuracy: 1.0000\n",
      "Epoch 7/10\n",
      "32/32 [==============================] - 4s 122ms/step - loss: 7.6293e-06 - accuracy: 1.0000\n",
      "Epoch 8/10\n",
      "32/32 [==============================] - 4s 125ms/step - loss: 2.6019e-04 - accuracy: 1.0000\n",
      "Epoch 9/10\n",
      "32/32 [==============================] - 4s 120ms/step - loss: 4.6707e-05 - accuracy: 1.0000\n",
      "Epoch 10/10\n",
      "32/32 [==============================] - 4s 123ms/step - loss: 1.2664e-05 - accuracy: 1.0000\n"
     ]
    }
   ],
   "source": [
    "history = model.fit(x_train, y_train, epochs=10)"
   ]
  },
  {
   "cell_type": "code",
   "execution_count": 15,
   "metadata": {
    "colab": {
     "base_uri": "https://localhost:8080/",
     "height": 68
    },
    "colab_type": "code",
    "id": "_Hsxwp42VZug",
    "outputId": "7bf33fae-0ef5-48a8-8d4c-82a8eefd6a63"
   },
   "outputs": [
    {
     "name": "stdout",
     "output_type": "stream",
     "text": [
      "32/32 [==============================] - 1s 41ms/step - loss: 1.1921e-07 - accuracy: 1.0000\n",
      "Accuracy : 100.00 %\n",
      "Loss : 0.00 %\n"
     ]
    }
   ],
   "source": [
    "result = model.evaluate(x_train, y_train)\n",
    "print(f\"Accuracy : {result[1] * 100:.2f} %\")\n",
    "print(f\"Loss : {result[0] * 100:.2f} %\")"
   ]
  },
  {
   "cell_type": "code",
   "execution_count": 16,
   "metadata": {
    "colab": {
     "base_uri": "https://localhost:8080/",
     "height": 422
    },
    "colab_type": "code",
    "id": "x85yW-baVwhC",
    "outputId": "2b5dbc16-6d56-47dc-8f6e-b9e6fec67cbe"
   },
   "outputs": [
    {
     "data": {
      "image/png": "[encoded data removed]",
      "text/plain": [
       "<IPython.core.display.Image object>"
      ]
     },
     "execution_count": 16,
     "metadata": {
      "tags": []
     },
     "output_type": "execute_result"
    }
   ],
   "source": [
    "from tensorflow import keras\n",
    "keras.utils.plot_model(model, show_shapes=True)"
   ]
  },
  {
   "cell_type": "code",
   "execution_count": 20,
   "metadata": {
    "colab": {
     "base_uri": "https://localhost:8080/",
     "height": 295
    },
    "colab_type": "code",
    "id": "SvCoSymaV0mR",
    "outputId": "e628a1e0-b027-41e7-d221-28003242b8c7"
   },
   "outputs": [
    {
     "data": {
      "image/png": "[encoded data removed]",
      "text/plain": [
       "<Figure size 432x288 with 1 Axes>"
      ]
     },
     "metadata": {
      "needs_background": "light",
      "tags": []
     },
     "output_type": "display_data"
    }
   ],
   "source": [
    "from matplotlib import pyplot as plt\n",
    "%matplotlib inline\n",
    "plt.plot(history.history['accuracy'])\n",
    "plt.plot(history.history['loss'])\n",
    "plt.title('Model Performance')\n",
    "plt.ylabel('accuracy')\n",
    "plt.xlabel('epoch')\n",
    "plt.legend(['Accuracy', 'Loss'], loc='upper left')\n",
    "lt.show()"
   ]
  },
  {
   "cell_type": "code",
   "execution_count": 30,
   "metadata": {
    "colab": {},
    "colab_type": "code",
    "id": "OoSCWvkdWNAi"
   },
   "outputs": [],
   "source": [
    "from sklearn.metrics import accuracy_score\n",
    "from sklearn.metrics import precision_score\n",
    "from sklearn.metrics import recall_score\n",
    "from sklearn.metrics import f1_score\n",
    "from sklearn.metrics import cohen_kappa_score\n",
    "from sklearn.metrics import roc_auc_score\n",
    "from sklearn.metrics import confusion_matrix, classification_report\n",
    "import seaborn as sns\n"
   ]
  },
  {
   "cell_type": "code",
   "execution_count": 31,
   "metadata": {
    "colab": {
     "base_uri": "https://localhost:8080/",
     "height": 469
    },
    "colab_type": "code",
    "id": "-re6OXH3Wz3o",
    "outputId": "5ed1f3ea-15ee-4ebc-acb9-833fb2cfa2ef"
   },
   "outputs": [
    {
     "name": "stdout",
     "output_type": "stream",
     "text": [
      "Cohens kappa: 1.000000\n",
      "ROC AUC: 1.000000\n",
      "              precision    recall  f1-score   support\n",
      "\n",
      "         0.0       1.00      1.00      1.00       512\n",
      "         1.0       1.00      1.00      1.00       512\n",
      "\n",
      "    accuracy                           1.00      1024\n",
      "   macro avg       1.00      1.00      1.00      1024\n",
      "weighted avg       1.00      1.00      1.00      1024\n",
      "\n"
     ]
    },
    {
     "data": {
      "text/plain": [
       "<matplotlib.axes._subplots.AxesSubplot at 0x7efc771fe278>"
      ]
     },
     "execution_count": 31,
     "metadata": {
      "tags": []
     },
     "output_type": "execute_result"
    },
    {
     "data": {
      "image/png": "[encoded data removed]",
      "text/plain": [
       "<Figure size 432x288 with 2 Axes>"
      ]
     },
     "metadata": {
      "needs_background": "light",
      "tags": []
     },
     "output_type": "display_data"
    }
   ],
   "source": [
    "# predict probabilities for test set\n",
    "yhat_probs = np.argmax(model.predict(x_train, verbose=0), axis=1)\n",
    " \n",
    "# kappa\n",
    "kappa = cohen_kappa_score(y_train, yhat_probs)\n",
    "print('Cohens kappa: %f' % kappa)\n",
    "# ROC AUC\n",
    "auc = roc_auc_score(y_train, yhat_probs)\n",
    "print('ROC AUC: %f' % auc)\n",
    "\n",
    "print(classification_report(y_train, yhat_probs))\n",
    "# confusion matrix\n",
    "matrix = confusion_matrix(y_train, yhat_probs)\n",
    "sns.heatmap(matrix, annot=True)"
   ]
  }
 ],
 "metadata": {
  "colab": {
   "authorship_tag": "ABX9TyPm/Y68WZ6ETHqGYGSqdExr",
   "collapsed_sections": [],
   "include_colab_link": true,
   "name": "TCN_Self_generated Data Training.ipynb",
   "provenance": []
  },
  "kernelspec": {
   "display_name": "Python 3",
   "name": "python3"
  }
 },
 "nbformat": 4,
 "nbformat_minor": 0
}
